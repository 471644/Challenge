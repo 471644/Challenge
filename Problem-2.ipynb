{
 "cells": [
  {
   "cell_type": "markdown",
   "metadata": {},
   "source": [
    "# Problem Statement -II "
   ]
  },
  {
   "cell_type": "markdown",
   "metadata": {},
   "source": [
    "********************************"
   ]
  },
  {
   "cell_type": "markdown",
   "metadata": {},
   "source": [
    "    ** Develop a model to predict Body Mass Index (BMI). \n",
    "    As independent predictor variables Use the **demographic data** from the previous part of the test. Focus on the interpretability of your findings as well model performance. \n",
    "    The target variable for this problem can be found in the file ‘BMX_I.csv’. \n",
    "    You may choose the form &/or algorithm(s) for presenting the model’s interpretation or explanation as you deem appropriate."
   ]
  },
  {
   "cell_type": "markdown",
   "metadata": {},
   "source": [
    "    1. ** Data Preparation **\n",
    "        a. Null Check\n",
    "        b. Zero Variance Check\n",
    "        c. Duplicate Check\n",
    "        d. Quasi Variance Check\n",
    "        \n",
    "    2. ** EDA **\n",
    "        a. Observation basic Bi-variate analysis , Corr analysis\n",
    "        \n",
    "    3. ** Feature Engineering **\n",
    "        a. Basic Feature Transformation \n",
    "        b. 3-degree Polynomial Transformation\n",
    "        c. Feature selection based on general understanding\n",
    "        \n",
    "    4. ** Model Development & Validation **\n",
    "        a. Linear Regression\n",
    "        b. Random Forest Regression\n",
    "        b. LGBM Regression\n",
    "    5.  Hyper Parameter tuning and Final model\n",
    "    \n",
    "    6. ** Model Interpretation\n",
    "        a. Feature Importance/Ranking\n",
    "        "
   ]
  },
  {
   "cell_type": "markdown",
   "metadata": {},
   "source": [
    "# Import Libraries"
   ]
  },
  {
   "cell_type": "code",
   "execution_count": 1,
   "metadata": {},
   "outputs": [],
   "source": [
    "import os\n",
    "import glob\n",
    "import time\n",
    "import math\n",
    "import warnings\n",
    "import datetime\n",
    "import numpy as np\n",
    "import pandas as pd\n",
    "import seaborn as sns\n",
    "from pathlib import Path\n",
    "import matplotlib.cm as cm\n",
    "import dask.dataframe as dd\n",
    "import matplotlib.pyplot as plt\n",
    "from multiprocessing import Pool\n",
    "import matplotlib.lines as mlines\n",
    "from mpl_toolkits.mplot3d import Axes3D\n",
    "import statsmodels.api as sm "
   ]
  },
  {
   "cell_type": "markdown",
   "metadata": {},
   "source": [
    "## Model & Preprocessing Libraries"
   ]
  },
  {
   "cell_type": "code",
   "execution_count": 2,
   "metadata": {},
   "outputs": [],
   "source": [
    "import gc\n",
    "import shap\n",
    "import ppscore as pps\n",
    "import lightgbm as lgb\n",
    "import missingno as msno\n",
    "from sklearn import metrics\n",
    "import category_encoders as ce\n",
    "from hyperopt import Trials,hp, tpe\n",
    "from hyperopt.fmin import fmin\n",
    "import statsmodels.api as sm\n",
    "import statsmodels.formula.api as smf\n",
    "from sklearn.metrics import make_scorer\n",
    "from sklearn.pipeline import make_pipeline\n",
    "from sklearn.ensemble import RandomForestRegressor\n",
    "from sklearn.tree import DecisionTreeRegressor\n",
    "from sklearn.linear_model import LinearRegression\n",
    "from sklearn.model_selection import train_test_split\n",
    "from sklearn.ensemble import RandomForestClassifier\n",
    "from sklearn.preprocessing import PolynomialFeatures\n",
    "from sklearn.feature_selection import VarianceThreshold\n",
    "from sklearn.model_selection import cross_val_score, StratifiedKFold, learning_curve, cross_validate"
   ]
  },
  {
   "cell_type": "markdown",
   "metadata": {},
   "source": [
    "# Display Settings "
   ]
  },
  {
   "cell_type": "code",
   "execution_count": 3,
   "metadata": {},
   "outputs": [],
   "source": [
    "sns.set(style=\"whitegrid\", color_codes=True)\n",
    "%matplotlib inline\n",
    "warnings.filterwarnings(\"ignore\")\n",
    "pd.set_option('max_colwidth', 999)\n",
    "pd.set_option('display.max_columns', 999)\n",
    "pd.set_option(\"display.max_rows\", 999)"
   ]
  },
  {
   "cell_type": "markdown",
   "metadata": {},
   "source": [
    "#### Custom Functions"
   ]
  },
  {
   "cell_type": "code",
   "execution_count": 4,
   "metadata": {},
   "outputs": [],
   "source": [
    "def quantitative_summarized(dataframe, x=None, y=None, hue=None, palette='Set1', ax=None, verbose=True, swarm=False):\n",
    "    '''\n",
    "    Helper function that gives a quick summary of quantattive data\n",
    "    Arguments\n",
    "    =========\n",
    "    dataframe: pandas dataframe\n",
    "    x: str. horizontal axis to plot the labels of categorical data (usually the target variable)\n",
    "    y: str. vertical axis to plot the quantitative data\n",
    "    hue: str. if you want to compare it another categorical variable (usually the target variable if x is another variable)\n",
    "    palette: array-like. Colour of the plot\n",
    "    swarm: if swarm is set to True, a swarm plot would be overlayed\n",
    "    Returns\n",
    "    =======\n",
    "    Quick Stats of the data and also the box plot of the distribution\n",
    "    '''\n",
    "    print(\"**************************************************\")\n",
    "    print(\"Feature name:\",x)\n",
    "    print(\"Target name:\",y)\n",
    "    print(\"**************************************************\")\n",
    "    print(\"Group by count:\\n\",dataframe[x].value_counts())\n",
    "    print(\"**************************************************\")\n",
    "    print(\"Group by Mean:\\n\",dataframe.groupby(x)[y].mean())\n",
    "    print(\"**************************************************\")\n",
    "    series = dataframe[y]\n",
    "#     print(series.describe())\n",
    "#    print('mode: ', series.mode())\n",
    "    if verbose:\n",
    "        print('='*80)\n",
    "        print(series.value_counts())\n",
    "\n",
    "    sns.boxplot(x=x, y=y, hue=hue, data=dataframe, palette=palette, ax=ax)\n",
    "\n",
    "    if swarm:\n",
    "        sns.boxplot(x=x, y=y, hue=hue, data=dataframe,\n",
    "                      palette=palette, ax=ax)\n",
    "\n",
    "    plt.show()"
   ]
  },
  {
   "cell_type": "markdown",
   "metadata": {},
   "source": [
    "# Load Data "
   ]
  },
  {
   "cell_type": "markdown",
   "metadata": {},
   "source": [
    "    ** As we have to use the Demographic data for predicting the BMI for the person. I will be using the pre-processed data from my problem statement-I.\n",
    "    I will be joining it with BMI dataframe and extract the required column"
   ]
  },
  {
   "cell_type": "code",
   "execution_count": 5,
   "metadata": {},
   "outputs": [
    {
     "name": "stdout",
     "output_type": "stream",
     "text": [
      "Demo_df Shape (8966, 42)\n",
      "Bmi_df Shape (9544, 26)\n",
      "merged_df shape (8966, 45)\n"
     ]
    }
   ],
   "source": [
    "demo_df = pd.read_csv(\"demo_df.csv\")\n",
    "bmi_df = pd.read_csv(\"BMX_I.csv\")\n",
    "print(\"Demo_df Shape\",demo_df.shape)\n",
    "print(\"Bmi_df Shape\",bmi_df.shape)\n",
    "DEMO_I = pd.read_csv(\"DEMO_I.csv\")\n",
    "merged_df = pd.merge(demo_df,bmi_df[['SEQN','BMXWT','BMXHT','BMXBMI']],how='inner',left_on='SEQN',right_on='SEQN')\n",
    "print(\"merged_df shape\",merged_df.shape)\n",
    "demo_columns = [\"SEQN\",\"INDFMPIR\",\"INDFMIN2\"]"
   ]
  },
  {
   "cell_type": "code",
   "execution_count": 6,
   "metadata": {},
   "outputs": [],
   "source": [
    "bmi_data = pd.merge(merged_df,DEMO_I[demo_columns],how='inner',left_on='SEQN',right_on='SEQN')"
   ]
  },
  {
   "cell_type": "code",
   "execution_count": 7,
   "metadata": {},
   "outputs": [],
   "source": [
    "del demo_df,bmi_df,DEMO_I"
   ]
  },
  {
   "cell_type": "markdown",
   "metadata": {},
   "source": [
    "# Intial analysis and Data Prep."
   ]
  },
  {
   "cell_type": "markdown",
   "metadata": {},
   "source": [
    "******************************"
   ]
  },
  {
   "cell_type": "markdown",
   "metadata": {},
   "source": [
    "## Missing Values || Null Check "
   ]
  },
  {
   "cell_type": "code",
   "execution_count": 8,
   "metadata": {},
   "outputs": [
    {
     "data": {
      "text/plain": [
       "BMXBMI      8.387241\n",
       "BMXHT       8.253402\n",
       "INDFMPIR    6.981932\n",
       "BMXWT       1.037252\n",
       "INDFMIN2    0.000000\n",
       "dtype: float64"
      ]
     },
     "execution_count": 8,
     "metadata": {},
     "output_type": "execute_result"
    }
   ],
   "source": [
    "((bmi_data.isnull().sum()/bmi_data.shape[0])*100).sort_values(ascending=False)[:5]"
   ]
  },
  {
   "cell_type": "markdown",
   "metadata": {},
   "source": [
    "    ** As we can see the missing values exist in the BMX-Height || BMX-Weight and BMX-BMI columns in which BMX-BMI column is the target column.\n",
    "    Initally, I was thinking to use BMX-Ht and BMX-Wt to preform the missing value imputation However, it seems the missing values are equally distributed for\n",
    "    BMX-BMI and BMX-HT column so, I will have to use apporach-II for treatment.\n",
    "    \n",
    "    ** The data which contain missing data rows will be ommited."
   ]
  },
  {
   "cell_type": "code",
   "execution_count": 9,
   "metadata": {},
   "outputs": [],
   "source": [
    "bmi_data = bmi_data[bmi_data['BMXBMI'].isnull()==False].copy()"
   ]
  },
  {
   "cell_type": "code",
   "execution_count": 10,
   "metadata": {},
   "outputs": [
    {
     "data": {
      "text/plain": [
       "INDFMPIR    7.012418\n",
       "MIAINTRP    0.000000\n",
       "MIAPROXY    0.000000\n",
       "dtype: float64"
      ]
     },
     "execution_count": 10,
     "metadata": {},
     "output_type": "execute_result"
    }
   ],
   "source": [
    "((bmi_data.isnull().sum()/bmi_data.shape[0])*100).sort_values(ascending=False)[:3]"
   ]
  },
  {
   "cell_type": "markdown",
   "metadata": {},
   "source": [
    "        ** we could see the INDFMPIR is having missing values and were no treated as part of demographic data as remove being a leakage column.So I will impute the same with -999.0"
   ]
  },
  {
   "cell_type": "code",
   "execution_count": 11,
   "metadata": {},
   "outputs": [],
   "source": [
    "bmi_data['INDFMPIR'] = np.where(bmi_data['INDFMPIR'].isnull()==True,-999.0,bmi_data['INDFMPIR'])"
   ]
  },
  {
   "cell_type": "code",
   "execution_count": 12,
   "metadata": {},
   "outputs": [
    {
     "data": {
      "text/plain": [
       "INDFMIN2    0.0\n",
       "DMDEDUC3    0.0\n",
       "MIALANG     0.0\n",
       "dtype: float64"
      ]
     },
     "execution_count": 12,
     "metadata": {},
     "output_type": "execute_result"
    }
   ],
   "source": [
    "((bmi_data.isnull().sum()/bmi_data.shape[0])*100).sort_values(ascending=False)[:3]"
   ]
  },
  {
   "cell_type": "markdown",
   "metadata": {},
   "source": [
    "#### Assign datatype INT to INT-columns having FLOAT datatype"
   ]
  },
  {
   "cell_type": "code",
   "execution_count": 13,
   "metadata": {},
   "outputs": [],
   "source": [
    "for c in bmi_data.columns:\n",
    "    if(np.array_equal(bmi_data[c].round(7), bmi_data[c].astype(int))==True):\n",
    "        bmi_data[c] = bmi_data[c].astype(int)"
   ]
  },
  {
   "cell_type": "markdown",
   "metadata": {},
   "source": [
    "# Data Split "
   ]
  },
  {
   "cell_type": "markdown",
   "metadata": {},
   "source": [
    "    `** Post pre-processing is done we will split the dataframe into train and test "
   ]
  },
  {
   "cell_type": "code",
   "execution_count": 14,
   "metadata": {},
   "outputs": [],
   "source": [
    "X_train, X_test, y_train, y_test = train_test_split(bmi_data.drop(columns=['BMXBMI',\"SEQN\"]), bmi_data.BMXBMI,\n",
    "                                                    test_size=0.2,\n",
    "                                                    random_state=9)"
   ]
  },
  {
   "cell_type": "code",
   "execution_count": 15,
   "metadata": {},
   "outputs": [
    {
     "name": "stdout",
     "output_type": "stream",
     "text": [
      "train df shape :- (6571, 45)\n",
      "test df shape :- (1643, 45)\n",
      "train target shape :- (6571,)\n",
      "test target shape :- (1643,)\n"
     ]
    }
   ],
   "source": [
    "print(\"train df shape :-\",X_train.shape)\n",
    "print(\"test df shape :-\",X_test.shape)\n",
    "\n",
    "print(\"train target shape :-\",y_train.shape)\n",
    "print(\"test target shape :-\",y_test.shape)"
   ]
  },
  {
   "cell_type": "markdown",
   "metadata": {},
   "source": [
    "## Exploratory Data Analysis"
   ]
  },
  {
   "cell_type": "markdown",
   "metadata": {},
   "source": [
    "************************************************"
   ]
  },
  {
   "cell_type": "markdown",
   "metadata": {},
   "source": [
    "    ** Based on my understanding thus far there would certain factors which will play pivitol role in deciding the BMI of an individual. I would consider these \n",
    "    following attributes on an individual being scrutinized for exploration and then feature engineering :\n",
    "            i.   Age \n",
    "            ii.  Gender \n",
    "            iii. Ethenicity\n",
    "            iv.  Ex-Army\n",
    "            v.   Marital Status\n",
    "            vi.  Born in US or not\n",
    "            vii. Number of childern in the family."
   ]
  },
  {
   "cell_type": "markdown",
   "metadata": {},
   "source": [
    "    ** Columns associated with the above attributes are as follows :\n",
    "        1. RIDAGEYR :- Age in years at screening\n",
    "        2. RIDAGEMN :- Age in months at screening  0 to 24 mos\n",
    "        3. RIDEXAGM :- Age in months at exam  0 to 19 years\n",
    "        5. RIDEXPRG :- Pregnancy status at exam\n",
    "        6. RIDRETH3 :- Race/Hispanic origin w/ NH Asian\n",
    "        7. RIDRETH1 :- Race/Hispanic origin\n",
    "        8. DMQMILIZ :- Served active duty in US Armed Forces\n",
    "        9. DMDCITZN :- Citizenship status\n",
    "        10. DMDMARTL :- Marital status\n",
    "        11. DMDYRSUS :- Length of time in US\n",
    "        12. DMQADFC :- Served in a foreign country\n",
    "        13. INDFMPIR :- Ratio of family income to poverty\n",
    "        14. INDHHIN2 :- Annual household income\n",
    "        15. INDFMIN2 :- Annual family income\n",
    "        16. DMDBORN4 :- Country of birth\n",
    "        17. RIAGENDR :- Gender\n",
    "        18. DMDHRAGE :- HH ref person's age in years\n",
    "        19. RIDEXMON :- Six month time period\n",
    "        20. DMDHRMAR :- HH ref person's marital status\n",
    "        21. DMDHHSZA :- # of children 5 years or younger in HH\n",
    "        22. DMDHHSZB :- # of children 617 years old in HH\n",
    "        23. MDHHSZE :- # of adults 60 years or older in HH\n",
    "        24. INDFMIN2 : - Annual family income\n",
    "        25. INDHHIN2 :‑ Annual household income"
   ]
  },
  {
   "cell_type": "code",
   "execution_count": 16,
   "metadata": {},
   "outputs": [],
   "source": [
    "selected_cols = list(set([\"RIDAGEYR\",\"RIDAGEMN\",\"RIDEXAGM\",\"RIDEXPRG\",\"RIDRETH3\",\"RIDRETH1\",\"DMQMILIZ\",\"DMDCITZN\",\"DMDMARTL\",\"DMDYRSUS\",\"DMQADFC\",\"INDFMPIR\",\"INDHHIN2\",\"INDFMIN2\",\"DMDBORN4\",\"RIAGENDR\",\"DMDHRAGE\",\"RIDEXMON\",\"DMDHRMAR\",\"DMDHHSZA\",\"DMDHHSZB\",\"MDHHSZE\",\"WTMEC2YR\",\"WTINT2YR\",'INDFMIN2','INDHHIN2']))\n",
    "\n",
    "actual_cols = []\n",
    "\n",
    "for column in selected_cols:\n",
    "    present_col = bmi_data.filter(regex=column).columns[0]\n",
    "    actual_cols.append(present_col)\n",
    "    \n",
    "X_train = X_train[actual_cols]\n",
    "X_test = X_test[actual_cols]"
   ]
  },
  {
   "cell_type": "code",
   "execution_count": 17,
   "metadata": {},
   "outputs": [
    {
     "data": {
      "text/plain": [
       "<matplotlib.axes._subplots.AxesSubplot at 0x7fbf58ac84a8>"
      ]
     },
     "execution_count": 17,
     "metadata": {},
     "output_type": "execute_result"
    },
    {
     "data": {
      "image/png": "[encoded data removed]",
      "text/plain": [
       "<Figure size 1440x360 with 1 Axes>"
      ]
     },
     "metadata": {},
     "output_type": "display_data"
    }
   ],
   "source": [
    "data = pd.concat([X_train,y_train],axis=1,copy=True,ignore_index=False)\n",
    "data.apply(lambda x : x.corr(data.BMXBMI)).sort_values(ascending=False).plot(kind='bar',figsize=(20,5))"
   ]
  },
  {
   "cell_type": "markdown",
   "metadata": {},
   "source": [
    "    ** As we couls see from above there many features which are highly correlated with target varibale. We will do further analysis on same."
   ]
  },
  {
   "cell_type": "markdown",
   "metadata": {},
   "source": [
    "### Numeric Data analysis"
   ]
  },
  {
   "cell_type": "code",
   "execution_count": 18,
   "metadata": {},
   "outputs": [],
   "source": [
    "numeric_cols = ['DMDHRAGE','INDFMPIR','WTMEC2YR','WTINT2YR','RIDAGEYR']"
   ]
  },
  {
   "cell_type": "code",
   "execution_count": 19,
   "metadata": {},
   "outputs": [
    {
     "data": {
      "text/plain": [
       "array([[<matplotlib.axes._subplots.AxesSubplot object at 0x7fbf589d6d30>,\n",
       "        <matplotlib.axes._subplots.AxesSubplot object at 0x7fbf551866a0>],\n",
       "       [<matplotlib.axes._subplots.AxesSubplot object at 0x7fbf55133048>,\n",
       "        <matplotlib.axes._subplots.AxesSubplot object at 0x7fbf551549b0>],\n",
       "       [<matplotlib.axes._subplots.AxesSubplot object at 0x7fbf55101358>,\n",
       "        <matplotlib.axes._subplots.AxesSubplot object at 0x7fbf550a7cc0>]],\n",
       "      dtype=object)"
      ]
     },
     "execution_count": 19,
     "metadata": {},
     "output_type": "execute_result"
    },
    {
     "data": {
      "image/png": "[encoded data removed]",
      "text/plain": [
       "<Figure size 720x720 with 6 Axes>"
      ]
     },
     "metadata": {},
     "output_type": "display_data"
    }
   ],
   "source": [
    "X_train[numeric_cols].hist(bins=20, figsize=(10, 10))"
   ]
  },
  {
   "cell_type": "code",
   "execution_count": 20,
   "metadata": {},
   "outputs": [
    {
     "data": {
      "text/plain": [
       "<seaborn.axisgrid.FacetGrid at 0x7fbf54fdab00>"
      ]
     },
     "execution_count": 20,
     "metadata": {},
     "output_type": "execute_result"
    },
    {
     "data": {
      "image/png": "[encoded data removed]",
      "text/plain": [
       "<Figure size 360x360 with 1 Axes>"
      ]
     },
     "metadata": {},
     "output_type": "display_data"
    }
   ],
   "source": [
    "sns.lmplot(x='WTMEC2YR',y='BMXBMI',data=data)"
   ]
  },
  {
   "cell_type": "code",
   "execution_count": 21,
   "metadata": {},
   "outputs": [
    {
     "data": {
      "text/plain": [
       "<seaborn.axisgrid.FacetGrid at 0x7fbf54e81cf8>"
      ]
     },
     "execution_count": 21,
     "metadata": {},
     "output_type": "execute_result"
    },
    {
     "data": {
      "image/png": "[encoded data removed]",
      "text/plain": [
       "<Figure size 360x360 with 1 Axes>"
      ]
     },
     "metadata": {},
     "output_type": "display_data"
    }
   ],
   "source": [
    "sns.lmplot(x='WTINT2YR',y='BMXBMI',data=data)"
   ]
  },
  {
   "cell_type": "code",
   "execution_count": 22,
   "metadata": {},
   "outputs": [
    {
     "data": {
      "text/plain": [
       "<seaborn.axisgrid.FacetGrid at 0x7fbf54e81d68>"
      ]
     },
     "execution_count": 22,
     "metadata": {},
     "output_type": "execute_result"
    },
    {
     "data": {
      "image/png": "[encoded data removed]",
      "text/plain": [
       "<Figure size 360x360 with 1 Axes>"
      ]
     },
     "metadata": {},
     "output_type": "display_data"
    }
   ],
   "source": [
    "sns.lmplot(x='INDFMPIR',y='BMXBMI',data=data[data['INDFMPIR']>-10])"
   ]
  },
  {
   "cell_type": "markdown",
   "metadata": {},
   "source": [
    "      **we will be keeping the age related data as is which are count varibales. \n",
    "      We will convert the other numeric varibales for more normality in feature engg, section."
   ]
  },
  {
   "cell_type": "markdown",
   "metadata": {},
   "source": [
    "### Categorical Feature Analysis\n"
   ]
  },
  {
   "cell_type": "markdown",
   "metadata": {},
   "source": [
    "        **** Bivariate analysis with target variable"
   ]
  },
  {
   "cell_type": "code",
   "execution_count": 23,
   "metadata": {},
   "outputs": [],
   "source": [
    "## Categorical data one hot encoding\n",
    "cat_cols = ['RIDEXAGM', 'RIDEXPRG', 'RIDRETH3', 'RIDRETH1', 'DMQMILIZ', 'DMDCITZN', 'DMDMARTL',\n",
    "       'DMDYRSUS', 'INDHHIN2', 'INDFMIN2', 'DMDBORN4', 'RIAGENDR', 'RIDEXMON', 'DMDHRMAR',\n",
    "       'DMDHHSZA', 'DMDHHSZB', 'DMDHHSZE']\n",
    "\n",
    "## Convert Categorical data to objects for futher analysis\n",
    "for _c in cat_cols:\n",
    "    X_train[_c] = X_train[_c].astype('object')\n",
    "    \n",
    "for _c in cat_cols:\n",
    "    X_test[_c] = X_test[_c].astype('object')"
   ]
  },
  {
   "cell_type": "code",
   "execution_count": 24,
   "metadata": {},
   "outputs": [
    {
     "name": "stdout",
     "output_type": "stream",
     "text": [
      "**************************************************\n",
      "Feature name: DMQMILIZ\n",
      "Target name: BMXBMI\n",
      "**************************************************\n",
      "Group by count:\n",
      "  2      3933\n",
      "-999    2255\n",
      " 1       383\n",
      "Name: DMQMILIZ, dtype: int64\n",
      "**************************************************\n",
      "Group by Mean:\n",
      " DMQMILIZ\n",
      "-999    19.535477\n",
      " 1      30.272585\n",
      " 2      29.350191\n",
      "Name: BMXBMI, dtype: float64\n",
      "**************************************************\n"
     ]
    },
    {
     "data": {
      "image/png": "[encoded data removed]",
      "text/plain": [
       "<Figure size 432x288 with 1 Axes>"
      ]
     },
     "metadata": {},
     "output_type": "display_data"
    }
   ],
   "source": [
    "quantitative_summarized(dataframe= data, y = 'BMXBMI', x = 'DMQMILIZ', verbose=False, swarm=False)"
   ]
  },
  {
   "cell_type": "code",
   "execution_count": 25,
   "metadata": {},
   "outputs": [
    {
     "name": "stdout",
     "output_type": "stream",
     "text": [
      "**************************************************\n",
      "Feature name: DMDMARTL\n",
      "Target name: BMXBMI\n",
      "**************************************************\n",
      "Group by count:\n",
      " -999    2521\n",
      " 1      2074\n",
      " 5       730\n",
      " 3       433\n",
      " 6       387\n",
      " 2       282\n",
      " 4       143\n",
      " 77        1\n",
      "Name: DMDMARTL, dtype: int64\n",
      "**************************************************\n",
      "Group by Mean:\n",
      " DMDMARTL\n",
      "-999    20.198612\n",
      " 1      29.595950\n",
      " 2      29.785461\n",
      " 3      30.452887\n",
      " 4      31.534965\n",
      " 5      28.935205\n",
      " 6      29.796641\n",
      " 77     29.400000\n",
      "Name: BMXBMI, dtype: float64\n",
      "**************************************************\n"
     ]
    },
    {
     "data": {
      "image/png": "[encoded data removed]",
      "text/plain": [
       "<Figure size 432x288 with 1 Axes>"
      ]
     },
     "metadata": {},
     "output_type": "display_data"
    }
   ],
   "source": [
    "quantitative_summarized(dataframe= data, y = 'BMXBMI', x = 'DMDMARTL', verbose=False, swarm=False)"
   ]
  },
  {
   "cell_type": "code",
   "execution_count": 26,
   "metadata": {},
   "outputs": [
    {
     "name": "stdout",
     "output_type": "stream",
     "text": [
      "**************************************************\n",
      "Feature name: DMDHHSZE\n",
      "Target name: BMXBMI\n",
      "**************************************************\n",
      "Group by count:\n",
      " 0    4683\n",
      "1    1094\n",
      "2     751\n",
      "3      43\n",
      "Name: DMDHHSZE, dtype: int64\n",
      "**************************************************\n",
      "Group by Mean:\n",
      " DMDHHSZE\n",
      "0    24.999466\n",
      "1    28.374314\n",
      "2    28.915180\n",
      "3    29.113953\n",
      "Name: BMXBMI, dtype: float64\n",
      "**************************************************\n"
     ]
    },
    {
     "data": {
      "image/png": "[encoded data removed]",
      "text/plain": [
       "<Figure size 432x288 with 1 Axes>"
      ]
     },
     "metadata": {},
     "output_type": "display_data"
    }
   ],
   "source": [
    "quantitative_summarized(dataframe= data, y = 'BMXBMI', x = 'DMDHHSZE', verbose=False, swarm=True)"
   ]
  },
  {
   "cell_type": "code",
   "execution_count": 27,
   "metadata": {},
   "outputs": [
    {
     "name": "stdout",
     "output_type": "stream",
     "text": [
      "**************************************************\n",
      "Feature name: RIDEXPRG\n",
      "Target name: BMXBMI\n",
      "**************************************************\n",
      "Group by count:\n",
      " -999    5643\n",
      " 2       848\n",
      " 1        52\n",
      " 3        28\n",
      "Name: RIDEXPRG, dtype: int64\n",
      "**************************************************\n",
      "Group by Mean:\n",
      " RIDEXPRG\n",
      "-999    25.445100\n",
      " 1      29.667308\n",
      " 2      29.643042\n",
      " 3      29.089286\n",
      "Name: BMXBMI, dtype: float64\n",
      "**************************************************\n"
     ]
    },
    {
     "data": {
      "image/png": "[encoded data removed]",
      "text/plain": [
       "<Figure size 432x288 with 1 Axes>"
      ]
     },
     "metadata": {},
     "output_type": "display_data"
    }
   ],
   "source": [
    "quantitative_summarized(dataframe= data, y = 'BMXBMI', x = 'RIDEXPRG', verbose=False, swarm=True)"
   ]
  },
  {
   "cell_type": "code",
   "execution_count": 28,
   "metadata": {},
   "outputs": [
    {
     "name": "stdout",
     "output_type": "stream",
     "text": [
      "**************************************************\n",
      "Feature name: RIAGENDR\n",
      "Target name: BMXBMI\n",
      "**************************************************\n",
      "Group by count:\n",
      " 2    3312\n",
      "1    3259\n",
      "Name: RIAGENDR, dtype: int64\n",
      "**************************************************\n",
      "Group by Mean:\n",
      " RIAGENDR\n",
      "1    25.497637\n",
      "2    26.565338\n",
      "Name: BMXBMI, dtype: float64\n",
      "**************************************************\n"
     ]
    },
    {
     "data": {
      "image/png": "[encoded data removed]",
      "text/plain": [
       "<Figure size 432x288 with 1 Axes>"
      ]
     },
     "metadata": {},
     "output_type": "display_data"
    }
   ],
   "source": [
    "quantitative_summarized(dataframe= data, y = 'BMXBMI', x = 'RIAGENDR', verbose=False, swarm=True)"
   ]
  },
  {
   "cell_type": "markdown",
   "metadata": {},
   "source": [
    "        **From above analysis, we could see that some of the cat. features , we could see that median and mean values across the categories are simillar while comparing the target accross independent feature categories. As many of the lE cat features are not ranked and may not work well for regression models."
   ]
  },
  {
   "cell_type": "code",
   "execution_count": 29,
   "metadata": {},
   "outputs": [],
   "source": [
    "###Count Encoding\n",
    "# Create the encoder itself\n",
    "target_enc = ce.CatBoostEncoder(cols=cat_cols)\n",
    "\n",
    "# Fit the encoder using the categorical features and target\n",
    "target_enc.fit(X_train[cat_cols], y_train)\n",
    "\n",
    "# Transform the features, rename the columns with _target suffix, and join to dataframe\n",
    "X_train = X_train.join(target_enc.transform(X_train[cat_cols]).add_suffix('_CB'))\n",
    "X_test = X_test.join(target_enc.transform(X_test[cat_cols]).add_suffix('_CB'))"
   ]
  },
  {
   "cell_type": "code",
   "execution_count": 30,
   "metadata": {},
   "outputs": [],
   "source": [
    "##exclude original cat cols\n",
    "X_train.drop(columns=cat_cols, inplace=True)\n",
    "X_test.drop(columns=cat_cols, inplace=True)"
   ]
  },
  {
   "cell_type": "markdown",
   "metadata": {},
   "source": [
    "        **In above , I have applied catboost encoding to nullify the effect of simmilar mean for all categorical features."
   ]
  },
  {
   "cell_type": "code",
   "execution_count": 31,
   "metadata": {},
   "outputs": [],
   "source": [
    "X_train['WTINT2YR'] = np.log(X_train['WTINT2YR'])\n",
    "X_train['WTMEC2YR'] = np.log(X_train['WTMEC2YR'])\n",
    "X_train['INDFMPIR'] = X_train['INDFMPIR']**0.5\n",
    "\n",
    "X_test['WTINT2YR'] = np.log(X_test['WTINT2YR'])\n",
    "X_test['WTMEC2YR'] = np.log(X_test['WTMEC2YR'])\n",
    "X_test['INDFMPIR'] = X_test['INDFMPIR']**0.5"
   ]
  },
  {
   "cell_type": "markdown",
   "metadata": {},
   "source": [
    "        **In above , I have applied diffrent techniques for numerical variables to make them more towards normal distribution."
   ]
  },
  {
   "cell_type": "code",
   "execution_count": 32,
   "metadata": {},
   "outputs": [
    {
     "data": {
      "text/plain": [
       "array([[<matplotlib.axes._subplots.AxesSubplot object at 0x7fbf548ec8d0>,\n",
       "        <matplotlib.axes._subplots.AxesSubplot object at 0x7fbf548b7908>],\n",
       "       [<matplotlib.axes._subplots.AxesSubplot object at 0x7fbf548d52e8>,\n",
       "        <matplotlib.axes._subplots.AxesSubplot object at 0x7fbf548e8b00>],\n",
       "       [<matplotlib.axes._subplots.AxesSubplot object at 0x7fbf54d6e198>,\n",
       "        <matplotlib.axes._subplots.AxesSubplot object at 0x7fbf54d10550>]],\n",
       "      dtype=object)"
      ]
     },
     "execution_count": 32,
     "metadata": {},
     "output_type": "execute_result"
    },
    {
     "data": {
      "image/png": "[encoded data removed]",
      "text/plain": [
       "<Figure size 720x720 with 6 Axes>"
      ]
     },
     "metadata": {},
     "output_type": "display_data"
    }
   ],
   "source": [
    "X_train[numeric_cols].hist(bins=20, figsize=(10, 10))"
   ]
  },
  {
   "cell_type": "code",
   "execution_count": 33,
   "metadata": {},
   "outputs": [],
   "source": [
    "X_train['INDFMPIR'] = np.where(X_train['INDFMPIR'].isnull()==True,-999.0,X_train['INDFMPIR'])\n",
    "X_test['INDFMPIR'] = np.where(X_test['INDFMPIR'].isnull()==True,-999.0,X_test['INDFMPIR'])"
   ]
  },
  {
   "cell_type": "markdown",
   "metadata": {},
   "source": [
    "#### 2nd-order Polynomial Feature Engineering"
   ]
  },
  {
   "cell_type": "code",
   "execution_count": 34,
   "metadata": {},
   "outputs": [],
   "source": [
    "poly = PolynomialFeatures(degree=2,interaction_only=True)\n",
    "poly.fit(X_train)\n",
    "poly_X = pd.DataFrame(poly.transform(X_train),columns=poly.get_feature_names(X_train.columns))"
   ]
  },
  {
   "cell_type": "code",
   "execution_count": 35,
   "metadata": {},
   "outputs": [
    {
     "data": {
      "text/plain": [
       "RIDRETH3_CB RIAGENDR_CB    0.039881\n",
       "RIDRETH1_CB RIAGENDR_CB    0.038773\n",
       "RIDRETH3_CB DMDCITZN_CB    0.035295\n",
       "DMDCITZN_CB RIAGENDR_CB    0.034170\n",
       "RIDRETH3_CB DMDBORN4_CB    0.033807\n",
       "RIDRETH1_CB DMDCITZN_CB    0.033648\n",
       "RIDRETH1_CB DMDBORN4_CB    0.031565\n",
       "RIDRETH3_CB                0.030703\n",
       "RIDRETH3_CB RIDRETH1_CB    0.030326\n",
       "RIAGENDR_CB                0.029484\n",
       "dtype: float64"
      ]
     },
     "execution_count": 35,
     "metadata": {},
     "output_type": "execute_result"
    }
   ],
   "source": [
    "poly_X.apply(lambda x:x.corr(y_train)).sort_values(ascending = False)[:10]"
   ]
  },
  {
   "cell_type": "markdown",
   "metadata": {},
   "source": [
    "    ** In Above have created Interaction/polynomial(2nd order) features for adding in to data based upon checking the corr. value with target.Have chosen top 2 features based on corr value."
   ]
  },
  {
   "cell_type": "code",
   "execution_count": 36,
   "metadata": {},
   "outputs": [],
   "source": [
    "X_train['RIDRETH3_CB*RIAGENDR_CB'] = X_train.RIDRETH3_CB*X_train.RIAGENDR_CB\n",
    "X_train['RIDRETH1_CB*RIAGENDR_CB'] = X_train.RIDRETH1_CB *X_train.RIAGENDR_CB\n",
    "X_train['RIDRETH3_CB*DMDCITZN_CB'] = X_train.RIDRETH3_CB *X_train.DMDCITZN_CB"
   ]
  },
  {
   "cell_type": "code",
   "execution_count": 37,
   "metadata": {},
   "outputs": [],
   "source": [
    "X_test['RIDRETH3_CB*RIAGENDR_CB'] = X_test.RIDRETH3_CB*X_test.RIAGENDR_CB\n",
    "X_test['RIDRETH1_CB*RIAGENDR_CB'] = X_test.RIDRETH1_CB *X_test.RIAGENDR_CB\n",
    "X_test['RIDRETH3_CB*DMDCITZN_CB'] = X_test.RIDRETH3_CB *X_test.DMDCITZN_CB"
   ]
  },
  {
   "cell_type": "markdown",
   "metadata": {},
   "source": [
    "#### Feature Selection for Datset:-1, using corr filter"
   ]
  },
  {
   "cell_type": "code",
   "execution_count": 38,
   "metadata": {},
   "outputs": [
    {
     "name": "stdout",
     "output_type": "stream",
     "text": [
      "No of features to drp based on corr filter- 8\n"
     ]
    }
   ],
   "source": [
    "corr_matrix = X_train.loc[:, ~X_train.columns.isin(['tag'])].corr().abs()\n",
    "\n",
    "upper = corr_matrix.where(\n",
    "    np.triu(np.ones(corr_matrix.shape), k=1).astype(np.bool))\n",
    "\n",
    "to_drop = [column for column in upper.columns if any(upper[column] > 0.8)]\n",
    "\n",
    "print(\"No of features to drp based on corr filter-\",len(to_drop))"
   ]
  },
  {
   "cell_type": "code",
   "execution_count": 39,
   "metadata": {},
   "outputs": [],
   "source": [
    "X_train.drop(columns=to_drop,inplace=True)\n",
    "X_test.drop(columns=to_drop,inplace=True)"
   ]
  },
  {
   "cell_type": "code",
   "execution_count": 40,
   "metadata": {},
   "outputs": [
    {
     "name": "stdout",
     "output_type": "stream",
     "text": [
      "Train: shape: #rows, #columns :- (6571, 19)\n",
      "Test: shape: #rows, #columns :- (1643, 19)\n"
     ]
    }
   ],
   "source": [
    "print(\"Train: shape: #rows, #columns :-\",X_train.shape)\n",
    "print(\"Test: shape: #rows, #columns :-\",X_test.shape)"
   ]
  },
  {
   "cell_type": "markdown",
   "metadata": {},
   "source": [
    "## Model Building"
   ]
  },
  {
   "cell_type": "markdown",
   "metadata": {},
   "source": [
    "***************************"
   ]
  },
  {
   "cell_type": "code",
   "execution_count": 41,
   "metadata": {},
   "outputs": [],
   "source": [
    "kfold = 5\n",
    "random_state = 9\n",
    "\n",
    "reg_models = []\n",
    "reg_models.append(LinearRegression(normalize=True,n_jobs=-1))\n",
    "reg_models.append(RandomForestRegressor(random_state=random_state,\n",
    "                                               max_depth=15,n_jobs=-1\n",
    "                                           ))\n",
    "reg_models.append(lgb.LGBMRegressor(metric=\"r2\",\n",
    "                                    num_class=1,\n",
    "                                      max_depth= 15,\n",
    "                                      num_leaves =15,\n",
    "                                      bagging_fraction = 0.8,\n",
    "                                      feature_fraction = 0.8,\n",
    "                                      bagging_frequecy = 5,\n",
    "                                      bagging_seed = 2020,\n",
    "                                      learning_rate=0.1,\n",
    "                                      random_state=random_state))"
   ]
  },
  {
   "cell_type": "code",
   "execution_count": 42,
   "metadata": {},
   "outputs": [
    {
     "name": "stdout",
     "output_type": "stream",
     "text": [
      "*********************************\n",
      "Result from Spot Check Modeling with Data\n",
      "*********************************\n",
      "\n"
     ]
    },
    {
     "data": {
      "text/html": [
       "<div>\n",
       "<style scoped>\n",
       "    .dataframe tbody tr th:only-of-type {\n",
       "        vertical-align: middle;\n",
       "    }\n",
       "\n",
       "    .dataframe tbody tr th {\n",
       "        vertical-align: top;\n",
       "    }\n",
       "\n",
       "    .dataframe thead th {\n",
       "        text-align: right;\n",
       "    }\n",
       "</style>\n",
       "<table border=\"1\" class=\"dataframe\">\n",
       "  <thead>\n",
       "    <tr style=\"text-align: right;\">\n",
       "      <th></th>\n",
       "      <th>cv_means_R2</th>\n",
       "      <th>cv_std_R2</th>\n",
       "      <th>cv_means_mse</th>\n",
       "      <th>cv_std_mse</th>\n",
       "      <th>Algorithm</th>\n",
       "    </tr>\n",
       "  </thead>\n",
       "  <tbody>\n",
       "    <tr>\n",
       "      <th>0</th>\n",
       "      <td>0.444536</td>\n",
       "      <td>0.005926</td>\n",
       "      <td>35.774091</td>\n",
       "      <td>2.936215</td>\n",
       "      <td>LinearRegression</td>\n",
       "    </tr>\n",
       "    <tr>\n",
       "      <th>1</th>\n",
       "      <td>0.420643</td>\n",
       "      <td>0.014602</td>\n",
       "      <td>37.274945</td>\n",
       "      <td>2.689016</td>\n",
       "      <td>RForest-Reg</td>\n",
       "    </tr>\n",
       "    <tr>\n",
       "      <th>2</th>\n",
       "      <td>0.467371</td>\n",
       "      <td>0.008259</td>\n",
       "      <td>34.302790</td>\n",
       "      <td>2.815573</td>\n",
       "      <td>LightGBMReg</td>\n",
       "    </tr>\n",
       "  </tbody>\n",
       "</table>\n",
       "</div>"
      ],
      "text/plain": [
       "   cv_means_R2  cv_std_R2  cv_means_mse  cv_std_mse         Algorithm\n",
       "0     0.444536   0.005926     35.774091    2.936215  LinearRegression\n",
       "1     0.420643   0.014602     37.274945    2.689016       RForest-Reg\n",
       "2     0.467371   0.008259     34.302790    2.815573       LightGBMReg"
      ]
     },
     "execution_count": 42,
     "metadata": {},
     "output_type": "execute_result"
    }
   ],
   "source": [
    "cv_results = []\n",
    "for reg in reg_models :\n",
    "    c = cross_validate(make_pipeline(reg), X_train, y_train, scoring = ['r2','neg_mean_squared_error'], cv = kfold, n_jobs=-1)\n",
    "    cv_results.append(c)\n",
    "\n",
    "cv_means_r2 = []\n",
    "cv_means_mse = []\n",
    "\n",
    "cv_std_r2 = []\n",
    "cv_std_mse = []\n",
    "\n",
    "\n",
    "for cv_result in cv_results:\n",
    "    cv_means_r2.append(cv_result['test_r2'].mean())\n",
    "    cv_std_r2.append(cv_result['test_r2'].std())\n",
    "    cv_means_mse.append(cv_result['test_neg_mean_squared_error'].mean()*-1)\n",
    "    cv_std_mse.append(cv_result['test_neg_mean_squared_error'].std())\n",
    "\n",
    "cv_res = pd.DataFrame({\"cv_means_R2\":cv_means_r2,\"cv_std_R2\": cv_std_r2 ,\n",
    "                       \"cv_means_mse\":cv_means_mse,\"cv_std_mse\": cv_std_mse ,\n",
    "                       \"Algorithm\":[\"LinearRegression\",\"RForest-Reg\",\"LightGBMReg\"]})\n",
    "\n",
    "print(\"*********************************\\nResult from Spot Check Modeling with Data\\n*********************************\\n\")\n",
    "cv_res"
   ]
  },
  {
   "cell_type": "code",
   "execution_count": 43,
   "metadata": {},
   "outputs": [
    {
     "data": {
      "image/png": "[encoded data removed]",
      "text/plain": [
       "<Figure size 432x288 with 1 Axes>"
      ]
     },
     "metadata": {},
     "output_type": "display_data"
    }
   ],
   "source": [
    "plt.hist(y_train,20);"
   ]
  },
  {
   "cell_type": "markdown",
   "metadata": {},
   "source": [
    "         ** In above Target varibale , we could see it is left skewed , so applying log transformation for same in order to make it towards normal."
   ]
  },
  {
   "cell_type": "code",
   "execution_count": 44,
   "metadata": {},
   "outputs": [
    {
     "data": {
      "text/plain": [
       "(array([  4.,  32., 181., 489., 450., 423., 495., 588., 679., 779., 714.,\n",
       "        599., 459., 295., 170., 105.,  67.,  20.,  18.,   4.]),\n",
       " array([2.44234704, 2.5306877 , 2.61902836, 2.70736902, 2.79570968,\n",
       "        2.88405034, 2.972391  , 3.06073166, 3.14907232, 3.23741298,\n",
       "        3.32575364, 3.4140943 , 3.50243496, 3.59077562, 3.67911628,\n",
       "        3.76745694, 3.8557976 , 3.94413826, 4.03247892, 4.12081958,\n",
       "        4.20916024]),\n",
       " <a list of 20 Patch objects>)"
      ]
     },
     "execution_count": 44,
     "metadata": {},
     "output_type": "execute_result"
    },
    {
     "data": {
      "image/png": "[encoded data removed]",
      "text/plain": [
       "<Figure size 432x288 with 1 Axes>"
      ]
     },
     "metadata": {},
     "output_type": "display_data"
    }
   ],
   "source": [
    "plt.hist(np.log(y_train),20)"
   ]
  },
  {
   "cell_type": "code",
   "execution_count": 45,
   "metadata": {},
   "outputs": [
    {
     "name": "stdout",
     "output_type": "stream",
     "text": [
      "*********************************\n",
      "Result from Spot Check Modeling with Data \n",
      "*********************************\n",
      "\n"
     ]
    },
    {
     "data": {
      "text/html": [
       "<div>\n",
       "<style scoped>\n",
       "    .dataframe tbody tr th:only-of-type {\n",
       "        vertical-align: middle;\n",
       "    }\n",
       "\n",
       "    .dataframe tbody tr th {\n",
       "        vertical-align: top;\n",
       "    }\n",
       "\n",
       "    .dataframe thead th {\n",
       "        text-align: right;\n",
       "    }\n",
       "</style>\n",
       "<table border=\"1\" class=\"dataframe\">\n",
       "  <thead>\n",
       "    <tr style=\"text-align: right;\">\n",
       "      <th></th>\n",
       "      <th>cv_means_R2</th>\n",
       "      <th>cv_std_R2</th>\n",
       "      <th>cv_means_mse</th>\n",
       "      <th>cv_std_mse</th>\n",
       "      <th>Algorithm</th>\n",
       "    </tr>\n",
       "  </thead>\n",
       "  <tbody>\n",
       "    <tr>\n",
       "      <th>0</th>\n",
       "      <td>0.542258</td>\n",
       "      <td>0.006072</td>\n",
       "      <td>0.041627</td>\n",
       "      <td>0.002046</td>\n",
       "      <td>LinearRegression</td>\n",
       "    </tr>\n",
       "    <tr>\n",
       "      <th>1</th>\n",
       "      <td>0.517833</td>\n",
       "      <td>0.006270</td>\n",
       "      <td>0.043870</td>\n",
       "      <td>0.002535</td>\n",
       "      <td>RForest-Reg</td>\n",
       "    </tr>\n",
       "    <tr>\n",
       "      <th>2</th>\n",
       "      <td>0.558636</td>\n",
       "      <td>0.004247</td>\n",
       "      <td>0.040146</td>\n",
       "      <td>0.002099</td>\n",
       "      <td>LightGBMReg</td>\n",
       "    </tr>\n",
       "  </tbody>\n",
       "</table>\n",
       "</div>"
      ],
      "text/plain": [
       "   cv_means_R2  cv_std_R2  cv_means_mse  cv_std_mse         Algorithm\n",
       "0     0.542258   0.006072      0.041627    0.002046  LinearRegression\n",
       "1     0.517833   0.006270      0.043870    0.002535       RForest-Reg\n",
       "2     0.558636   0.004247      0.040146    0.002099       LightGBMReg"
      ]
     },
     "execution_count": 45,
     "metadata": {},
     "output_type": "execute_result"
    }
   ],
   "source": [
    "cv_results = []\n",
    "for reg in reg_models :\n",
    "    c = cross_validate(make_pipeline(reg), X_train, np.log(y_train), scoring = ['r2','neg_mean_squared_error'], cv = kfold, n_jobs=-1)\n",
    "    cv_results.append(c)\n",
    "\n",
    "cv_means_r2 = []\n",
    "cv_means_mse = []\n",
    "\n",
    "cv_std_r2 = []\n",
    "cv_std_mse = []\n",
    "\n",
    "\n",
    "for cv_result in cv_results:\n",
    "    cv_means_r2.append(cv_result['test_r2'].mean())\n",
    "    cv_std_r2.append(cv_result['test_r2'].std())\n",
    "    cv_means_mse.append(cv_result['test_neg_mean_squared_error'].mean()*-1)\n",
    "    cv_std_mse.append(cv_result['test_neg_mean_squared_error'].std())\n",
    "\n",
    "cv_res = pd.DataFrame({\"cv_means_R2\":cv_means_r2,\"cv_std_R2\": cv_std_r2 ,\n",
    "                       \"cv_means_mse\":cv_means_mse,\"cv_std_mse\": cv_std_mse ,\n",
    "                       \"Algorithm\":[\"LinearRegression\",\"RForest-Reg\",\"LightGBMReg\"]})\n",
    "\n",
    "print(\"*********************************\\nResult from Spot Check Modeling with Data \\n*********************************\\n\")\n",
    "cv_res"
   ]
  },
  {
   "cell_type": "markdown",
   "metadata": {},
   "source": [
    "         ** After applying log transformation to target , now we could see R2 has increased almost ~8%. The Mean square has decreased due to log transformation. "
   ]
  },
  {
   "cell_type": "markdown",
   "metadata": {},
   "source": [
    "         ** As all 3 models are giving simmilar result , we will proceed with Linear Regrssion as it gives more stable and it's simple compared other bagging and boosting model. **"
   ]
  },
  {
   "cell_type": "markdown",
   "metadata": {},
   "source": [
    "### Applying Recursive Feature Elimination for finding final model Linear Regression model"
   ]
  },
  {
   "cell_type": "code",
   "execution_count": 46,
   "metadata": {},
   "outputs": [],
   "source": [
    "from sklearn.feature_selection import RFE\n",
    "from sklearn.pipeline import Pipeline"
   ]
  },
  {
   "cell_type": "code",
   "execution_count": 47,
   "metadata": {},
   "outputs": [
    {
     "name": "stdout",
     "output_type": "stream",
     "text": [
      "No. of top features: 1 R_Square:  [0.41034172]  Mean_Square_Error:  [0.05416283]\n",
      "No. of top features: 2 R_Square:  [0.52648806]  Mean_Square_Error:  [0.04310439]\n",
      "No. of top features: 3 R_Square:  [0.53598442]  Mean_Square_Error:  [0.04220547]\n",
      "No. of top features: 4 R_Square:  [0.53730215]  Mean_Square_Error:  [0.04207652]\n",
      "No. of top features: 5 R_Square:  [0.53779174]  Mean_Square_Error:  [0.04203175]\n",
      "No. of top features: 6 R_Square:  [0.53850682]  Mean_Square_Error:  [0.0419666]\n",
      "No. of top features: 7 R_Square:  [0.54000675]  Mean_Square_Error:  [0.04182979]\n",
      "No. of top features: 8 R_Square:  [0.54030936]  Mean_Square_Error:  [0.04180274]\n",
      "No. of top features: 9 R_Square:  [0.53984932]  Mean_Square_Error:  [0.04184163]\n",
      "No. of top features: 10 R_Square:  [0.54026206]  Mean_Square_Error:  [0.04180312]\n",
      "No. of top features: 11 R_Square:  [0.54098623]  Mean_Square_Error:  [0.04173915]\n",
      "No. of top features: 12 R_Square:  [0.54216446]  Mean_Square_Error:  [0.04163517]\n",
      "No. of top features: 13 R_Square:  [0.54225525]  Mean_Square_Error:  [0.04162655]\n",
      "No. of top features: 14 R_Square:  [0.54256888]  Mean_Square_Error:  [0.04159814]\n",
      "No. of top features: 15 R_Square:  [0.54258709]  Mean_Square_Error:  [0.04159631]\n",
      "No. of top features: 16 R_Square:  [0.5424845]  Mean_Square_Error:  [0.0416059]\n",
      "No. of top features: 17 R_Square:  [0.54237368]  Mean_Square_Error:  [0.04161597]\n",
      "No. of top features: 18 R_Square:  [0.5423642]  Mean_Square_Error:  [0.04161635]\n"
     ]
    }
   ],
   "source": [
    "for i in range(1, len(X_train.columns)):\n",
    "    rfe = RFE(estimator=LinearRegression(normalize=True,n_jobs=-1), n_features_to_select=i)\n",
    "    model = LinearRegression(normalize=True,n_jobs=-1)\n",
    "    pipeline = Pipeline(steps=[('s',rfe),('zm',model)])\n",
    "    # fit the model on all available data\n",
    "    result = cross_validate(make_pipeline(pipeline),\n",
    "                        X_train,\n",
    "                        y =np.log(y_train),\n",
    "                        scoring = ['r2','neg_mean_squared_error'],\n",
    "                        cv = 5,\n",
    "                        n_jobs=-1)\n",
    "    print(\"No. of top features:\",i,\"R_Square: \",pd.DataFrame(result['test_r2']).mean().values,\\\n",
    "          \" Mean_Square_Error: \",pd.DataFrame(result['test_neg_mean_squared_error']).mean().values*-1)"
   ]
  },
  {
   "cell_type": "markdown",
   "metadata": {},
   "source": [
    "    ** From above we can see that top features can provide cummulative R2 of ~53% and then increasing with very small margin. So we can take top 5 variables and build final model and find feature importance for model interpreatation."
   ]
  },
  {
   "cell_type": "code",
   "execution_count": 48,
   "metadata": {},
   "outputs": [],
   "source": [
    "rfe = RFE(estimator=LinearRegression(normalize=True,n_jobs=-1), n_features_to_select=5)\n",
    "model = LinearRegression(normalize=True,n_jobs=-1)\n",
    "pipeline = Pipeline(steps=[('s',rfe),('zm',model)])\n",
    "# fit the model on all available data\n",
    "result = cross_validate(make_pipeline(pipeline),\n",
    "                    X_train,\n",
    "                    y =np.log(y_train),\n",
    "                    scoring = ['r2','neg_mean_squared_error'],\n",
    "                    cv = 5,\n",
    "                    n_jobs=-1)\n"
   ]
  },
  {
   "cell_type": "code",
   "execution_count": 49,
   "metadata": {},
   "outputs": [
    {
     "data": {
      "text/plain": [
       "Pipeline(memory=None,\n",
       "     steps=[('s', RFE(estimator=LinearRegression(copy_X=True, fit_intercept=True, n_jobs=-1, normalize=True),\n",
       "  n_features_to_select=5, step=1, verbose=0)), ('zm', LinearRegression(copy_X=True, fit_intercept=True, n_jobs=-1, normalize=True))])"
      ]
     },
     "execution_count": 49,
     "metadata": {},
     "output_type": "execute_result"
    }
   ],
   "source": [
    "rfe = RFE(estimator=LinearRegression(normalize=True,n_jobs=-1), n_features_to_select=5)\n",
    "model = LinearRegression(normalize=True,n_jobs=-1)\n",
    "pipeline = Pipeline(steps=[('s',rfe),('zm',model)])\n",
    "# fit the model on all available data\n",
    "pipeline.fit(X_train, np.log(y_train))\n",
    "\n",
    "feature_ranking = pd.DataFrame({\"feature_name\":X_train.columns.values,\"Ranking\": list(rfe.ranking_)})\n",
    "X_train_new = X_train[list(feature_ranking[feature_ranking['Ranking']<2].feature_name.values)]\n",
    "\n",
    "pipeline.fit(X_train_new, np.log(y_train))"
   ]
  },
  {
   "cell_type": "code",
   "execution_count": 50,
   "metadata": {},
   "outputs": [
    {
     "name": "stdout",
     "output_type": "stream",
     "text": [
      "**********************\n",
      " Score result on final model \n",
      "**********************\n",
      "\n",
      "   R_Square  Mean_Square_Error      Scores\n",
      "0  0.540572           0.041813  Train Data\n",
      "1  0.537792           0.042032   CVal Data\n",
      "2  0.495314           0.043811   Test Data\n"
     ]
    }
   ],
   "source": [
    "## Find diffrent scores on diffrent datasets:- Train , Cross Validation , Test\n",
    "R_Square = []\n",
    "Mean_Square_Error = []\n",
    "\n",
    "\n",
    "R_Square.append(pd.DataFrame(result['train_r2']).mean().values[0])\n",
    "Mean_Square_Error.append(pd.DataFrame(result['train_neg_mean_squared_error']).mean().values[0]*-1)\n",
    "\n",
    "R_Square.append(pd.DataFrame(result['test_r2']).mean().values[0])\n",
    "Mean_Square_Error.append(pd.DataFrame(result['test_neg_mean_squared_error']).mean().values[0]*-1)\n",
    "\n",
    "\n",
    "## Predict on Test Data and get scores:\n",
    "R_Square.append(metrics.r2_score(np.log(y_test),pipeline.predict(X_test[X_train_new.columns])))\n",
    "Mean_Square_Error.append(metrics.mean_squared_error(np.log(y_test),pipeline.predict(X_test[X_train_new.columns])))\n",
    "\n",
    "    \n",
    "Score_Result = pd.DataFrame({\"R_Square\":R_Square,\n",
    "                       \"Mean_Square_Error\":Mean_Square_Error,\n",
    "                       \"Scores\":[\"Train Data\",\"CVal Data\",\"Test Data\"]})\n",
    "\n",
    "print(\"**********************\\n Score result on final model \\n**********************\\n\")\n",
    "print(Score_Result)"
   ]
  },
  {
   "cell_type": "markdown",
   "metadata": {},
   "source": [
    "            ** As we can see from above table:-\n",
    "            The R_Square, Mean Square Error scores are very near for all Train , Cross Val Data (5 fold) and test data. Which Shows the model is stable. \n",
    "            \n",
    "            But overall R-square is moderate , we need some extra information (feature) to enhnace the R-square of the model. Also there are some other assumptions , could be reasearched more for linear regression, But for now the model score is stable accross all data."
   ]
  },
  {
   "cell_type": "markdown",
   "metadata": {},
   "source": [
    "## Model Interpretation through Feature Importance/Ranking"
   ]
  },
  {
   "cell_type": "code",
   "execution_count": 51,
   "metadata": {},
   "outputs": [
    {
     "data": {
      "text/plain": [
       "Pipeline(memory=None,\n",
       "     steps=[('s', RFE(estimator=LinearRegression(copy_X=True, fit_intercept=True, n_jobs=-1, normalize=True),\n",
       "  n_features_to_select=1, step=1, verbose=0)), ('zm', LinearRegression(copy_X=True, fit_intercept=True, n_jobs=-1, normalize=True))])"
      ]
     },
     "execution_count": 51,
     "metadata": {},
     "output_type": "execute_result"
    }
   ],
   "source": [
    "rfe = RFE(estimator=LinearRegression(normalize=True,n_jobs=-1), n_features_to_select=1)\n",
    "model = LinearRegression(normalize=True,n_jobs=-1)\n",
    "pipeline = Pipeline(steps=[('s',rfe),('zm',model)])\n",
    "# fit the model on all available data\n",
    "pipeline.fit(X_train_new, np.log(y_train))"
   ]
  },
  {
   "cell_type": "code",
   "execution_count": 52,
   "metadata": {},
   "outputs": [
    {
     "name": "stdout",
     "output_type": "stream",
     "text": [
      "          feature_name  Ranking\n",
      "2          RIDEXAGM_CB        1\n",
      "3          RIDRETH3_CB        2\n",
      "4          DMDBORN4_CB        3\n",
      "1  is_RIDAGEMN_Present        4\n",
      "0             WTMEC2YR        5\n"
     ]
    }
   ],
   "source": [
    "feature_ranking_final = pd.DataFrame({\"feature_name\":X_train_new.columns.values,\"Ranking\": list(rfe.ranking_)})\n",
    "print(feature_ranking_final.sort_values(by=['Ranking']))"
   ]
  },
  {
   "cell_type": "markdown",
   "metadata": {},
   "source": [
    "        ** As the SKlearn Linear rgeression doesn't provide feature significance (P Value) , so have calcuated the feature ranking using recusrive feature elimination method.\n",
    "\n",
    "        As could the varibles which are impactful are:\n",
    "            RIDEXAGM_CB -->  RIDEXAGM ‑ Age in months at exam ‑ 0 to 19 years\n",
    "            RIDRETH3_CB -->  RIDRETH3 ‑ Race/Hispanic origin w/ NH Asian\n",
    "            DMDBORN4_CB -->  DMDBORN4 ‑ Country of birth\n",
    "            is_RIDAGEMN_Present --> RIDAGEMN ‑ Age in months at screening ‑ 0 to 24 mos\n",
    "            WTINT2YR ‑-> Full sample 2 year interview weight\n",
    "\n",
    "        Thus, we can see the young person's age seems to be the most import feature for predicting the HH income and intuitively it makes sense. As it will have less varinace of BMI compared older persons.\n",
    "            Attributes like Country of Birth,Age is months also makes important contribution for the model to predict BMI data."
   ]
  },
  {
   "cell_type": "code",
   "execution_count": null,
   "metadata": {},
   "outputs": [],
   "source": []
  },
  {
   "cell_type": "code",
   "execution_count": null,
   "metadata": {},
   "outputs": [],
   "source": []
  }
 ],
 "metadata": {
  "kernelspec": {
   "display_name": "conda_python3",
   "language": "python",
   "name": "conda_python3"
  },
  "language_info": {
   "codemirror_mode": {
    "name": "ipython",
    "version": 3
   },
   "file_extension": ".py",
   "mimetype": "text/x-python",
   "name": "python",
   "nbconvert_exporter": "python",
   "pygments_lexer": "ipython3",
   "version": "3.6.5"
  }
 },
 "nbformat": 4,
 "nbformat_minor": 4
}
