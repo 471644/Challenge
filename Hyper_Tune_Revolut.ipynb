{
  "nbformat": 4,
  "nbformat_minor": 0,
  "metadata": {
    "colab": {
      "name": "Hyper-Tune_Revolut.ipynb",
      "provenance": []
    },
    "kernelspec": {
      "name": "python3",
      "display_name": "Python 3"
    },
    "accelerator": "GPU"
  },
  "cells": [
    {
      "cell_type": "code",
      "metadata": {
        "id": "qYMUTP8IDYnj",
        "colab_type": "code",
        "colab": {}
      },
      "source": [
        "import time\n",
        "import pandas as pd\n",
        "import datetime\n",
        "import numpy as np\n",
        "import matplotlib.pyplot as plt\n",
        "import matplotlib.lines as mlines\n",
        "from mpl_toolkits.mplot3d import Axes3D\n",
        "import seaborn as sns\n",
        "import matplotlib.cm as cm\n",
        "import warnings\n",
        "import math\n",
        "sns.set(style=\"whitegrid\", color_codes=True)\n",
        "%matplotlib inline\n",
        "warnings.filterwarnings(\"ignore\")\n",
        "pd.set_option('max_colwidth',999)\n",
        "pd.set_option('display.max_columns', 999)\n",
        "pd.set_option(\"display.max_rows\",999)"
      ],
      "execution_count": 0,
      "outputs": []
    },
    {
      "cell_type": "code",
      "metadata": {
        "id": "SM-YJl2NExHd",
        "colab_type": "code",
        "colab": {}
      },
      "source": [
        "X_train = pd.read_csv(\"X_train.csv\")\n",
        "Y_train = pd.Series(pd.read_csv(\"Y_train.csv\",header=None)[0])\n",
        "X_test = pd.read_csv(\"X_test.csv\")\n",
        "Y_test = pd.Series(pd.read_csv(\"Y_test.csv\",header=None)[0])"
      ],
      "execution_count": 0,
      "outputs": []
    },
    {
      "cell_type": "code",
      "metadata": {
        "id": "VwqbIPcAFG7U",
        "colab_type": "code",
        "colab": {
          "base_uri": "https://localhost:8080/",
          "height": 83
        },
        "outputId": "f59324e7-53a0-4e0c-e548-754bc9a97d2a"
      },
      "source": [
        "print(\"X_train :=\", X_train.shape)\n",
        "print(\"Y_train :=\", Y_train.shape)\n",
        "print(\"X_test :=\", X_test.shape)\n",
        "print(\"Y_test :=\", Y_test.shape)"
      ],
      "execution_count": 18,
      "outputs": [
        {
          "output_type": "stream",
          "text": [
            "X_train := (109574, 24)\n",
            "Y_train := (109574,)\n",
            "X_test := (29429, 24)\n",
            "Y_test := (29429,)\n"
          ],
          "name": "stdout"
        }
      ]
    },
    {
      "cell_type": "code",
      "metadata": {
        "id": "blRj3jCRFZct",
        "colab_type": "code",
        "colab": {
          "base_uri": "https://localhost:8080/",
          "height": 67
        },
        "outputId": "ebd0499f-c2fd-4e84-b14d-21c96fe56cf9"
      },
      "source": [
        "pd.Series(Y_train).value_counts()"
      ],
      "execution_count": 20,
      "outputs": [
        {
          "output_type": "execute_result",
          "data": {
            "text/plain": [
              "0    97663\n",
              "1    11911\n",
              "Name: 0, dtype: int64"
            ]
          },
          "metadata": {
            "tags": []
          },
          "execution_count": 20
        }
      ]
    },
    {
      "cell_type": "code",
      "metadata": {
        "id": "ZQF62PnUFm4R",
        "colab_type": "code",
        "colab": {
          "base_uri": "https://localhost:8080/",
          "height": 67
        },
        "outputId": "09645e6d-c7b8-4e1e-9b94-b413142a7166"
      },
      "source": [
        "pd.Series(Y_test).value_counts()"
      ],
      "execution_count": 21,
      "outputs": [
        {
          "output_type": "execute_result",
          "data": {
            "text/plain": [
              "0    27430\n",
              "1     1999\n",
              "Name: 0, dtype: int64"
            ]
          },
          "metadata": {
            "tags": []
          },
          "execution_count": 21
        }
      ]
    },
    {
      "cell_type": "markdown",
      "metadata": {
        "id": "YHhW1PszG7NS",
        "colab_type": "text"
      },
      "source": [
        "## **Hyper-Parameter Tuning** "
      ]
    },
    {
      "cell_type": "code",
      "metadata": {
        "id": "D_Bb3npgHgAk",
        "colab_type": "code",
        "colab": {}
      },
      "source": [
        "from sklearn.ensemble import VotingClassifier\n",
        "from sklearn.linear_model import LogisticRegression\n",
        "from sklearn.model_selection import GridSearchCV,RandomizedSearchCV, cross_val_score, StratifiedKFold, learning_curve\n",
        "import lightgbm as lgb\n",
        "from sklearn.model_selection import train_test_split\n",
        "from sklearn import metrics"
      ],
      "execution_count": 0,
      "outputs": []
    },
    {
      "cell_type": "markdown",
      "metadata": {
        "id": "H5WDQB7dHG6s",
        "colab_type": "text"
      },
      "source": [
        "### Light GBM"
      ]
    },
    {
      "cell_type": "code",
      "metadata": {
        "id": "7MbYeZGGF17-",
        "colab_type": "code",
        "colab": {
          "base_uri": "https://localhost:8080/",
          "height": 763
        },
        "outputId": "579f28ae-596b-4247-b38e-4c2d0eec5494"
      },
      "source": [
        "\n",
        "start_time = time.time()\n",
        "params = {'boosting_type': 'gbdt',\n",
        "          'objective': 'binary',\n",
        "          'nthread': 3, \n",
        "          'num_leaves': 64,\n",
        "          'learning_rate': 0.05,\n",
        "          'max_bin': 512,\n",
        "          'subsample_for_bin': 200,\n",
        "          'subsample': 1,\n",
        "          'subsample_freq': 1,\n",
        "          'colsample_bytree': 0.8,\n",
        "          'reg_alpha': 5,\n",
        "          'reg_lambda': 10,\n",
        "          'min_split_gain': 0.5,\n",
        "          'min_child_weight': 1,\n",
        "          'min_child_samples': 5,\n",
        "          'scale_pos_weight': 1,\n",
        "          'num_class' : 1}\n",
        "gridParams = {\n",
        "    'learning_rate': [0.01,0.05,0.005],\n",
        "    'n_estimators': [80,100],\n",
        "    'num_leaves': [6,8,12,16],\n",
        "    'boosting_type' : ['gbdt'],\n",
        "    'objective' : ['binary'],\n",
        "    'random_state' : [501],\n",
        "    'colsample_bytree' : [0.65, 0.66],\n",
        "    'subsample' : [0.7,0.75],\n",
        "    'reg_alpha' : [1,1.2],\n",
        "    'reg_lambda' : [1,1.2,1.4],\n",
        "    'max_depth'  :[2,3,5,7],\n",
        "    'scale_pos_weight': [0.7,0.8,1]\n",
        "    }\n",
        "\n",
        "mdl = lgb.LGBMClassifier(boosting_type= 'gbdt',\n",
        "          objective = 'binary',\n",
        "          n_jobs = 4, \n",
        "          silent = True,\n",
        "          max_bin = params['max_bin'],\n",
        "          subsample_for_bin = params['subsample_for_bin'],\n",
        "          subsample = params['subsample'],\n",
        "          subsample_freq = params['subsample_freq'],\n",
        "          min_split_gain = params['min_split_gain'],\n",
        "          min_child_weight = params['min_child_weight'],\n",
        "          min_child_samples = params['min_child_samples'],\n",
        "          scale_pos_weight = params['scale_pos_weight'])\n",
        "\n",
        "\n",
        "mdl.get_params().keys()\n",
        "\n",
        "\n",
        "grid = GridSearchCV(mdl, gridParams,\n",
        "                    scoring='roc_auc',\n",
        "                    verbose=1,\n",
        "                    n_jobs=-1)\n",
        "\n",
        "\n",
        "grid.fit(X_train, Y_train)\n",
        "LGB_Best = grid.best_estimator_\n",
        "print(\"Train best score := \",grid.best_score_)\n",
        "print(LGB_Best)\n",
        "Pred_train=LGB_Best.predict(X_train)\n",
        "Pred_test=LGB_Best.predict(X_test)\n",
        "\n",
        "print(\" Train Recall Score := \",metrics.recall_score(Y_train,Pred_train))\n",
        "print(\" Test Recall Score := \",metrics.recall_score(Y_test,Pred_test))\n",
        "print(\" Train Precision Score := \",metrics.precision_score(Y_train,Pred_train))\n",
        "print(\" Test Precision Score := \",metrics.precision_score(Y_test,Pred_test))\n",
        "print(\" Train AUC-ROC Score := \",metrics.roc_auc_score(Y_train,Pred_train))\n",
        "print(\" Test AUC-ROC Score := \",metrics.roc_auc_score(Y_test,Pred_test))\n",
        "print(\" Train F1 Score := \",metrics.f1_score(Y_train,Pred_train))\n",
        "print(\" Test F1 Score := \",metrics.f1_score(Y_test,Pred_test))\n",
        "\n",
        "print(\"Train Confusion Matrix:\\n\",metrics.confusion_matrix(Y_train,Pred_train))\n",
        "print(\"Test Confusion Matrix:\\n\",metrics.confusion_matrix(Y_test,Pred_test))\n",
        "elapsed_time = time.time() - start_time\n",
        "time.strftime(\"%H:%M:%S\", time.gmtime(elapsed_time))"
      ],
      "execution_count": 23,
      "outputs": [
        {
          "output_type": "stream",
          "text": [
            "Fitting 3 folds for each of 6912 candidates, totalling 20736 fits\n"
          ],
          "name": "stdout"
        },
        {
          "output_type": "stream",
          "text": [
            "[Parallel(n_jobs=-1)]: Using backend LokyBackend with 2 concurrent workers.\n",
            "[Parallel(n_jobs=-1)]: Done  46 tasks      | elapsed:   35.9s\n",
            "[Parallel(n_jobs=-1)]: Done 196 tasks      | elapsed:  2.5min\n",
            "[Parallel(n_jobs=-1)]: Done 446 tasks      | elapsed:  5.7min\n",
            "[Parallel(n_jobs=-1)]: Done 796 tasks      | elapsed: 10.9min\n",
            "[Parallel(n_jobs=-1)]: Done 1246 tasks      | elapsed: 17.3min\n",
            "[Parallel(n_jobs=-1)]: Done 1796 tasks      | elapsed: 26.2min\n",
            "[Parallel(n_jobs=-1)]: Done 2446 tasks      | elapsed: 37.0min\n",
            "[Parallel(n_jobs=-1)]: Done 3196 tasks      | elapsed: 49.7min\n",
            "[Parallel(n_jobs=-1)]: Done 4046 tasks      | elapsed: 62.7min\n",
            "[Parallel(n_jobs=-1)]: Done 4996 tasks      | elapsed: 76.9min\n",
            "[Parallel(n_jobs=-1)]: Done 6046 tasks      | elapsed: 94.9min\n",
            "[Parallel(n_jobs=-1)]: Done 7196 tasks      | elapsed: 113.8min\n",
            "[Parallel(n_jobs=-1)]: Done 8446 tasks      | elapsed: 132.0min\n",
            "[Parallel(n_jobs=-1)]: Done 9796 tasks      | elapsed: 153.9min\n",
            "[Parallel(n_jobs=-1)]: Done 11246 tasks      | elapsed: 176.4min\n",
            "[Parallel(n_jobs=-1)]: Done 12796 tasks      | elapsed: 201.2min\n",
            "[Parallel(n_jobs=-1)]: Done 14446 tasks      | elapsed: 227.8min\n",
            "[Parallel(n_jobs=-1)]: Done 16196 tasks      | elapsed: 255.5min\n",
            "[Parallel(n_jobs=-1)]: Done 18046 tasks      | elapsed: 285.8min\n",
            "[Parallel(n_jobs=-1)]: Done 19996 tasks      | elapsed: 317.1min\n",
            "[Parallel(n_jobs=-1)]: Done 20736 out of 20736 | elapsed: 330.2min finished\n"
          ],
          "name": "stderr"
        },
        {
          "output_type": "stream",
          "text": [
            "Train best score :=  0.9724246202932918\n",
            "LGBMClassifier(boosting_type='gbdt', class_weight=None, colsample_bytree=0.66,\n",
            "               importance_type='split', learning_rate=0.05, max_bin=512,\n",
            "               max_depth=7, min_child_samples=5, min_child_weight=1,\n",
            "               min_split_gain=0.5, n_estimators=100, n_jobs=4, num_leaves=16,\n",
            "               objective='binary', random_state=501, reg_alpha=1,\n",
            "               reg_lambda=1.2, scale_pos_weight=1, silent=True, subsample=0.7,\n",
            "               subsample_for_bin=200, subsample_freq=1)\n",
            " Train Recall Score :=  0.8767525816472168\n"
          ],
          "name": "stdout"
        },
        {
          "output_type": "error",
          "ename": "NameError",
          "evalue": "ignored",
          "traceback": [
            "\u001b[0;31m---------------------------------------------------------------------------\u001b[0m",
            "\u001b[0;31mNameError\u001b[0m                                 Traceback (most recent call last)",
            "\u001b[0;32m<ipython-input-23-cdd899c54837>\u001b[0m in \u001b[0;36m<module>\u001b[0;34m()\u001b[0m\n\u001b[1;32m     64\u001b[0m \u001b[0;34m\u001b[0m\u001b[0m\n\u001b[1;32m     65\u001b[0m \u001b[0mprint\u001b[0m\u001b[0;34m(\u001b[0m\u001b[0;34m\" Train Recall Score := \"\u001b[0m\u001b[0;34m,\u001b[0m\u001b[0mmetrics\u001b[0m\u001b[0;34m.\u001b[0m\u001b[0mrecall_score\u001b[0m\u001b[0;34m(\u001b[0m\u001b[0mY_train\u001b[0m\u001b[0;34m,\u001b[0m\u001b[0mPred_train\u001b[0m\u001b[0;34m)\u001b[0m\u001b[0;34m)\u001b[0m\u001b[0;34m\u001b[0m\u001b[0;34m\u001b[0m\u001b[0m\n\u001b[0;32m---> 66\u001b[0;31m \u001b[0mprint\u001b[0m\u001b[0;34m(\u001b[0m\u001b[0;34m\" Test Recall Score := \"\u001b[0m\u001b[0;34m,\u001b[0m\u001b[0mmetrics\u001b[0m\u001b[0;34m.\u001b[0m\u001b[0mrecall_score\u001b[0m\u001b[0;34m(\u001b[0m\u001b[0mY_test\u001b[0m\u001b[0;34m,\u001b[0m\u001b[0mPred_test\u001b[0m\u001b[0;34m)\u001b[0m\u001b[0;34m)\u001b[0m\u001b[0;34m\u001b[0m\u001b[0;34m\u001b[0m\u001b[0m\n\u001b[0m\u001b[1;32m     67\u001b[0m \u001b[0mprint\u001b[0m\u001b[0;34m(\u001b[0m\u001b[0;34m\" Train Precision Score := \"\u001b[0m\u001b[0;34m,\u001b[0m\u001b[0mmetrics\u001b[0m\u001b[0;34m.\u001b[0m\u001b[0mprecision_score\u001b[0m\u001b[0;34m(\u001b[0m\u001b[0mY_train\u001b[0m\u001b[0;34m,\u001b[0m\u001b[0mPred_train\u001b[0m\u001b[0;34m)\u001b[0m\u001b[0;34m)\u001b[0m\u001b[0;34m\u001b[0m\u001b[0;34m\u001b[0m\u001b[0m\n\u001b[1;32m     68\u001b[0m \u001b[0mprint\u001b[0m\u001b[0;34m(\u001b[0m\u001b[0;34m\" Test Precision Score := \"\u001b[0m\u001b[0;34m,\u001b[0m\u001b[0mmetrics\u001b[0m\u001b[0;34m.\u001b[0m\u001b[0mprecision_score\u001b[0m\u001b[0;34m(\u001b[0m\u001b[0mY_test\u001b[0m\u001b[0;34m,\u001b[0m\u001b[0mPred_test\u001b[0m\u001b[0;34m)\u001b[0m\u001b[0;34m)\u001b[0m\u001b[0;34m\u001b[0m\u001b[0;34m\u001b[0m\u001b[0m\n",
            "\u001b[0;31mNameError\u001b[0m: name 'Pred_test' is not defined"
          ]
        }
      ]
    },
    {
      "cell_type": "code",
      "metadata": {
        "id": "pl90vOFWUUJZ",
        "colab_type": "code",
        "colab": {
          "base_uri": "https://localhost:8080/",
          "height": 250
        },
        "outputId": "e2f5b186-272d-4f7c-9f2b-4343dc0be903"
      },
      "source": [
        "Pred_train=LGB_Best.predict(X_train)\n",
        "Pred_test=LGB_Best.predict(X_test)\n",
        "\n",
        "print(\" Train Recall Score := \",metrics.recall_score(Y_train,Pred_train))\n",
        "print(\" Test Recall Score := \",metrics.recall_score(Y_test,Pred_test))\n",
        "print(\" Train Precision Score := \",metrics.precision_score(Y_train,Pred_train))\n",
        "print(\" Test Precision Score := \",metrics.precision_score(Y_test,Pred_test))\n",
        "print(\" Train AUC-ROC Score := \",metrics.roc_auc_score(Y_train,Pred_train))\n",
        "print(\" Test AUC-ROC Score := \",metrics.roc_auc_score(Y_test,Pred_test))\n",
        "print(\" Train F1 Score := \",metrics.f1_score(Y_train,Pred_train))\n",
        "print(\" Test F1 Score := \",metrics.f1_score(Y_test,Pred_test))\n",
        "\n",
        "print(\"Train Confusion Matrix:\\n\",metrics.confusion_matrix(Y_train,Pred_train))\n",
        "print(\"Test Confusion Matrix:\\n\",metrics.confusion_matrix(Y_test,Pred_test))"
      ],
      "execution_count": 24,
      "outputs": [
        {
          "output_type": "stream",
          "text": [
            " Train Recall Score :=  0.8767525816472168\n",
            " Test Recall Score :=  0.6053026513256629\n",
            " Train Precision Score :=  0.9135683667220715\n",
            " Test Precision Score :=  0.8432055749128919\n",
            " Train AUC-ROC Score :=  0.9333180804471095\n",
            " Test AUC-ROC Score :=  0.7985499767747526\n",
            " Train F1 Score :=  0.8947819381372633\n",
            " Test F1 Score :=  0.704717530576587\n",
            "Train Confusion Matrix:\n",
            " [[96675   988]\n",
            " [ 1468 10443]]\n",
            "Test Confusion Matrix:\n",
            " [[27205   225]\n",
            " [  789  1210]]\n"
          ],
          "name": "stdout"
        }
      ]
    },
    {
      "cell_type": "code",
      "metadata": {
        "id": "LGy8HCy7I93U",
        "colab_type": "code",
        "colab": {
          "base_uri": "https://localhost:8080/",
          "height": 33
        },
        "outputId": "3a0c8b0d-83f6-4d65-c48e-3e4c17bccd36"
      },
      "source": [
        "(X_test[(Pred_test == 1)&(Y_test == 1)]['AMOUNT_USD'].sum()/X_test[Y_test == 1]['AMOUNT_USD'].sum())*100"
      ],
      "execution_count": 25,
      "outputs": [
        {
          "output_type": "execute_result",
          "data": {
            "text/plain": [
              "54.21072423536179"
            ]
          },
          "metadata": {
            "tags": []
          },
          "execution_count": 25
        }
      ]
    },
    {
      "cell_type": "code",
      "metadata": {
        "id": "JpkIh0FDbW2U",
        "colab_type": "code",
        "colab": {}
      },
      "source": [
        ""
      ],
      "execution_count": 0,
      "outputs": []
    },
    {
      "cell_type": "markdown",
      "metadata": {
        "id": "fjuxIACvHU4G",
        "colab_type": "text"
      },
      "source": [
        "## Logistic Regression"
      ]
    },
    {
      "cell_type": "code",
      "metadata": {
        "id": "GvrijSSyHYzP",
        "colab_type": "code",
        "colab": {
          "base_uri": "https://localhost:8080/",
          "height": 100
        },
        "outputId": "122f5107-aa42-42fb-8538-03285838a9bb"
      },
      "source": [
        "LogisticRegression(C=10, class_weight={1: 0.7, 0: 0.3}, dual=False,\n",
        "          fit_intercept=True, intercept_scaling=1, max_iter=100,\n",
        "          multi_class='warn', n_jobs=None, penalty='l1', random_state=None,\n",
        "          solver='warn', tol=0.0001, verbose=0, warm_start=False)"
      ],
      "execution_count": 28,
      "outputs": [
        {
          "output_type": "execute_result",
          "data": {
            "text/plain": [
              "LogisticRegression(C=10, class_weight={0: 0.3, 1: 0.7}, dual=False,\n",
              "                   fit_intercept=True, intercept_scaling=1, l1_ratio=None,\n",
              "                   max_iter=100, multi_class='warn', n_jobs=None, penalty='l1',\n",
              "                   random_state=None, solver='warn', tol=0.0001, verbose=0,\n",
              "                   warm_start=False)"
            ]
          },
          "metadata": {
            "tags": []
          },
          "execution_count": 28
        }
      ]
    },
    {
      "cell_type": "markdown",
      "metadata": {
        "id": "xHu5IO0BaXBe",
        "colab_type": "text"
      },
      "source": [
        "## **Ensemble Model**"
      ]
    },
    {
      "cell_type": "code",
      "metadata": {
        "id": "8LuV36rha5eq",
        "colab_type": "code",
        "colab": {}
      },
      "source": [
        "lr = LogisticRegression(C=10, class_weight={1: 0.7, 0: 0.3}, dual=False,\n",
        "          fit_intercept=True, intercept_scaling=1, max_iter=100,\n",
        "          multi_class='warn', n_jobs=None, penalty='l1', random_state=None,\n",
        "          solver='warn', tol=0.0001, verbose=0, warm_start=False)"
      ],
      "execution_count": 0,
      "outputs": []
    },
    {
      "cell_type": "code",
      "metadata": {
        "id": "TqL4hPoWUzp5",
        "colab_type": "code",
        "colab": {}
      },
      "source": [
        "votingCPre = VotingClassifier(estimators=[('lgbm', LGB_Best),\n",
        "                                          ('lr',lr)\n",
        "                                         ], voting='soft', n_jobs=4)\n",
        "\n",
        "votingCPre = votingCPre.fit(X_train,Y_train)\n",
        "Pred_train=votingCPre.predict(X_train)\n",
        "Pred_test=votingCPre.predict(X_test)\n",
        "\n",
        "print(\" Train Recall Score := \",metrics.recall_score(Y_train,Pred_train))\n",
        "print(\" Test Recall Score := \",metrics.recall_score(Y_test,Pred_test))\n",
        "print(\" Train Precision Score := \",metrics.precision_score(Y_train,Pred_train))\n",
        "print(\" Test Precision Score := \",metrics.precision_score(Y_test,Pred_test))\n",
        "print(\" Train AUC-ROC Score := \",metrics.roc_auc_score(Y_train,Pred_train))\n",
        "print(\" Test AUC-ROC Score := \",metrics.roc_auc_score(Y_test,Pred_test))\n",
        "print(\" Train F1 Score := \",metrics.f1_score(Y_train,Pred_train))\n",
        "print(\" Test F1 Score := \",metrics.f1_score(Y_test,Pred_test))\n",
        "\n",
        "print(\"Train Confusion Matrix:\\n\",metrics.confusion_matrix(Y_train,Pred_train))\n",
        "print(\"Test Confusion Matrix:\\n\",metrics.confusion_matrix(Y_test,Pred_test))"
      ],
      "execution_count": 0,
      "outputs": []
    },
    {
      "cell_type": "code",
      "metadata": {
        "id": "JfhQX7WbbYRR",
        "colab_type": "code",
        "colab": {}
      },
      "source": [
        "(X_test[(Pred_test == 1)&(Y_test == 1)]['AMOUNT_USD'].sum()/X_test[Y_test == 1]['AMOUNT_USD'].sum())*100"
      ],
      "execution_count": 0,
      "outputs": []
    },
    {
      "cell_type": "markdown",
      "metadata": {
        "id": "v_Vl_LtEZcUd",
        "colab_type": "text"
      },
      "source": [
        "# **Experiments on Scaled Data**"
      ]
    },
    {
      "cell_type": "code",
      "metadata": {
        "id": "HngTZ3XiZsFp",
        "colab_type": "code",
        "colab": {}
      },
      "source": [
        "lr = LogisticRegression(C=10, class_weight={1: 0.7, 0: 0.3}, dual=False,\n",
        "          fit_intercept=True, intercept_scaling=1, max_iter=100,\n",
        "          multi_class='warn', n_jobs=None, penalty='l1', random_state=None,\n",
        "          solver='warn', tol=0.0001, verbose=0, warm_start=False)"
      ],
      "execution_count": 0,
      "outputs": []
    },
    {
      "cell_type": "code",
      "metadata": {
        "id": "hkYtuwEwaGzh",
        "colab_type": "code",
        "colab": {
          "base_uri": "https://localhost:8080/",
          "height": 318
        },
        "outputId": "d2c121cb-b402-4feb-c9d1-af1e114dbff1"
      },
      "source": [
        "from sklearn.preprocessing import MinMaxScaler\n",
        "scaler = MinMaxScaler()\n",
        "scaler.fit(X_train)\n",
        "X_train_scaled = pd.DataFrame(scaler.transform(X_train),columns = X_train.columns,index = X_train.index)\n",
        "X_train_scaled.head()"
      ],
      "execution_count": 34,
      "outputs": [
        {
          "output_type": "execute_result",
          "data": {
            "text/html": [
              "<div>\n",
              "<style scoped>\n",
              "    .dataframe tbody tr th:only-of-type {\n",
              "        vertical-align: middle;\n",
              "    }\n",
              "\n",
              "    .dataframe tbody tr th {\n",
              "        vertical-align: top;\n",
              "    }\n",
              "\n",
              "    .dataframe thead th {\n",
              "        text-align: right;\n",
              "    }\n",
              "</style>\n",
              "<table border=\"1\" class=\"dataframe\">\n",
              "  <thead>\n",
              "    <tr style=\"text-align: right;\">\n",
              "      <th></th>\n",
              "      <th>USER_AMOUNT_Z-Score</th>\n",
              "      <th>USER_AMOUNT_hourOfDay_Z-Score</th>\n",
              "      <th>USER_AMOUNT_dayOfWeek_Z-Score</th>\n",
              "      <th>User_PHONE_COUNTRY_Count</th>\n",
              "      <th>User_Unique_Currency_Count</th>\n",
              "      <th>AMOUNT_USD</th>\n",
              "      <th>AMOUNT_USD-AMOUNT</th>\n",
              "      <th>AMOUNT_USD_First_Digit</th>\n",
              "      <th>AMOUNT_USD_Last_Digit</th>\n",
              "      <th>Currency</th>\n",
              "      <th>MERCHANT_CATEGORY_</th>\n",
              "      <th>MERCHANT_COUNTRY</th>\n",
              "      <th>ENTRY_METHOD</th>\n",
              "      <th>TYPE</th>\n",
              "      <th>SOURCE</th>\n",
              "      <th>HAS_E-MAIL</th>\n",
              "      <th>COUNTRY</th>\n",
              "      <th>KYC</th>\n",
              "      <th>FAILED_SIGN_IN_ATTEMPT</th>\n",
              "      <th>IS_CRYPTO</th>\n",
              "      <th>TERMS_VERSION</th>\n",
              "      <th>BIRTH_YEAR</th>\n",
              "      <th>Current_Created_User</th>\n",
              "      <th>trx_Month</th>\n",
              "    </tr>\n",
              "  </thead>\n",
              "  <tbody>\n",
              "    <tr>\n",
              "      <th>0</th>\n",
              "      <td>0.996838</td>\n",
              "      <td>0.998787</td>\n",
              "      <td>0.998793</td>\n",
              "      <td>0.0</td>\n",
              "      <td>0.333333</td>\n",
              "      <td>3.556288e-08</td>\n",
              "      <td>0.003871</td>\n",
              "      <td>0.555556</td>\n",
              "      <td>1.000000</td>\n",
              "      <td>0.25</td>\n",
              "      <td>0.994104</td>\n",
              "      <td>0.909169</td>\n",
              "      <td>0.324022</td>\n",
              "      <td>0.090343</td>\n",
              "      <td>0.065894</td>\n",
              "      <td>1.0</td>\n",
              "      <td>0.422392</td>\n",
              "      <td>0.000898</td>\n",
              "      <td>0.0</td>\n",
              "      <td>0.0</td>\n",
              "      <td>1.000000</td>\n",
              "      <td>0.828125</td>\n",
              "      <td>0.196130</td>\n",
              "      <td>0.0</td>\n",
              "    </tr>\n",
              "    <tr>\n",
              "      <th>1</th>\n",
              "      <td>0.996836</td>\n",
              "      <td>0.998963</td>\n",
              "      <td>0.998816</td>\n",
              "      <td>0.0</td>\n",
              "      <td>0.333333</td>\n",
              "      <td>7.336905e-08</td>\n",
              "      <td>0.003871</td>\n",
              "      <td>0.111111</td>\n",
              "      <td>0.222222</td>\n",
              "      <td>0.25</td>\n",
              "      <td>0.994122</td>\n",
              "      <td>0.909165</td>\n",
              "      <td>1.000000</td>\n",
              "      <td>0.090343</td>\n",
              "      <td>0.065894</td>\n",
              "      <td>1.0</td>\n",
              "      <td>0.508906</td>\n",
              "      <td>0.000898</td>\n",
              "      <td>0.0</td>\n",
              "      <td>0.0</td>\n",
              "      <td>0.000000</td>\n",
              "      <td>0.750000</td>\n",
              "      <td>0.108350</td>\n",
              "      <td>0.0</td>\n",
              "    </tr>\n",
              "    <tr>\n",
              "      <th>2</th>\n",
              "      <td>0.996832</td>\n",
              "      <td>0.998794</td>\n",
              "      <td>0.998821</td>\n",
              "      <td>1.0</td>\n",
              "      <td>0.000000</td>\n",
              "      <td>7.363297e-08</td>\n",
              "      <td>0.003871</td>\n",
              "      <td>0.111111</td>\n",
              "      <td>0.666667</td>\n",
              "      <td>0.00</td>\n",
              "      <td>0.994122</td>\n",
              "      <td>0.909169</td>\n",
              "      <td>0.324022</td>\n",
              "      <td>0.090343</td>\n",
              "      <td>0.065894</td>\n",
              "      <td>1.0</td>\n",
              "      <td>1.000000</td>\n",
              "      <td>0.000898</td>\n",
              "      <td>0.0</td>\n",
              "      <td>0.0</td>\n",
              "      <td>0.967078</td>\n",
              "      <td>0.875000</td>\n",
              "      <td>0.070619</td>\n",
              "      <td>0.0</td>\n",
              "    </tr>\n",
              "    <tr>\n",
              "      <th>3</th>\n",
              "      <td>0.996792</td>\n",
              "      <td>0.998949</td>\n",
              "      <td>0.998804</td>\n",
              "      <td>1.0</td>\n",
              "      <td>0.000000</td>\n",
              "      <td>1.163876e-07</td>\n",
              "      <td>0.003871</td>\n",
              "      <td>0.111111</td>\n",
              "      <td>0.444444</td>\n",
              "      <td>0.00</td>\n",
              "      <td>0.994161</td>\n",
              "      <td>0.909274</td>\n",
              "      <td>0.664804</td>\n",
              "      <td>0.230530</td>\n",
              "      <td>0.044171</td>\n",
              "      <td>1.0</td>\n",
              "      <td>1.000000</td>\n",
              "      <td>0.000898</td>\n",
              "      <td>0.0</td>\n",
              "      <td>0.0</td>\n",
              "      <td>0.000000</td>\n",
              "      <td>0.843750</td>\n",
              "      <td>0.040392</td>\n",
              "      <td>0.0</td>\n",
              "    </tr>\n",
              "    <tr>\n",
              "      <th>4</th>\n",
              "      <td>0.996783</td>\n",
              "      <td>0.998807</td>\n",
              "      <td>0.998793</td>\n",
              "      <td>1.0</td>\n",
              "      <td>0.000000</td>\n",
              "      <td>8.313400e-08</td>\n",
              "      <td>0.003871</td>\n",
              "      <td>0.111111</td>\n",
              "      <td>0.000000</td>\n",
              "      <td>0.00</td>\n",
              "      <td>0.994161</td>\n",
              "      <td>0.909274</td>\n",
              "      <td>0.664804</td>\n",
              "      <td>0.230530</td>\n",
              "      <td>0.044171</td>\n",
              "      <td>1.0</td>\n",
              "      <td>1.000000</td>\n",
              "      <td>0.000898</td>\n",
              "      <td>0.0</td>\n",
              "      <td>0.0</td>\n",
              "      <td>0.000000</td>\n",
              "      <td>0.843750</td>\n",
              "      <td>0.040395</td>\n",
              "      <td>0.0</td>\n",
              "    </tr>\n",
              "  </tbody>\n",
              "</table>\n",
              "</div>"
            ],
            "text/plain": [
              "   USER_AMOUNT_Z-Score  USER_AMOUNT_hourOfDay_Z-Score  \\\n",
              "0             0.996838                       0.998787   \n",
              "1             0.996836                       0.998963   \n",
              "2             0.996832                       0.998794   \n",
              "3             0.996792                       0.998949   \n",
              "4             0.996783                       0.998807   \n",
              "\n",
              "   USER_AMOUNT_dayOfWeek_Z-Score  User_PHONE_COUNTRY_Count  \\\n",
              "0                       0.998793                       0.0   \n",
              "1                       0.998816                       0.0   \n",
              "2                       0.998821                       1.0   \n",
              "3                       0.998804                       1.0   \n",
              "4                       0.998793                       1.0   \n",
              "\n",
              "   User_Unique_Currency_Count    AMOUNT_USD  AMOUNT_USD-AMOUNT  \\\n",
              "0                    0.333333  3.556288e-08           0.003871   \n",
              "1                    0.333333  7.336905e-08           0.003871   \n",
              "2                    0.000000  7.363297e-08           0.003871   \n",
              "3                    0.000000  1.163876e-07           0.003871   \n",
              "4                    0.000000  8.313400e-08           0.003871   \n",
              "\n",
              "   AMOUNT_USD_First_Digit  AMOUNT_USD_Last_Digit  Currency  \\\n",
              "0                0.555556               1.000000      0.25   \n",
              "1                0.111111               0.222222      0.25   \n",
              "2                0.111111               0.666667      0.00   \n",
              "3                0.111111               0.444444      0.00   \n",
              "4                0.111111               0.000000      0.00   \n",
              "\n",
              "   MERCHANT_CATEGORY_  MERCHANT_COUNTRY  ENTRY_METHOD      TYPE    SOURCE  \\\n",
              "0            0.994104          0.909169      0.324022  0.090343  0.065894   \n",
              "1            0.994122          0.909165      1.000000  0.090343  0.065894   \n",
              "2            0.994122          0.909169      0.324022  0.090343  0.065894   \n",
              "3            0.994161          0.909274      0.664804  0.230530  0.044171   \n",
              "4            0.994161          0.909274      0.664804  0.230530  0.044171   \n",
              "\n",
              "   HAS_E-MAIL   COUNTRY       KYC  FAILED_SIGN_IN_ATTEMPT  IS_CRYPTO  \\\n",
              "0         1.0  0.422392  0.000898                     0.0        0.0   \n",
              "1         1.0  0.508906  0.000898                     0.0        0.0   \n",
              "2         1.0  1.000000  0.000898                     0.0        0.0   \n",
              "3         1.0  1.000000  0.000898                     0.0        0.0   \n",
              "4         1.0  1.000000  0.000898                     0.0        0.0   \n",
              "\n",
              "   TERMS_VERSION  BIRTH_YEAR  Current_Created_User  trx_Month  \n",
              "0       1.000000    0.828125              0.196130        0.0  \n",
              "1       0.000000    0.750000              0.108350        0.0  \n",
              "2       0.967078    0.875000              0.070619        0.0  \n",
              "3       0.000000    0.843750              0.040392        0.0  \n",
              "4       0.000000    0.843750              0.040395        0.0  "
            ]
          },
          "metadata": {
            "tags": []
          },
          "execution_count": 34
        }
      ]
    },
    {
      "cell_type": "code",
      "metadata": {
        "id": "cbOr0s2zcOFx",
        "colab_type": "code",
        "colab": {
          "base_uri": "https://localhost:8080/",
          "height": 318
        },
        "outputId": "4a8ba9a9-4cae-4d8d-8e50-48e7c5700255"
      },
      "source": [
        "X_test_scaled = pd.DataFrame(scaler.transform(X_test),columns = X_test.columns,index = X_test.index)\n",
        "X_test_scaled.head()"
      ],
      "execution_count": 35,
      "outputs": [
        {
          "output_type": "execute_result",
          "data": {
            "text/html": [
              "<div>\n",
              "<style scoped>\n",
              "    .dataframe tbody tr th:only-of-type {\n",
              "        vertical-align: middle;\n",
              "    }\n",
              "\n",
              "    .dataframe tbody tr th {\n",
              "        vertical-align: top;\n",
              "    }\n",
              "\n",
              "    .dataframe thead th {\n",
              "        text-align: right;\n",
              "    }\n",
              "</style>\n",
              "<table border=\"1\" class=\"dataframe\">\n",
              "  <thead>\n",
              "    <tr style=\"text-align: right;\">\n",
              "      <th></th>\n",
              "      <th>USER_AMOUNT_Z-Score</th>\n",
              "      <th>USER_AMOUNT_hourOfDay_Z-Score</th>\n",
              "      <th>USER_AMOUNT_dayOfWeek_Z-Score</th>\n",
              "      <th>User_PHONE_COUNTRY_Count</th>\n",
              "      <th>User_Unique_Currency_Count</th>\n",
              "      <th>AMOUNT_USD</th>\n",
              "      <th>AMOUNT_USD-AMOUNT</th>\n",
              "      <th>AMOUNT_USD_First_Digit</th>\n",
              "      <th>AMOUNT_USD_Last_Digit</th>\n",
              "      <th>Currency</th>\n",
              "      <th>MERCHANT_CATEGORY_</th>\n",
              "      <th>MERCHANT_COUNTRY</th>\n",
              "      <th>ENTRY_METHOD</th>\n",
              "      <th>TYPE</th>\n",
              "      <th>SOURCE</th>\n",
              "      <th>HAS_E-MAIL</th>\n",
              "      <th>COUNTRY</th>\n",
              "      <th>KYC</th>\n",
              "      <th>FAILED_SIGN_IN_ATTEMPT</th>\n",
              "      <th>IS_CRYPTO</th>\n",
              "      <th>TERMS_VERSION</th>\n",
              "      <th>BIRTH_YEAR</th>\n",
              "      <th>Current_Created_User</th>\n",
              "      <th>trx_Month</th>\n",
              "    </tr>\n",
              "  </thead>\n",
              "  <tbody>\n",
              "    <tr>\n",
              "      <th>0</th>\n",
              "      <td>0.996841</td>\n",
              "      <td>0.998851</td>\n",
              "      <td>0.998790</td>\n",
              "      <td>1.0</td>\n",
              "      <td>0.333333</td>\n",
              "      <td>1.541938e-07</td>\n",
              "      <td>0.003871</td>\n",
              "      <td>0.222222</td>\n",
              "      <td>0.777778</td>\n",
              "      <td>0.00</td>\n",
              "      <td>0.994407</td>\n",
              "      <td>0.909274</td>\n",
              "      <td>0.664804</td>\n",
              "      <td>1.000000</td>\n",
              "      <td>0.065170</td>\n",
              "      <td>1.0</td>\n",
              "      <td>1.000000</td>\n",
              "      <td>0.000898</td>\n",
              "      <td>0.0</td>\n",
              "      <td>0.0</td>\n",
              "      <td>0.000000</td>\n",
              "      <td>0.828125</td>\n",
              "      <td>0.116198</td>\n",
              "      <td>0.0</td>\n",
              "    </tr>\n",
              "    <tr>\n",
              "      <th>1</th>\n",
              "      <td>0.996818</td>\n",
              "      <td>0.998807</td>\n",
              "      <td>0.998789</td>\n",
              "      <td>1.0</td>\n",
              "      <td>0.166667</td>\n",
              "      <td>2.495340e-07</td>\n",
              "      <td>0.003871</td>\n",
              "      <td>0.333333</td>\n",
              "      <td>0.222222</td>\n",
              "      <td>0.00</td>\n",
              "      <td>0.994161</td>\n",
              "      <td>0.909274</td>\n",
              "      <td>0.664804</td>\n",
              "      <td>0.230530</td>\n",
              "      <td>0.040550</td>\n",
              "      <td>1.0</td>\n",
              "      <td>1.000000</td>\n",
              "      <td>0.000898</td>\n",
              "      <td>0.0</td>\n",
              "      <td>0.0</td>\n",
              "      <td>0.205761</td>\n",
              "      <td>0.671875</td>\n",
              "      <td>0.050435</td>\n",
              "      <td>0.0</td>\n",
              "    </tr>\n",
              "    <tr>\n",
              "      <th>2</th>\n",
              "      <td>0.996834</td>\n",
              "      <td>0.998827</td>\n",
              "      <td>0.998827</td>\n",
              "      <td>1.0</td>\n",
              "      <td>0.166667</td>\n",
              "      <td>8.313400e-08</td>\n",
              "      <td>0.003871</td>\n",
              "      <td>0.111111</td>\n",
              "      <td>0.000000</td>\n",
              "      <td>0.00</td>\n",
              "      <td>0.994161</td>\n",
              "      <td>0.909274</td>\n",
              "      <td>0.664804</td>\n",
              "      <td>0.230530</td>\n",
              "      <td>0.040550</td>\n",
              "      <td>1.0</td>\n",
              "      <td>1.000000</td>\n",
              "      <td>0.000898</td>\n",
              "      <td>0.0</td>\n",
              "      <td>0.0</td>\n",
              "      <td>0.000000</td>\n",
              "      <td>0.750000</td>\n",
              "      <td>0.361027</td>\n",
              "      <td>0.0</td>\n",
              "    </tr>\n",
              "    <tr>\n",
              "      <th>3</th>\n",
              "      <td>0.996810</td>\n",
              "      <td>0.998814</td>\n",
              "      <td>0.998804</td>\n",
              "      <td>1.0</td>\n",
              "      <td>0.166667</td>\n",
              "      <td>2.203711e-08</td>\n",
              "      <td>0.003871</td>\n",
              "      <td>0.333333</td>\n",
              "      <td>0.444444</td>\n",
              "      <td>0.00</td>\n",
              "      <td>0.994122</td>\n",
              "      <td>0.909354</td>\n",
              "      <td>1.000000</td>\n",
              "      <td>0.090343</td>\n",
              "      <td>0.065894</td>\n",
              "      <td>1.0</td>\n",
              "      <td>1.000000</td>\n",
              "      <td>0.000898</td>\n",
              "      <td>0.0</td>\n",
              "      <td>0.0</td>\n",
              "      <td>0.000000</td>\n",
              "      <td>0.750000</td>\n",
              "      <td>0.361028</td>\n",
              "      <td>0.0</td>\n",
              "    </tr>\n",
              "    <tr>\n",
              "      <th>4</th>\n",
              "      <td>0.996811</td>\n",
              "      <td>0.998807</td>\n",
              "      <td>0.998743</td>\n",
              "      <td>0.0</td>\n",
              "      <td>0.000000</td>\n",
              "      <td>6.663916e-09</td>\n",
              "      <td>0.003871</td>\n",
              "      <td>0.111111</td>\n",
              "      <td>0.111111</td>\n",
              "      <td>0.25</td>\n",
              "      <td>0.994171</td>\n",
              "      <td>0.909177</td>\n",
              "      <td>1.000000</td>\n",
              "      <td>0.090343</td>\n",
              "      <td>0.065894</td>\n",
              "      <td>1.0</td>\n",
              "      <td>0.267176</td>\n",
              "      <td>0.000898</td>\n",
              "      <td>0.0</td>\n",
              "      <td>0.0</td>\n",
              "      <td>0.658436</td>\n",
              "      <td>0.703125</td>\n",
              "      <td>0.339989</td>\n",
              "      <td>0.0</td>\n",
              "    </tr>\n",
              "  </tbody>\n",
              "</table>\n",
              "</div>"
            ],
            "text/plain": [
              "   USER_AMOUNT_Z-Score  USER_AMOUNT_hourOfDay_Z-Score  \\\n",
              "0             0.996841                       0.998851   \n",
              "1             0.996818                       0.998807   \n",
              "2             0.996834                       0.998827   \n",
              "3             0.996810                       0.998814   \n",
              "4             0.996811                       0.998807   \n",
              "\n",
              "   USER_AMOUNT_dayOfWeek_Z-Score  User_PHONE_COUNTRY_Count  \\\n",
              "0                       0.998790                       1.0   \n",
              "1                       0.998789                       1.0   \n",
              "2                       0.998827                       1.0   \n",
              "3                       0.998804                       1.0   \n",
              "4                       0.998743                       0.0   \n",
              "\n",
              "   User_Unique_Currency_Count    AMOUNT_USD  AMOUNT_USD-AMOUNT  \\\n",
              "0                    0.333333  1.541938e-07           0.003871   \n",
              "1                    0.166667  2.495340e-07           0.003871   \n",
              "2                    0.166667  8.313400e-08           0.003871   \n",
              "3                    0.166667  2.203711e-08           0.003871   \n",
              "4                    0.000000  6.663916e-09           0.003871   \n",
              "\n",
              "   AMOUNT_USD_First_Digit  AMOUNT_USD_Last_Digit  Currency  \\\n",
              "0                0.222222               0.777778      0.00   \n",
              "1                0.333333               0.222222      0.00   \n",
              "2                0.111111               0.000000      0.00   \n",
              "3                0.333333               0.444444      0.00   \n",
              "4                0.111111               0.111111      0.25   \n",
              "\n",
              "   MERCHANT_CATEGORY_  MERCHANT_COUNTRY  ENTRY_METHOD      TYPE    SOURCE  \\\n",
              "0            0.994407          0.909274      0.664804  1.000000  0.065170   \n",
              "1            0.994161          0.909274      0.664804  0.230530  0.040550   \n",
              "2            0.994161          0.909274      0.664804  0.230530  0.040550   \n",
              "3            0.994122          0.909354      1.000000  0.090343  0.065894   \n",
              "4            0.994171          0.909177      1.000000  0.090343  0.065894   \n",
              "\n",
              "   HAS_E-MAIL   COUNTRY       KYC  FAILED_SIGN_IN_ATTEMPT  IS_CRYPTO  \\\n",
              "0         1.0  1.000000  0.000898                     0.0        0.0   \n",
              "1         1.0  1.000000  0.000898                     0.0        0.0   \n",
              "2         1.0  1.000000  0.000898                     0.0        0.0   \n",
              "3         1.0  1.000000  0.000898                     0.0        0.0   \n",
              "4         1.0  0.267176  0.000898                     0.0        0.0   \n",
              "\n",
              "   TERMS_VERSION  BIRTH_YEAR  Current_Created_User  trx_Month  \n",
              "0       0.000000    0.828125              0.116198        0.0  \n",
              "1       0.205761    0.671875              0.050435        0.0  \n",
              "2       0.000000    0.750000              0.361027        0.0  \n",
              "3       0.000000    0.750000              0.361028        0.0  \n",
              "4       0.658436    0.703125              0.339989        0.0  "
            ]
          },
          "metadata": {
            "tags": []
          },
          "execution_count": 35
        }
      ]
    },
    {
      "cell_type": "code",
      "metadata": {
        "id": "gUPX88qFch5-",
        "colab_type": "code",
        "colab": {}
      },
      "source": [
        ""
      ],
      "execution_count": 0,
      "outputs": []
    },
    {
      "cell_type": "markdown",
      "metadata": {
        "id": "oxHUMAJacjKt",
        "colab_type": "text"
      },
      "source": [
        "### **Light-GBM**"
      ]
    },
    {
      "cell_type": "code",
      "metadata": {
        "id": "tDKtbPZwch-D",
        "colab_type": "code",
        "colab": {
          "base_uri": "https://localhost:8080/",
          "height": 250
        },
        "outputId": "787561f1-470d-49d7-bacc-6525a0d80d87"
      },
      "source": [
        "LGB_Best.fit(X_train_scaled,Y_train)\n",
        "\n",
        "Pred_train=LGB_Best.predict(X_train_scaled)\n",
        "Pred_test=LGB_Best.predict(X_test_scaled)\n",
        "\n",
        "\n",
        "print(\" Train Recall Score := \",metrics.recall_score(Y_train,Pred_train))\n",
        "print(\" Test Recall Score := \",metrics.recall_score(Y_test,Pred_test))\n",
        "print(\" Train Precision Score := \",metrics.precision_score(Y_train,Pred_train))\n",
        "print(\" Test Precision Score := \",metrics.precision_score(Y_test,Pred_test))\n",
        "print(\" Train AUC-ROC Score := \",metrics.roc_auc_score(Y_train,Pred_train))\n",
        "print(\" Test AUC-ROC Score := \",metrics.roc_auc_score(Y_test,Pred_test))\n",
        "print(\" Train F1 Score := \",metrics.f1_score(Y_train,Pred_train))\n",
        "print(\" Test F1 Score := \",metrics.f1_score(Y_test,Pred_test))\n",
        "\n",
        "print(\"Train Confusion Matrix:\\n\",metrics.confusion_matrix(Y_train,Pred_train))\n",
        "print(\"Test Confusion Matrix:\\n\",metrics.confusion_matrix(Y_test,Pred_test))"
      ],
      "execution_count": 36,
      "outputs": [
        {
          "output_type": "stream",
          "text": [
            " Train Recall Score :=  0.8740659894215431\n",
            " Test Recall Score :=  0.6123061530765382\n",
            " Train Precision Score :=  0.9126051893408135\n",
            " Test Precision Score :=  0.8464730290456431\n",
            " Train AUC-ROC Score :=  0.9319287075191023\n",
            " Test AUC-ROC Score :=  0.8021064123020315\n",
            " Train F1 Score :=  0.8929199365324413\n",
            " Test F1 Score :=  0.7105950653120464\n",
            "Train Confusion Matrix:\n",
            " [[96666   997]\n",
            " [ 1500 10411]]\n",
            "Test Confusion Matrix:\n",
            " [[27208   222]\n",
            " [  775  1224]]\n"
          ],
          "name": "stdout"
        }
      ]
    },
    {
      "cell_type": "code",
      "metadata": {
        "id": "nXnKBncMciFi",
        "colab_type": "code",
        "colab": {
          "base_uri": "https://localhost:8080/",
          "height": 33
        },
        "outputId": "1b0eb99c-2d8c-4085-baf2-b1220d684630"
      },
      "source": [
        "(X_test[(Pred_test == 1)&(Y_test == 1)]['AMOUNT_USD'].sum()/X_test[Y_test == 1]['AMOUNT_USD'].sum())*100"
      ],
      "execution_count": 37,
      "outputs": [
        {
          "output_type": "execute_result",
          "data": {
            "text/plain": [
              "58.477464686710455"
            ]
          },
          "metadata": {
            "tags": []
          },
          "execution_count": 37
        }
      ]
    },
    {
      "cell_type": "code",
      "metadata": {
        "id": "CAqG-HaDciH-",
        "colab_type": "code",
        "colab": {}
      },
      "source": [
        ""
      ],
      "execution_count": 0,
      "outputs": []
    },
    {
      "cell_type": "code",
      "metadata": {
        "id": "XODgFi_RciLA",
        "colab_type": "code",
        "colab": {}
      },
      "source": [
        ""
      ],
      "execution_count": 0,
      "outputs": []
    },
    {
      "cell_type": "code",
      "metadata": {
        "id": "5MhoNQf4ciNU",
        "colab_type": "code",
        "colab": {}
      },
      "source": [
        ""
      ],
      "execution_count": 0,
      "outputs": []
    },
    {
      "cell_type": "markdown",
      "metadata": {
        "id": "ZFJbS-UhcnS5",
        "colab_type": "text"
      },
      "source": [
        "### **Logistic Regression**"
      ]
    },
    {
      "cell_type": "code",
      "metadata": {
        "id": "-KjXFGYzcqA-",
        "colab_type": "code",
        "colab": {}
      },
      "source": [
        ""
      ],
      "execution_count": 0,
      "outputs": []
    },
    {
      "cell_type": "code",
      "metadata": {
        "id": "k-vX0ZQQcqpT",
        "colab_type": "code",
        "colab": {
          "base_uri": "https://localhost:8080/",
          "height": 250
        },
        "outputId": "64a43e78-75b7-4a4e-863c-ff5acaf72191"
      },
      "source": [
        "lr.fit(X_train_scaled,Y_train)\n",
        "Pred_train=lr.predict(X_train_scaled)\n",
        "Pred_test=lr.predict(X_test_scaled)\n",
        "\n",
        "print(\" Train Recall Score := \",metrics.recall_score(Y_train,Pred_train))\n",
        "print(\" Test Recall Score := \",metrics.recall_score(Y_test,Pred_test))\n",
        "print(\" Train Precision Score := \",metrics.precision_score(Y_train,Pred_train))\n",
        "print(\" Test Precision Score := \",metrics.precision_score(Y_test,Pred_test))\n",
        "print(\" Train AUC-ROC Score := \",metrics.roc_auc_score(Y_train,Pred_train))\n",
        "print(\" Test AUC-ROC Score := \",metrics.roc_auc_score(Y_test,Pred_test))\n",
        "print(\" Train F1 Score := \",metrics.f1_score(Y_train,Pred_train))\n",
        "print(\" Test F1 Score := \",metrics.f1_score(Y_test,Pred_test))\n",
        "\n",
        "print(\"Train Confusion Matrix:\\n\",metrics.confusion_matrix(Y_train,Pred_train))\n",
        "print(\"Test Confusion Matrix:\\n\",metrics.confusion_matrix(Y_test,Pred_test))"
      ],
      "execution_count": 39,
      "outputs": [
        {
          "output_type": "stream",
          "text": [
            " Train Recall Score :=  0.7025438670136849\n",
            " Test Recall Score :=  0.6338169084542271\n",
            " Train Precision Score :=  0.655234515699632\n",
            " Test Precision Score :=  0.6079654510556622\n",
            " Train AUC-ROC Score :=  0.8287301315961905\n",
            " Test AUC-ROC Score :=  0.8020160007090676\n",
            " Train F1 Score :=  0.6780649866299328\n",
            " Test F1 Score :=  0.6206220915993143\n",
            "Train Confusion Matrix:\n",
            " [[93260  4403]\n",
            " [ 3543  8368]]\n",
            "Test Confusion Matrix:\n",
            " [[26613   817]\n",
            " [  732  1267]]\n"
          ],
          "name": "stdout"
        }
      ]
    },
    {
      "cell_type": "code",
      "metadata": {
        "id": "n7lpiDWWcqrp",
        "colab_type": "code",
        "colab": {
          "base_uri": "https://localhost:8080/",
          "height": 33
        },
        "outputId": "7702a7e3-4b06-4286-ff57-04611f10fa58"
      },
      "source": [
        "(X_test[(Pred_test == 1)&(Y_test == 1)]['AMOUNT_USD'].sum()/X_test[Y_test == 1]['AMOUNT_USD'].sum())*100"
      ],
      "execution_count": 40,
      "outputs": [
        {
          "output_type": "execute_result",
          "data": {
            "text/plain": [
              "65.54353570471905"
            ]
          },
          "metadata": {
            "tags": []
          },
          "execution_count": 40
        }
      ]
    },
    {
      "cell_type": "code",
      "metadata": {
        "id": "4XowumefcquJ",
        "colab_type": "code",
        "colab": {}
      },
      "source": [
        ""
      ],
      "execution_count": 0,
      "outputs": []
    },
    {
      "cell_type": "code",
      "metadata": {
        "id": "1vgMyapicrYf",
        "colab_type": "code",
        "colab": {}
      },
      "source": [
        ""
      ],
      "execution_count": 0,
      "outputs": []
    },
    {
      "cell_type": "markdown",
      "metadata": {
        "id": "NPQxHA6IcsEO",
        "colab_type": "text"
      },
      "source": [
        "### **Ensembled Model**"
      ]
    },
    {
      "cell_type": "code",
      "metadata": {
        "id": "PR7P84OCcwKL",
        "colab_type": "code",
        "colab": {
          "base_uri": "https://localhost:8080/",
          "height": 250
        },
        "outputId": "3a6f9ed1-57a8-4de4-fc8e-bfbb34207461"
      },
      "source": [
        "votingCPre = VotingClassifier(estimators=[('lgbm', LGB_Best),\n",
        "                                          ('lr',lr)\n",
        "                                         ], voting='soft', n_jobs=4)\n",
        "\n",
        "votingCPre = votingCPre.fit(X_train_scaled,Y_train)\n",
        "Pred_train=votingCPre.predict(X_train_scaled)\n",
        "Pred_test=votingCPre.predict(X_test_scaled)\n",
        "\n",
        "print(\" Train Recall Score := \",metrics.recall_score(Y_train,Pred_train))\n",
        "print(\" Test Recall Score := \",metrics.recall_score(Y_test,Pred_test))\n",
        "print(\" Train Precision Score := \",metrics.precision_score(Y_train,Pred_train))\n",
        "print(\" Test Precision Score := \",metrics.precision_score(Y_test,Pred_test))\n",
        "print(\" Train AUC-ROC Score := \",metrics.roc_auc_score(Y_train,Pred_train))\n",
        "print(\" Test AUC-ROC Score := \",metrics.roc_auc_score(Y_test,Pred_test))\n",
        "print(\" Train F1 Score := \",metrics.f1_score(Y_train,Pred_train))\n",
        "print(\" Test F1 Score := \",metrics.f1_score(Y_test,Pred_test))\n",
        "\n",
        "print(\"Train Confusion Matrix:\\n\",metrics.confusion_matrix(Y_train,Pred_train))\n",
        "print(\"Test Confusion Matrix:\\n\",metrics.confusion_matrix(Y_test,Pred_test))"
      ],
      "execution_count": 41,
      "outputs": [
        {
          "output_type": "stream",
          "text": [
            " Train Recall Score :=  0.7945596507430107\n",
            " Test Recall Score :=  0.6198099049524762\n",
            " Train Precision Score :=  0.8529968454258675\n",
            " Test Precision Score :=  0.7861675126903553\n",
            " Train AUC-ROC Score :=  0.8889296825333782\n",
            " Test AUC-ROC Score :=  0.8037620432527601\n",
            " Train F1 Score :=  0.822741893419108\n",
            " Test F1 Score :=  0.6931468531468532\n",
            "Train Confusion Matrix:\n",
            " [[96032  1631]\n",
            " [ 2447  9464]]\n",
            "Test Confusion Matrix:\n",
            " [[27093   337]\n",
            " [  760  1239]]\n"
          ],
          "name": "stdout"
        }
      ]
    },
    {
      "cell_type": "code",
      "metadata": {
        "id": "0P7Ng61peWkV",
        "colab_type": "code",
        "colab": {
          "base_uri": "https://localhost:8080/",
          "height": 33
        },
        "outputId": "d51d04f6-3bca-42f3-a02b-5aebfd4da0bb"
      },
      "source": [
        "(X_test[(Pred_test == 1)&(Y_test == 1)]['AMOUNT_USD'].sum()/X_test[Y_test == 1]['AMOUNT_USD'].sum())*100"
      ],
      "execution_count": 42,
      "outputs": [
        {
          "output_type": "execute_result",
          "data": {
            "text/plain": [
              "59.715727239011116"
            ]
          },
          "metadata": {
            "tags": []
          },
          "execution_count": 42
        }
      ]
    },
    {
      "cell_type": "code",
      "metadata": {
        "id": "fMwdAxu2hImF",
        "colab_type": "code",
        "colab": {}
      },
      "source": [
        ""
      ],
      "execution_count": 0,
      "outputs": []
    }
  ]
}