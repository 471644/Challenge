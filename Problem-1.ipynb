{
 "cells": [
  {
   "cell_type": "markdown",
   "metadata": {},
   "source": [
    "# Problem Statement - I"
   ]
  },
  {
   "cell_type": "markdown",
   "metadata": {},
   "source": [
    "*******************************************"
   ]
  },
  {
   "cell_type": "markdown",
   "metadata": {},
   "source": [
    "    ** Build a model that predicts **household income** based on a subset of the features available in the \n",
    "    file ‘DEMO_I.csv’.  Consider the typical steps involved in predictive modeling:  \n",
    "        1. Data Preparation and Exploration\n",
    "        2. Feature Engineering \n",
    "        3. Model Development and Validation\n",
    "        4. Model Interpretation.  \n",
    "    Consider the fact that the income provided is Household Income though the records are at the **individual person level**.  \n",
    "    Clearly present the quality of the model.\n",
    "    You can choose the algorithm(s) and evaluation metric(s) as you deem appropriate."
   ]
  },
  {
   "cell_type": "markdown",
   "metadata": {},
   "source": [
    "    1. ** Data Preparation **\n",
    "        a. Null Check\n",
    "        b. Zero Variance Check\n",
    "        c. Duplicate Check\n",
    "        d. Quasi Variance Check\n",
    "        \n",
    "    2. ** EDA **\n",
    "        a. Observation basic Uni-variate analysis , Corr and predictive power analysis\n",
    "        \n",
    "    3. ** Feature Engineering **\n",
    "        a. Basic Feature Transformation \n",
    "        b. 3-degree Polynomial Transformation\n",
    "        c. Feature selection based on general understanding\n",
    "        \n",
    "    4. ** Model Development & Validation **\n",
    "        a. LR\n",
    "        b. Random Forest\n",
    "        b. LGBM\n",
    "    5.  Hyper Parameter tuning and Final model\n",
    "    \n",
    "    6. ** Model Interpretation\n",
    "        a. Feature Importance\n",
    "        \n",
    "        \n",
    "    I have approached this problem as part predicing household levle at individual data level as given in dataset."
   ]
  },
  {
   "cell_type": "markdown",
   "metadata": {},
   "source": [
    "# Import Libraries "
   ]
  },
  {
   "cell_type": "markdown",
   "metadata": {},
   "source": [
    "******************************"
   ]
  },
  {
   "cell_type": "markdown",
   "metadata": {},
   "source": [
    "## General"
   ]
  },
  {
   "cell_type": "code",
   "execution_count": 1,
   "metadata": {},
   "outputs": [],
   "source": [
    "import os\n",
    "import glob\n",
    "import time\n",
    "import math\n",
    "import random\n",
    "import warnings\n",
    "import datetime\n",
    "import numpy as np\n",
    "import pandas as pd\n",
    "import seaborn as sns\n",
    "from pathlib import Path\n",
    "import matplotlib.cm as cm\n",
    "import dask.dataframe as dd\n",
    "import matplotlib.pyplot as plt\n",
    "from multiprocessing import Pool\n",
    "import matplotlib.lines as mlines\n",
    "from mpl_toolkits.mplot3d import Axes3D\n",
    "\n",
    "random.seed(1001)"
   ]
  },
  {
   "cell_type": "markdown",
   "metadata": {},
   "source": [
    "## Model & Preprocessing Libraries"
   ]
  },
  {
   "cell_type": "code",
   "execution_count": 2,
   "metadata": {},
   "outputs": [],
   "source": [
    "import gc\n",
    "import shap\n",
    "import ppscore as pps\n",
    "import lightgbm as lgb\n",
    "import missingno as msno\n",
    "from sklearn import metrics\n",
    "from hyperopt import Trials,hp, tpe\n",
    "from hyperopt.fmin import fmin\n",
    "from sklearn.metrics import make_scorer\n",
    "from sklearn.model_selection import train_test_split\n",
    "from sklearn.linear_model import LogisticRegression\n",
    "from sklearn.ensemble import RandomForestClassifier\n",
    "from sklearn.preprocessing import PolynomialFeatures\n",
    "from sklearn.feature_selection import VarianceThreshold\n",
    "from sklearn.model_selection import cross_val_score, StratifiedKFold, learning_curve, cross_validate"
   ]
  },
  {
   "cell_type": "markdown",
   "metadata": {},
   "source": [
    "## Display Settings "
   ]
  },
  {
   "cell_type": "code",
   "execution_count": 3,
   "metadata": {},
   "outputs": [],
   "source": [
    "sns.set(style=\"whitegrid\", color_codes=True)\n",
    "%matplotlib inline\n",
    "warnings.filterwarnings(\"ignore\")\n",
    "pd.set_option('max_colwidth', 999)\n",
    "pd.set_option('display.max_columns', 999)\n",
    "pd.set_option(\"display.max_rows\", 999)"
   ]
  },
  {
   "cell_type": "markdown",
   "metadata": {},
   "source": [
    "## Custom Functions"
   ]
  },
  {
   "cell_type": "code",
   "execution_count": 4,
   "metadata": {},
   "outputs": [],
   "source": [
    "##Function for Zero/Near-Zero Variance Check and Filter\n",
    "def zero_variance_extraction(input_df,threshold_n=0.95):\n",
    "    sel = VarianceThreshold(threshold=(threshold_n* (1 - threshold_n) ))\n",
    "    sel_var=sel.fit_transform(input_df.fillna(-999))\n",
    "    return sel.get_support(indices=True)\n",
    "\n",
    "\n",
    "#Chcek Duplicate Column\n",
    "def getDuplicateColumns(df):\n",
    "    '''\n",
    "    Get a list of duplicate columns.\n",
    "    It will iterate over all the columns in dataframe and find the columns whose contents are duplicate.\n",
    "    :param df: Dataframe object\n",
    "    :return: List of columns whose contents are duplicates.\n",
    "    '''\n",
    "    duplicateColumnNames = set()\n",
    "    # Iterate over all the columns in dataframe\n",
    "    for x in range(df.shape[1]):\n",
    "        # Select column at xth index.\n",
    "        col = df.iloc[:, x]\n",
    "        # Iterate over all the columns in DataFrame from (x+1)th index till end\n",
    "        for y in range(x + 1, df.shape[1]):\n",
    "            # Select column at yth index.\n",
    "            otherCol = df.iloc[:, y]\n",
    "            # Check if two columns at x 7 y index are equal\n",
    "            if col.equals(otherCol):\n",
    "                duplicateColumnNames.add(df.columns.values[y])\n",
    " \n",
    "    return list(duplicateColumnNames)\n",
    "\n",
    "## categorical_summarized (Stolen from Internet)\n",
    "def categorical_summarized(dataframe, x=None, y=None, hue=None, palette='Set1', verbose=True):\n",
    "    '''\n",
    "    Helper function that gives a quick summary of a given column of categorical data\n",
    "    Arguments\n",
    "    =========\n",
    "    dataframe: pandas dataframe\n",
    "    x: str. horizontal axis to plot the labels of categorical data, y would be the count\n",
    "    y: str. vertical axis to plot the labels of categorical data, x would be the count\n",
    "    hue: str. if you want to compare it another variable (usually the target variable)\n",
    "    palette: array-like. Colour of the plot\n",
    "    Returns\n",
    "    =======\n",
    "    Quick Stats of the data and also the count plot\n",
    "    '''\n",
    "    \n",
    "    print(\"***************\\n Feature Names \\n***************\\n \")\n",
    "    print(\"Target Feature : \", y)\n",
    "    print(\"Independent Feature : \", hue)\n",
    "    \n",
    "    if x == None:\n",
    "        column_interested = y\n",
    "    else:\n",
    "        column_interested = x\n",
    "    series = dataframe[column_interested]\n",
    "#     print(series.describe())\n",
    "    print('mode: ', series.mode())\n",
    "    if verbose:\n",
    "        print('='*80)\n",
    "#         print(series.value_counts())\n",
    "\n",
    "    sns.countplot(x=x, y=y, hue=hue, data=dataframe, palette=palette)\n",
    "    plt.show()"
   ]
  },
  {
   "cell_type": "markdown",
   "metadata": {},
   "source": [
    "# Intial analysis and Data Prep."
   ]
  },
  {
   "cell_type": "markdown",
   "metadata": {},
   "source": [
    "*********************************************"
   ]
  },
  {
   "cell_type": "code",
   "execution_count": 5,
   "metadata": {},
   "outputs": [],
   "source": [
    "demo_df = pd.read_csv(\"DEMO_I.csv\")"
   ]
  },
  {
   "cell_type": "code",
   "execution_count": 6,
   "metadata": {},
   "outputs": [
    {
     "name": "stdout",
     "output_type": "stream",
     "text": [
      "Varibale types and count:\n",
      "******************************\n",
      "   variableType  count\n",
      "0      float64     47\n"
     ]
    }
   ],
   "source": [
    "demo_df = demo_df.infer_objects() \n",
    "print(\"Varibale types and count:\\n******************************\\n\", \n",
    "      pd.DataFrame(demo_df.dtypes.value_counts()).reset_index().rename(columns={\"index\":\"variableType\",0:\"count\"}))"
   ]
  },
  {
   "cell_type": "code",
   "execution_count": 7,
   "metadata": {},
   "outputs": [
    {
     "name": "stdout",
     "output_type": "stream",
     "text": [
      "*************************************************\n",
      "demo_df shape: #rows, #columns :- (9971, 47)\n",
      "*************************************************\n",
      "Data info:\n",
      "\n",
      "*************************************************\n",
      "<class 'pandas.core.frame.DataFrame'>\n",
      "RangeIndex: 9971 entries, 0 to 9970\n",
      "Data columns (total 47 columns):\n",
      "SEQN        9971 non-null float64\n",
      "SDDSRVYR    9971 non-null float64\n",
      "RIDSTATR    9971 non-null float64\n",
      "RIAGENDR    9971 non-null float64\n",
      "RIDAGEYR    9971 non-null float64\n",
      "RIDAGEMN    695 non-null float64\n",
      "RIDRETH1    9971 non-null float64\n",
      "RIDRETH3    9971 non-null float64\n",
      "RIDEXMON    9544 non-null float64\n",
      "RIDEXAGM    4060 non-null float64\n",
      "DMQMILIZ    6149 non-null float64\n",
      "DMQADFC     527 non-null float64\n",
      "DMDBORN4    9971 non-null float64\n",
      "DMDCITZN    9969 non-null float64\n",
      "DMDYRSUS    2236 non-null float64\n",
      "DMDEDUC3    2647 non-null float64\n",
      "DMDEDUC2    5719 non-null float64\n",
      "DMDMARTL    5719 non-null float64\n",
      "RIDEXPRG    1288 non-null float64\n",
      "SIALANG     9971 non-null float64\n",
      "SIAPROXY    9970 non-null float64\n",
      "SIAINTRP    9971 non-null float64\n",
      "FIALANG     9642 non-null float64\n",
      "FIAPROXY    9642 non-null float64\n",
      "FIAINTRP    9642 non-null float64\n",
      "MIALANG     6977 non-null float64\n",
      "MIAPROXY    6978 non-null float64\n",
      "MIAINTRP    6978 non-null float64\n",
      "AIALANGA    5962 non-null float64\n",
      "DMDHHSIZ    9971 non-null float64\n",
      "DMDFMSIZ    9971 non-null float64\n",
      "DMDHHSZA    9971 non-null float64\n",
      "DMDHHSZB    9971 non-null float64\n",
      "DMDHHSZE    9971 non-null float64\n",
      "DMDHRGND    9971 non-null float64\n",
      "DMDHRAGE    9971 non-null float64\n",
      "DMDHRBR4    9575 non-null float64\n",
      "DMDHREDU    9575 non-null float64\n",
      "DMDHRMAR    9909 non-null float64\n",
      "DMDHSEDU    5226 non-null float64\n",
      "WTINT2YR    9971 non-null float64\n",
      "WTMEC2YR    9971 non-null float64\n",
      "SDMVPSU     9971 non-null float64\n",
      "SDMVSTRA    9971 non-null float64\n",
      "INDHHIN2    9626 non-null float64\n",
      "INDFMIN2    9642 non-null float64\n",
      "INDFMPIR    8919 non-null float64\n",
      "dtypes: float64(47)\n",
      "memory usage: 3.6 MB\n",
      "None\n",
      "*************************************************\n",
      "Glimpse of data:\n",
      "\n",
      "*************************************************\n",
      "                     0             1             2\n",
      "SEQN      8.373200e+04  8.373300e+04  8.373400e+04\n",
      "SDDSRVYR  9.000000e+00  9.000000e+00  9.000000e+00\n",
      "RIDSTATR  2.000000e+00  2.000000e+00  2.000000e+00\n",
      "RIAGENDR  1.000000e+00  1.000000e+00  1.000000e+00\n",
      "RIDAGEYR  6.200000e+01  5.300000e+01  7.800000e+01\n",
      "RIDAGEMN           NaN           NaN           NaN\n",
      "RIDRETH1  3.000000e+00  3.000000e+00  3.000000e+00\n",
      "RIDRETH3  3.000000e+00  3.000000e+00  3.000000e+00\n",
      "RIDEXMON  1.000000e+00  1.000000e+00  2.000000e+00\n",
      "RIDEXAGM           NaN           NaN           NaN\n",
      "DMQMILIZ  2.000000e+00  2.000000e+00  1.000000e+00\n",
      "DMQADFC            NaN           NaN  2.000000e+00\n",
      "DMDBORN4  1.000000e+00  2.000000e+00  1.000000e+00\n",
      "DMDCITZN  1.000000e+00  2.000000e+00  1.000000e+00\n",
      "DMDYRSUS           NaN  7.000000e+00           NaN\n",
      "DMDEDUC3           NaN           NaN           NaN\n",
      "DMDEDUC2  5.000000e+00  3.000000e+00  3.000000e+00\n",
      "DMDMARTL  1.000000e+00  3.000000e+00  1.000000e+00\n",
      "RIDEXPRG           NaN           NaN           NaN\n",
      "SIALANG   1.000000e+00  1.000000e+00  1.000000e+00\n",
      "SIAPROXY  2.000000e+00  2.000000e+00  2.000000e+00\n",
      "SIAINTRP  2.000000e+00  2.000000e+00  2.000000e+00\n",
      "FIALANG   1.000000e+00  1.000000e+00  1.000000e+00\n",
      "FIAPROXY  2.000000e+00  2.000000e+00  2.000000e+00\n",
      "FIAINTRP  2.000000e+00  2.000000e+00  2.000000e+00\n",
      "MIALANG   1.000000e+00  1.000000e+00  1.000000e+00\n",
      "MIAPROXY  2.000000e+00  2.000000e+00  2.000000e+00\n",
      "MIAINTRP  2.000000e+00  2.000000e+00  2.000000e+00\n",
      "AIALANGA  1.000000e+00  1.000000e+00           NaN\n",
      "DMDHHSIZ  2.000000e+00  1.000000e+00  2.000000e+00\n",
      "DMDFMSIZ  2.000000e+00  1.000000e+00  2.000000e+00\n",
      "DMDHHSZA  5.397605e-79  5.397605e-79  5.397605e-79\n",
      "DMDHHSZB  5.397605e-79  5.397605e-79  5.397605e-79\n",
      "DMDHHSZE  1.000000e+00  5.397605e-79  2.000000e+00\n",
      "DMDHRGND  1.000000e+00  1.000000e+00  2.000000e+00\n",
      "DMDHRAGE  6.200000e+01  5.300000e+01  7.900000e+01\n",
      "DMDHRBR4  1.000000e+00  2.000000e+00  1.000000e+00\n",
      "DMDHREDU  5.000000e+00  3.000000e+00  3.000000e+00\n",
      "DMDHRMAR  1.000000e+00  3.000000e+00  1.000000e+00\n",
      "DMDHSEDU  3.000000e+00           NaN  3.000000e+00\n",
      "WTINT2YR  1.346714e+05  2.432856e+04  1.240001e+04\n",
      "WTMEC2YR  1.356295e+05  2.528243e+04  1.257584e+04\n",
      "SDMVPSU   1.000000e+00  1.000000e+00  1.000000e+00\n",
      "SDMVSTRA  1.250000e+02  1.250000e+02  1.310000e+02\n",
      "INDHHIN2  1.000000e+01  4.000000e+00  5.000000e+00\n",
      "INDFMIN2  1.000000e+01  4.000000e+00  5.000000e+00\n",
      "INDFMPIR  4.390000e+00  1.320000e+00  1.510000e+00\n"
     ]
    }
   ],
   "source": [
    "print(\"*************************************************\")\n",
    "print(\"demo_df shape: #rows, #columns :-\",demo_df.shape)\n",
    "print(\"*************************************************\")\n",
    "print(\"Data info:\\n\")\n",
    "print(\"*************************************************\")\n",
    "print(demo_df.info())\n",
    "print(\"*************************************************\")\n",
    "print(\"Glimpse of data:\\n\")\n",
    "print(\"*************************************************\")\n",
    "print(demo_df.head(3).transpose())"
   ]
  },
  {
   "cell_type": "markdown",
   "metadata": {},
   "source": [
    "### Data Pre-processing "
   ]
  },
  {
   "cell_type": "markdown",
   "metadata": {},
   "source": [
    "#### Zero/Near-Zero Variance Check and Filter"
   ]
  },
  {
   "cell_type": "code",
   "execution_count": 8,
   "metadata": {},
   "outputs": [
    {
     "name": "stdout",
     "output_type": "stream",
     "text": [
      "Columns to be filtered : \n",
      " {'RIDSTATR', 'SDDSRVYR', 'SIAINTRP'}\n"
     ]
    }
   ],
   "source": [
    "var_threshold = 0.95 ## Threshold to be updated by user\n",
    "\n",
    "print(\"Columns to be filtered : \\n\", \n",
    "      set(demo_df.columns) - set(demo_df[demo_df.columns[zero_variance_extraction(demo_df,var_threshold)]].columns))"
   ]
  },
  {
   "cell_type": "code",
   "execution_count": 9,
   "metadata": {},
   "outputs": [
    {
     "name": "stdout",
     "output_type": "stream",
     "text": [
      "(9971, 44)\n"
     ]
    }
   ],
   "source": [
    "demo_df = demo_df[demo_df.columns[zero_variance_extraction(demo_df)]].copy()\n",
    "print(demo_df.shape)"
   ]
  },
  {
   "cell_type": "markdown",
   "metadata": {},
   "source": [
    "As we can see post removing zero variance we have 44 columns left for further analysis and removed below columns:\n",
    "\n",
    "    RIDSTATR : Interview and examination status of the participant.\n",
    "    SIAINTRP : Was an interpreter used to conduct the Sample Person (SP) interview?\n",
    "    SDDSRVYR : Data release cycle\n"
   ]
  },
  {
   "cell_type": "markdown",
   "metadata": {},
   "source": [
    "### Duplicate Check "
   ]
  },
  {
   "cell_type": "code",
   "execution_count": 10,
   "metadata": {},
   "outputs": [
    {
     "name": "stdout",
     "output_type": "stream",
     "text": [
      "No. of duplicate rows in data: 0\n"
     ]
    }
   ],
   "source": [
    "print(\"No. of duplicate rows in data:\", demo_df[demo_df.duplicated()].shape[0])"
   ]
  },
  {
   "cell_type": "code",
   "execution_count": 11,
   "metadata": {},
   "outputs": [
    {
     "name": "stdout",
     "output_type": "stream",
     "text": [
      "List of duplicate Columns in data: []\n"
     ]
    }
   ],
   "source": [
    "print(\"List of duplicate Columns in data:\",getDuplicateColumns(demo_df))"
   ]
  },
  {
   "cell_type": "code",
   "execution_count": 12,
   "metadata": {},
   "outputs": [
    {
     "name": "stdout",
     "output_type": "stream",
     "text": [
      "Duplicate value occurance in each column:\n",
      "**********************************\n"
     ]
    },
    {
     "data": {
      "text/plain": [
       "SEQN          0.0%\n",
       "RIAGENDR    100.0%\n",
       "RIDAGEYR     99.0%\n",
       "RIDAGEMN    100.0%\n",
       "RIDRETH1    100.0%\n",
       "RIDRETH3    100.0%\n",
       "RIDEXMON    100.0%\n",
       "RIDEXAGM     98.0%\n",
       "DMQMILIZ    100.0%\n",
       "DMQADFC     100.0%\n",
       "DMDBORN4    100.0%\n",
       "DMDCITZN    100.0%\n",
       "DMDYRSUS    100.0%\n",
       "DMDEDUC3    100.0%\n",
       "DMDEDUC2    100.0%\n",
       "DMDMARTL    100.0%\n",
       "RIDEXPRG    100.0%\n",
       "SIALANG     100.0%\n",
       "SIAPROXY    100.0%\n",
       "FIALANG     100.0%\n",
       "FIAPROXY    100.0%\n",
       "FIAINTRP    100.0%\n",
       "MIALANG     100.0%\n",
       "MIAPROXY    100.0%\n",
       "MIAINTRP    100.0%\n",
       "AIALANGA    100.0%\n",
       "DMDHHSIZ    100.0%\n",
       "DMDFMSIZ    100.0%\n",
       "DMDHHSZA    100.0%\n",
       "DMDHHSZB    100.0%\n",
       "DMDHHSZE    100.0%\n",
       "DMDHRGND    100.0%\n",
       "DMDHRAGE     99.0%\n",
       "DMDHRBR4    100.0%\n",
       "DMDHREDU    100.0%\n",
       "DMDHRMAR    100.0%\n",
       "DMDHSEDU    100.0%\n",
       "WTINT2YR     28.0%\n",
       "WTMEC2YR     22.0%\n",
       "SDMVPSU     100.0%\n",
       "SDMVSTRA    100.0%\n",
       "INDHHIN2    100.0%\n",
       "INDFMIN2    100.0%\n",
       "INDFMPIR     95.0%\n",
       "dtype: object"
      ]
     },
     "execution_count": 12,
     "metadata": {},
     "output_type": "execute_result"
    }
   ],
   "source": [
    "print(\"Duplicate value occurance in each column:\")\n",
    "print(\"**********************************\")\n",
    "demo_df.apply(lambda x:(demo_df[x.duplicated()==True].shape[0]/demo_df.shape[0])*100).apply(lambda x: str(np.round(x))+\"%\")"
   ]
  },
  {
   "cell_type": "markdown",
   "metadata": {},
   "source": [
    "    ** As we can see there are no duplicate records [Both rows/Columns] in the dataframe and the duplicate value in the individual columns suggest the columns are categorical in nature except below ones:\n",
    "    \n",
    "    SEQN : Unique identifier (None)\n",
    "    WTINT2YR : Full sample 2 year interview weight (Low)      \n",
    "    WTMEC2YR : Full sample 2 year MEC exam weight (Low)\n",
    "    "
   ]
  },
  {
   "cell_type": "markdown",
   "metadata": {},
   "source": [
    "### Data leakage check and filter"
   ]
  },
  {
   "cell_type": "code",
   "execution_count": 13,
   "metadata": {},
   "outputs": [
    {
     "data": {
      "text/plain": [
       "<matplotlib.axes._subplots.AxesSubplot at 0x7f2a1739f668>"
      ]
     },
     "execution_count": 13,
     "metadata": {},
     "output_type": "execute_result"
    },
    {
     "data": {
      "image/png": "[encoded data removed]",
      "text/plain": [
       "<Figure size 360x360 with 1 Axes>"
      ]
     },
     "metadata": {},
     "output_type": "display_data"
    }
   ],
   "source": [
    "corrMatt = pd.DataFrame(demo_df.corr()['INDHHIN2'][:])\n",
    "corrMatt['Columns'] = corrMatt.index\n",
    "corrMatt = corrMatt[corrMatt['INDHHIN2']>0.5]\n",
    "fig,ax= plt.subplots()\n",
    "fig.set_size_inches(5,5)\n",
    "sns.barplot(data=corrMatt,x='Columns',y='INDHHIN2',ax=ax,orient=\"v\")"
   ]
  },
  {
   "cell_type": "code",
   "execution_count": 14,
   "metadata": {},
   "outputs": [],
   "source": [
    "demo_df.drop(columns=['INDFMPIR','INDFMIN2'],inplace=True)"
   ]
  },
  {
   "cell_type": "markdown",
   "metadata": {},
   "source": [
    "    ** As we can observe that these 2 columns have high corelation with Target *INDHHIN2* variable:\n",
    "    All these columns will be removed from analysis and model building :\n",
    "    \n",
    "     a. INDFMPIR ‑ Ratio of family income to poverty\n",
    "     b. INDFMIN2 ‑ Annual family income"
   ]
  },
  {
   "cell_type": "markdown",
   "metadata": {},
   "source": [
    "### Missing [Null] Value Check and Treatment"
   ]
  },
  {
   "cell_type": "code",
   "execution_count": 15,
   "metadata": {},
   "outputs": [
    {
     "name": "stdout",
     "output_type": "stream",
     "text": [
      "*****************************************\n",
      " Overall Non-Missing values per columns:\n",
      "*****************************************\n"
     ]
    },
    {
     "data": {
      "text/plain": [
       "<matplotlib.axes._subplots.AxesSubplot at 0x7f2a1741c400>"
      ]
     },
     "execution_count": 15,
     "metadata": {},
     "output_type": "execute_result"
    },
    {
     "data": {
      "image/png": "[encoded data removed]",
      "text/plain": [
       "<Figure size 1440x360 with 3 Axes>"
      ]
     },
     "metadata": {},
     "output_type": "display_data"
    }
   ],
   "source": [
    "print(\"*****************************************\\n Overall Non-Missing values per columns:\\n*****************************************\")\n",
    "missingValueColumns = demo_df.columns[demo_df.isnull().any()].tolist()\n",
    "msno.bar(demo_df[missingValueColumns],\\\n",
    "            figsize=(20,5),color=(0.5, 0.5, 1),fontsize=12,labels=True,)"
   ]
  },
  {
   "cell_type": "markdown",
   "metadata": {},
   "source": [
    "#### Missing value in Target - INDHHIN2"
   ]
  },
  {
   "cell_type": "markdown",
   "metadata": {},
   "source": [
    "      **As we could see there are missing values prsent in the traget and post analsyis couldnot find any external sourcs to impute the same . So I am deleting the same records from analysis."
   ]
  },
  {
   "cell_type": "code",
   "execution_count": 16,
   "metadata": {},
   "outputs": [],
   "source": [
    "demo_df = demo_df[demo_df[\"INDHHIN2\"].isnull()==False].copy()"
   ]
  },
  {
   "cell_type": "markdown",
   "metadata": {},
   "source": [
    "### % MIssing > 80%"
   ]
  },
  {
   "cell_type": "code",
   "execution_count": 17,
   "metadata": {},
   "outputs": [
    {
     "name": "stdout",
     "output_type": "stream",
     "text": [
      "*****************************************\n",
      " Columns having Missing values >80%:\n",
      "*****************************************\n"
     ]
    },
    {
     "data": {
      "text/plain": [
       "RIDAGEMN    93.0%\n",
       "DMQADFC     95.0%\n",
       "RIDEXPRG    87.0%\n",
       "dtype: object"
      ]
     },
     "execution_count": 17,
     "metadata": {},
     "output_type": "execute_result"
    }
   ],
   "source": [
    "print(\"*****************************************\\n Columns having Missing values >80%:\\n*****************************************\")\n",
    "np.round((demo_df.isnull().sum()/demo_df.shape[0])*100).compress(lambda x : x>80).apply(lambda x : str(x)+\"%\")"
   ]
  },
  {
   "cell_type": "markdown",
   "metadata": {},
   "source": [
    "    ** As we can observe that these three columns have missing value % > 80%\n",
    "    For all these columns the following treatment logic will be used :\n",
    "    \n",
    "     a. RIDAGEMN(Age in months at screening 0to24 mos):will have a boolean indicator for missing/not\n",
    "     b. DMQADFC(Served in a foreign country):will have a boolean indicator for missing/not\n",
    "     c. RIDEXPRG(Pregnancy status at exam):will substitue missing with a separate class"
   ]
  },
  {
   "cell_type": "code",
   "execution_count": 18,
   "metadata": {},
   "outputs": [],
   "source": [
    "demo_df['is_RIDAGEMN_Present'] = np.where(demo_df.RIDAGEMN.isnull()==True,0,1).copy()\n",
    "demo_df['is_DMQADFC_Present'] = np.where(demo_df.DMQADFC.isnull()==True,0,1).copy()\n",
    "demo_df['RIDEXPRG'] = np.where(demo_df.RIDEXPRG.isnull()==True,-999,demo_df.RIDEXPRG)\n",
    "\n",
    "#remove 'RIDAGEMN','DMQADFC' as treated as separate indicator columns\n",
    "demo_df.drop(columns=['RIDAGEMN','DMQADFC'],inplace=True)"
   ]
  },
  {
   "cell_type": "markdown",
   "metadata": {},
   "source": [
    "### % Missing < 80"
   ]
  },
  {
   "cell_type": "code",
   "execution_count": 19,
   "metadata": {},
   "outputs": [
    {
     "name": "stdout",
     "output_type": "stream",
     "text": [
      "*****************************************\n",
      " Columns having Missing values < 80%:\n",
      "*****************************************\n"
     ]
    },
    {
     "data": {
      "text/plain": [
       "SEQN                    0.0%\n",
       "RIAGENDR                0.0%\n",
       "RIDAGEYR                0.0%\n",
       "RIDRETH1                0.0%\n",
       "RIDRETH3                0.0%\n",
       "RIDEXMON                4.0%\n",
       "RIDEXAGM               59.0%\n",
       "DMQMILIZ               39.0%\n",
       "DMDBORN4                0.0%\n",
       "DMDCITZN                0.0%\n",
       "DMDYRSUS               78.0%\n",
       "DMDEDUC3               73.0%\n",
       "DMDEDUC2               43.0%\n",
       "DMDMARTL               43.0%\n",
       "RIDEXPRG                0.0%\n",
       "SIALANG                 0.0%\n",
       "SIAPROXY                0.0%\n",
       "FIALANG                 0.0%\n",
       "FIAPROXY                0.0%\n",
       "FIAINTRP                0.0%\n",
       "MIALANG                30.0%\n",
       "MIAPROXY               30.0%\n",
       "MIAINTRP               30.0%\n",
       "AIALANGA               40.0%\n",
       "DMDHHSIZ                0.0%\n",
       "DMDFMSIZ                0.0%\n",
       "DMDHHSZA                0.0%\n",
       "DMDHHSZB                0.0%\n",
       "DMDHHSZE                0.0%\n",
       "DMDHRGND                0.0%\n",
       "DMDHRAGE                0.0%\n",
       "DMDHRBR4                3.0%\n",
       "DMDHREDU                3.0%\n",
       "DMDHRMAR                1.0%\n",
       "DMDHSEDU               47.0%\n",
       "WTINT2YR                0.0%\n",
       "WTMEC2YR                0.0%\n",
       "SDMVPSU                 0.0%\n",
       "SDMVSTRA                0.0%\n",
       "INDHHIN2                0.0%\n",
       "is_RIDAGEMN_Present     0.0%\n",
       "is_DMQADFC_Present      0.0%\n",
       "dtype: object"
      ]
     },
     "execution_count": 19,
     "metadata": {},
     "output_type": "execute_result"
    }
   ],
   "source": [
    "print(\"*****************************************\\n Columns having Missing values < 80%:\\n*****************************************\")\n",
    "np.round((demo_df.isnull().sum()/demo_df.shape[0])*100).compress(lambda x : x<80).apply(lambda x : str(x)+\"%\")"
   ]
  },
  {
   "cell_type": "markdown",
   "metadata": {},
   "source": [
    "     ** For columns which have < 5% of missing in columns will drop those records   "
   ]
  },
  {
   "cell_type": "markdown",
   "metadata": {},
   "source": [
    "### Treatment of variables having missing values < 5%  "
   ]
  },
  {
   "cell_type": "code",
   "execution_count": 20,
   "metadata": {},
   "outputs": [
    {
     "name": "stdout",
     "output_type": "stream",
     "text": [
      "*****************************************\n",
      " Columns having Missing values < 5%:\n",
      "*****************************************\n"
     ]
    },
    {
     "data": {
      "text/plain": [
       "RIDEXMON    4.0%\n",
       "DMDHRBR4    3.0%\n",
       "DMDHREDU    3.0%\n",
       "DMDHRMAR    1.0%\n",
       "dtype: object"
      ]
     },
     "execution_count": 20,
     "metadata": {},
     "output_type": "execute_result"
    }
   ],
   "source": [
    "print(\"*****************************************\\n Columns having Missing values < 5%:\\n*****************************************\")\n",
    "np.round((demo_df.isnull().sum()/demo_df.shape[0])*100).compress(lambda x :  (x<=5)&(x>0)).apply(lambda x : str(x)+\"%\")"
   ]
  },
  {
   "cell_type": "code",
   "execution_count": 21,
   "metadata": {},
   "outputs": [
    {
     "name": "stdout",
     "output_type": "stream",
     "text": [
      "*****************************************\n",
      " Columns having Missing values < 5%:\n",
      "*****************************************\n"
     ]
    },
    {
     "data": {
      "text/plain": [
       "Series([], dtype: float64)"
      ]
     },
     "execution_count": 21,
     "metadata": {},
     "output_type": "execute_result"
    }
   ],
   "source": [
    "missing5_cols = np.round((demo_df.isnull().sum()/demo_df.shape[0])*100).compress(lambda x : x<=5).index\n",
    "\n",
    "for col in missing5_cols:\n",
    "    demo_df = demo_df[demo_df[col].isnull()==False].copy()\n",
    "    \n",
    "print(\"*****************************************\\n Columns having Missing values < 5%:\\n*****************************************\")\n",
    "np.round((demo_df.isnull().sum()/demo_df.shape[0])*100).compress(lambda x :  (x<=5)&(x>0)).apply(lambda x : str(x)+\"%\")"
   ]
  },
  {
   "cell_type": "markdown",
   "metadata": {},
   "source": [
    "#### Based on RIDEXAGM"
   ]
  },
  {
   "cell_type": "code",
   "execution_count": 22,
   "metadata": {},
   "outputs": [
    {
     "data": {
      "text/plain": [
       "<matplotlib.axes._subplots.AxesSubplot at 0x7f2a17145438>"
      ]
     },
     "execution_count": 22,
     "metadata": {},
     "output_type": "execute_result"
    },
    {
     "data": {
      "image/png": "[encoded data removed]",
      "text/plain": [
       "<Figure size 1440x360 with 1 Axes>"
      ]
     },
     "metadata": {},
     "output_type": "display_data"
    }
   ],
   "source": [
    "demo_df.RIDEXAGM.fillna(-999).plot(kind='kde',figsize=(20,5))"
   ]
  },
  {
   "cell_type": "markdown",
   "metadata": {},
   "source": [
    "    ** As we can observe 57% of the records have missing value which can have specific meaning asociated to it. For instance, it may be the case the participant\n",
    "    at the time of examination is older than 19 yrs hence, we have so many missing values"
   ]
  },
  {
   "cell_type": "code",
   "execution_count": 23,
   "metadata": {},
   "outputs": [
    {
     "data": {
      "text/plain": [
       "(5141,)"
      ]
     },
     "execution_count": 23,
     "metadata": {},
     "output_type": "execute_result"
    }
   ],
   "source": [
    "demo_df[demo_df.RIDAGEYR > 19.0].RIDAGEYR.shape"
   ]
  },
  {
   "cell_type": "markdown",
   "metadata": {},
   "source": [
    "    ** Thus, the above number can throw some light on my hypothesis. Which leads me to impute the missing values as \"-999\" for the **RIDEXAGM** column"
   ]
  },
  {
   "cell_type": "code",
   "execution_count": 24,
   "metadata": {},
   "outputs": [],
   "source": [
    "demo_df['RIDEXAGM'] = np.where(demo_df.RIDEXAGM.isnull()==True,-999,demo_df.RIDEXAGM).copy()"
   ]
  },
  {
   "cell_type": "markdown",
   "metadata": {},
   "source": [
    "    ** Based on the manual review of the rest of the columns it seems that keeping the missing values as a separate column will make sense for the further calculation as these columns have some lift with respect to the target class. The missing value is spread across all the target class categories."
   ]
  },
  {
   "cell_type": "code",
   "execution_count": 25,
   "metadata": {},
   "outputs": [
    {
     "data": {
      "text/html": [
       "<div>\n",
       "<style scoped>\n",
       "    .dataframe tbody tr th:only-of-type {\n",
       "        vertical-align: middle;\n",
       "    }\n",
       "\n",
       "    .dataframe tbody tr th {\n",
       "        vertical-align: top;\n",
       "    }\n",
       "\n",
       "    .dataframe thead th {\n",
       "        text-align: right;\n",
       "    }\n",
       "</style>\n",
       "<table border=\"1\" class=\"dataframe\">\n",
       "  <thead>\n",
       "    <tr style=\"text-align: right;\">\n",
       "      <th>INDHHIN2</th>\n",
       "      <th>1.0</th>\n",
       "      <th>2.0</th>\n",
       "      <th>3.0</th>\n",
       "      <th>4.0</th>\n",
       "      <th>5.0</th>\n",
       "      <th>6.0</th>\n",
       "      <th>7.0</th>\n",
       "      <th>8.0</th>\n",
       "      <th>9.0</th>\n",
       "      <th>10.0</th>\n",
       "      <th>12.0</th>\n",
       "      <th>13.0</th>\n",
       "      <th>14.0</th>\n",
       "      <th>15.0</th>\n",
       "      <th>77.0</th>\n",
       "      <th>99.0</th>\n",
       "    </tr>\n",
       "    <tr>\n",
       "      <th>DMDEDUC2</th>\n",
       "      <th></th>\n",
       "      <th></th>\n",
       "      <th></th>\n",
       "      <th></th>\n",
       "      <th></th>\n",
       "      <th></th>\n",
       "      <th></th>\n",
       "      <th></th>\n",
       "      <th></th>\n",
       "      <th></th>\n",
       "      <th></th>\n",
       "      <th></th>\n",
       "      <th></th>\n",
       "      <th></th>\n",
       "      <th></th>\n",
       "      <th></th>\n",
       "    </tr>\n",
       "  </thead>\n",
       "  <tbody>\n",
       "    <tr>\n",
       "      <th>-999.0</th>\n",
       "      <td>117</td>\n",
       "      <td>143</td>\n",
       "      <td>177</td>\n",
       "      <td>232</td>\n",
       "      <td>263</td>\n",
       "      <td>401</td>\n",
       "      <td>407</td>\n",
       "      <td>306</td>\n",
       "      <td>270</td>\n",
       "      <td>202</td>\n",
       "      <td>84</td>\n",
       "      <td>52</td>\n",
       "      <td>374</td>\n",
       "      <td>675</td>\n",
       "      <td>84</td>\n",
       "      <td>38</td>\n",
       "    </tr>\n",
       "  </tbody>\n",
       "</table>\n",
       "</div>"
      ],
      "text/plain": [
       "INDHHIN2  1.0   2.0   3.0   4.0   5.0   6.0   7.0   8.0   9.0   10.0  12.0  \\\n",
       "DMDEDUC2                                                                     \n",
       "-999.0     117   143   177   232   263   401   407   306   270   202    84   \n",
       "\n",
       "INDHHIN2  13.0  14.0  15.0  77.0  99.0  \n",
       "DMDEDUC2                                \n",
       "-999.0      52   374   675    84    38  "
      ]
     },
     "execution_count": 25,
     "metadata": {},
     "output_type": "execute_result"
    }
   ],
   "source": [
    "pd.crosstab(demo_df.DMDEDUC2.fillna(-999),demo_df.INDHHIN2)[:0]"
   ]
  },
  {
   "cell_type": "code",
   "execution_count": 26,
   "metadata": {},
   "outputs": [
    {
     "name": "stdout",
     "output_type": "stream",
     "text": [
      "********************************************************\n",
      " Columns list which will be imputed with new value[-999] : \n",
      "********************************************************\n",
      " ['DMQMILIZ' 'DMDYRSUS' 'DMDEDUC3' 'DMDEDUC2' 'DMDMARTL' 'MIALANG'\n",
      " 'MIAPROXY' 'MIAINTRP' 'AIALANGA' 'DMDHSEDU']\n"
     ]
    }
   ],
   "source": [
    "missing_cat_cols = np.round((demo_df.isnull().sum()/demo_df.shape[0])*100).compress(lambda x : (x<80)&(x>0)).apply(lambda x : str(x)+\"%\").index\n",
    "print(\"********************************************************\\n Columns list which will be imputed with new value[-999] : \\n********************************************************\\n\",\n",
    "      missing_cat_cols.values)"
   ]
  },
  {
   "cell_type": "code",
   "execution_count": 27,
   "metadata": {},
   "outputs": [],
   "source": [
    "for col in missing_cat_cols:\n",
    "    demo_df[col] = np.where(demo_df[col].isnull()==True,-999,demo_df[col])"
   ]
  },
  {
   "cell_type": "markdown",
   "metadata": {},
   "source": [
    "#### Assign datatype INT to INT-columns having FLOAT datatype"
   ]
  },
  {
   "cell_type": "code",
   "execution_count": 28,
   "metadata": {},
   "outputs": [],
   "source": [
    "for c in demo_df.columns:\n",
    "    if(np.array_equal(demo_df[c].round(7), demo_df[c].astype(int))==True):\n",
    "        demo_df[c] = demo_df[c].astype(int) "
   ]
  },
  {
   "cell_type": "code",
   "execution_count": 29,
   "metadata": {},
   "outputs": [
    {
     "name": "stdout",
     "output_type": "stream",
     "text": [
      "Varibale types and count:\n",
      "******************************\n",
      "   variableType  count\n",
      "0        int64     40\n",
      "1      float64      2\n"
     ]
    }
   ],
   "source": [
    "print(\"Varibale types and count:\\n******************************\\n\", \n",
    "      pd.DataFrame(demo_df.dtypes.value_counts()).reset_index().rename(columns={\"index\":\"variableType\",0:\"count\"}))"
   ]
  },
  {
   "cell_type": "code",
   "execution_count": 30,
   "metadata": {},
   "outputs": [
    {
     "name": "stdout",
     "output_type": "stream",
     "text": [
      "demo_df shape: #rows, #columns :- (8966, 42)\n"
     ]
    }
   ],
   "source": [
    "print(\"demo_df shape: #rows, #columns :-\",demo_df.shape)"
   ]
  },
  {
   "cell_type": "code",
   "execution_count": 31,
   "metadata": {},
   "outputs": [],
   "source": [
    "demo_df.to_csv(\"demo_df.csv\",index=False)"
   ]
  },
  {
   "cell_type": "code",
   "execution_count": 32,
   "metadata": {},
   "outputs": [],
   "source": [
    "demo_df = pd.read_csv(\"./demo_df.csv\")"
   ]
  },
  {
   "cell_type": "markdown",
   "metadata": {},
   "source": [
    "# Train-Test Split"
   ]
  },
  {
   "cell_type": "markdown",
   "metadata": {},
   "source": [
    "    `** Post pre-processing is done we will split the dataframe into train and test "
   ]
  },
  {
   "cell_type": "code",
   "execution_count": 33,
   "metadata": {},
   "outputs": [],
   "source": [
    "X_train, X_test, y_train, y_test = train_test_split(demo_df.drop(columns=['INDHHIN2','SEQN']), demo_df.INDHHIN2, stratify=demo_df.INDHHIN2,\n",
    "                                                    test_size=0.2,\n",
    "                                                    random_state=9)"
   ]
  },
  {
   "cell_type": "code",
   "execution_count": 34,
   "metadata": {},
   "outputs": [
    {
     "name": "stdout",
     "output_type": "stream",
     "text": [
      "train df shape :- (7172, 40)\n",
      "test df shape :- (1794, 40)\n"
     ]
    }
   ],
   "source": [
    "print(\"train df shape :-\",X_train.shape)\n",
    "print(\"test df shape :-\",X_test.shape)"
   ]
  },
  {
   "cell_type": "code",
   "execution_count": 35,
   "metadata": {},
   "outputs": [
    {
     "name": "stdout",
     "output_type": "stream",
     "text": [
      "train target shape :- (7172,)\n",
      "test target shape :- (1794,)\n"
     ]
    }
   ],
   "source": [
    "print(\"train target shape :-\",y_train.shape)\n",
    "print(\"test target shape :-\",y_test.shape)"
   ]
  },
  {
   "cell_type": "markdown",
   "metadata": {},
   "source": [
    "# Exploratory Data Analysis"
   ]
  },
  {
   "cell_type": "markdown",
   "metadata": {},
   "source": [
    "***********************************************"
   ]
  },
  {
   "cell_type": "markdown",
   "metadata": {},
   "source": [
    "    ** For EDA purpose will merge the target column to the train-df "
   ]
  },
  {
   "cell_type": "code",
   "execution_count": 36,
   "metadata": {},
   "outputs": [],
   "source": [
    "data = pd.concat([X_train,y_train],axis=1,copy=True,ignore_index=False)"
   ]
  },
  {
   "cell_type": "markdown",
   "metadata": {},
   "source": [
    "    ** Based on the general understanding my hypothesis is the \"house-hold income\" will be depended on the education level, family size, also on the individual\n",
    "    family income as if the higher the Family income and more than one family resides in a house-hold the \"house-hold income\" is bound to be associated to it.\n",
    "    Variables assocaited with information on Citizanship or Birth country will also be of great essence as they are more likely to have some stable source of income, same for participant's served for the nation will during war or some sorts of Foregin Land Service.  "
   ]
  },
  {
   "cell_type": "markdown",
   "metadata": {},
   "source": [
    "    ** I would like to check the linear correlation/PPSCORE between the target variable and features to authenticate my hypothesis and check if thought experiment works or not. "
   ]
  },
  {
   "cell_type": "code",
   "execution_count": 37,
   "metadata": {},
   "outputs": [
    {
     "data": {
      "text/plain": [
       "<matplotlib.axes._subplots.AxesSubplot at 0x7f2a17386cc0>"
      ]
     },
     "execution_count": 37,
     "metadata": {},
     "output_type": "execute_result"
    },
    {
     "data": {
      "image/png": "[encoded data removed]",
      "text/plain": [
       "<Figure size 1440x360 with 1 Axes>"
      ]
     },
     "metadata": {},
     "output_type": "display_data"
    }
   ],
   "source": [
    "data.apply(lambda x : x.corr(data.INDHHIN2)).sort_values(ascending=False).plot(kind='bar',figsize=(20,5))"
   ]
  },
  {
   "cell_type": "code",
   "execution_count": 38,
   "metadata": {},
   "outputs": [
    {
     "data": {
      "text/plain": [
       "<matplotlib.axes._subplots.AxesSubplot at 0x7f29f6d892b0>"
      ]
     },
     "execution_count": 38,
     "metadata": {},
     "output_type": "execute_result"
    },
    {
     "data": {
      "image/png": "[encoded data removed]",
      "text/plain": [
       "<Figure size 1440x360 with 1 Axes>"
      ]
     },
     "metadata": {},
     "output_type": "display_data"
    }
   ],
   "source": [
    "pred_df=X_train.copy()\n",
    "\n",
    "pred_df['Target'] = y_train.apply(str)\n",
    "pred_df_mat  = pps.matrix(pred_df)\n",
    "pred_df_mat1 = pd.DataFrame(pred_df_mat['Target'])\n",
    "pred_df_mat1['Features'] = pred_df_mat.index\n",
    "fig,ax= plt.subplots()\n",
    "fig.set_size_inches(20,5)\n",
    "sns.barplot(data=pred_df_mat1[(pred_df_mat1['Target']>0.01) & (pred_df_mat1['Features']!='Target')].sort_values('Target'),x='Features',y='Target',ax=ax,orient=\"v\")"
   ]
  },
  {
   "cell_type": "markdown",
   "metadata": {},
   "source": [
    "    ** Simmillar to correlation , have used predictive score for each feature to verify if the features have predictive power with respect to Target variable.We could see the fetaures like DMDHRGND,RIDEXMON,SDMVPSU etc. are having good predictive power.\n",
    "    \n",
    "    The PPS is an score that can detect linear or non-linear relationships between two columns. The score ranges from 0 (no predictive power) to 1 (perfect predictive power). It can be used as an alternative to the correlation (matrix)."
   ]
  },
  {
   "cell_type": "markdown",
   "metadata": {},
   "source": [
    "    ** Looking at the results it does makes sense for these variables to have +ve correlation with the target"
   ]
  },
  {
   "cell_type": "markdown",
   "metadata": {},
   "source": [
    "## Feature Analysis (As recived from PPScore) : Top 5 Features"
   ]
  },
  {
   "cell_type": "code",
   "execution_count": 39,
   "metadata": {},
   "outputs": [
    {
     "name": "stdout",
     "output_type": "stream",
     "text": [
      "***************\n",
      " Feature Names \n",
      "***************\n",
      " \n",
      "Target Feature :  INDHHIN2\n",
      "Independent Feature :  DMDHRGND\n",
      "mode:  0    15\n",
      "dtype: int64\n",
      "================================================================================\n"
     ]
    },
    {
     "data": {
      "image/png": "[encoded data removed]",
      "text/plain": [
       "<Figure size 432x288 with 1 Axes>"
      ]
     },
     "metadata": {},
     "output_type": "display_data"
    }
   ],
   "source": [
    "categorical_summarized(data, y = 'INDHHIN2', hue='DMDHRGND')"
   ]
  },
  {
   "cell_type": "markdown",
   "metadata": {},
   "source": [
    "     ** As we could see from above at the lower side of houseincome groups ,representation of HH-female are higher, While we go more on the higher side HH-male represent more."
   ]
  },
  {
   "cell_type": "code",
   "execution_count": 40,
   "metadata": {},
   "outputs": [
    {
     "name": "stdout",
     "output_type": "stream",
     "text": [
      "***************\n",
      " Feature Names \n",
      "***************\n",
      " \n",
      "Target Feature :  INDHHIN2\n",
      "Independent Feature :  SDMVPSU\n",
      "mode:  0    15\n",
      "dtype: int64\n",
      "================================================================================\n"
     ]
    },
    {
     "data": {
      "image/png": "[encoded data removed]",
      "text/plain": [
       "<Figure size 432x288 with 1 Axes>"
      ]
     },
     "metadata": {},
     "output_type": "display_data"
    }
   ],
   "source": [
    "categorical_summarized(data, y = 'INDHHIN2', hue='SDMVPSU')"
   ]
  },
  {
   "cell_type": "code",
   "execution_count": 41,
   "metadata": {},
   "outputs": [
    {
     "name": "stdout",
     "output_type": "stream",
     "text": [
      "***************\n",
      " Feature Names \n",
      "***************\n",
      " \n",
      "Target Feature :  INDHHIN2\n",
      "Independent Feature :  RIDEXMON\n",
      "mode:  0    15\n",
      "dtype: int64\n",
      "================================================================================\n"
     ]
    },
    {
     "data": {
      "image/png": "[encoded data removed]",
      "text/plain": [
       "<Figure size 432x288 with 1 Axes>"
      ]
     },
     "metadata": {},
     "output_type": "display_data"
    }
   ],
   "source": [
    "categorical_summarized(data, y = 'INDHHIN2', hue='RIDEXMON')"
   ]
  },
  {
   "cell_type": "markdown",
   "metadata": {},
   "source": [
    "        ** As we could see from above at the the first half of the examination could had been performed at low group income first and then second haf on the examination is performed with higher income groups.This is really intresting."
   ]
  },
  {
   "cell_type": "code",
   "execution_count": 42,
   "metadata": {},
   "outputs": [
    {
     "name": "stdout",
     "output_type": "stream",
     "text": [
      "***************\n",
      " Feature Names \n",
      "***************\n",
      " \n",
      "Target Feature :  INDHHIN2\n",
      "Independent Feature :  DMDHREDU\n",
      "mode:  0    15\n",
      "dtype: int64\n",
      "================================================================================\n"
     ]
    },
    {
     "data": {
      "image/png": "[encoded data removed]",
      "text/plain": [
       "<Figure size 432x288 with 1 Axes>"
      ]
     },
     "metadata": {},
     "output_type": "display_data"
    }
   ],
   "source": [
    "categorical_summarized(data, y = 'INDHHIN2', hue='DMDHREDU')"
   ]
  },
  {
   "cell_type": "markdown",
   "metadata": {},
   "source": [
    "    ** we can observe the higher the education/Don't know of records are for higher income bracket. 1st 3 level of education groupd dominate the lower income group and middle education groups domiate the middle income groups."
   ]
  },
  {
   "cell_type": "code",
   "execution_count": 43,
   "metadata": {},
   "outputs": [
    {
     "name": "stdout",
     "output_type": "stream",
     "text": [
      "***************\n",
      " Feature Names \n",
      "***************\n",
      " \n",
      "Target Feature :  INDHHIN2\n",
      "Independent Feature :  DMDHSEDU\n",
      "mode:  0    15\n",
      "dtype: int64\n",
      "================================================================================\n"
     ]
    },
    {
     "data": {
      "image/png": "[encoded data removed]",
      "text/plain": [
       "<Figure size 432x288 with 1 Axes>"
      ]
     },
     "metadata": {},
     "output_type": "display_data"
    }
   ],
   "source": [
    "categorical_summarized(data, y = 'INDHHIN2', hue='DMDHSEDU')"
   ]
  },
  {
   "cell_type": "markdown",
   "metadata": {},
   "source": [
    "    ** we can observe the higher the education/Don't know of records are for higher middle/higher income bracket. 1st few level of education groups dominate the lower income groups and middle education groups domiate the middle income groups."
   ]
  },
  {
   "cell_type": "markdown",
   "metadata": {},
   "source": [
    "    ** It seems these features which have high correlation/PPScore with the target are mostly driven based on the information we have on the house-hold reference person  or to express in terms of simpleton i.e. one who owns the house-hold."
   ]
  },
  {
   "cell_type": "markdown",
   "metadata": {},
   "source": [
    "# Feature Engineering & selection"
   ]
  },
  {
   "cell_type": "markdown",
   "metadata": {},
   "source": [
    "*****************************************"
   ]
  },
  {
   "cell_type": "markdown",
   "metadata": {},
   "source": [
    "    ** I have created 2 datasets here:\n",
    "    \n",
    "     1. First one is based on taking all the features that we are creatinga and performing corelation filter analysis\n",
    "     \n",
    "     2. Second one is more to do with some functional analysis and applying some common domain knowledge based feature selection and general understanding."
   ]
  },
  {
   "cell_type": "markdown",
   "metadata": {},
   "source": [
    "### Data Set - 1 : Based on statical selection on all data"
   ]
  },
  {
   "cell_type": "code",
   "execution_count": 44,
   "metadata": {},
   "outputs": [],
   "source": [
    "X_train1 = X_train.copy()\n",
    "X_test1 = X_test.copy()"
   ]
  },
  {
   "cell_type": "markdown",
   "metadata": {},
   "source": [
    "#### 2nd-order Polynomial Feature Engineering"
   ]
  },
  {
   "cell_type": "code",
   "execution_count": 45,
   "metadata": {},
   "outputs": [],
   "source": [
    "poly = PolynomialFeatures(degree=2,interaction_only=True)\n",
    "poly.fit(X_train)\n",
    "poly_X = pd.DataFrame(poly.transform(X_train),columns=poly.get_feature_names(X_train.columns))"
   ]
  },
  {
   "cell_type": "code",
   "execution_count": 46,
   "metadata": {},
   "outputs": [
    {
     "data": {
      "text/plain": [
       "RIAGENDR DMDHRMAR    0.042846\n",
       "SIALANG DMDHRMAR     0.040433\n",
       "DMDHRGND DMDHRMAR    0.032879\n",
       "DMDFMSIZ DMDHRMAR    0.031537\n",
       "DMDHRMAR SDMVSTRA    0.031511\n",
       "FIAPROXY DMDHRMAR    0.031105\n",
       "DMDHRMAR             0.031077\n",
       "DMDEDUC3 DMDHHSZB    0.030579\n",
       "DMDHHSIZ DMDHRMAR    0.030518\n",
       "DMDHRAGE DMDHRMAR    0.029554\n",
       "dtype: float64"
      ]
     },
     "execution_count": 46,
     "metadata": {},
     "output_type": "execute_result"
    }
   ],
   "source": [
    "poly_X.apply(lambda x:x.corr(y_train)).sort_values(ascending = False)[:10]"
   ]
  },
  {
   "cell_type": "markdown",
   "metadata": {},
   "source": [
    "    ** In Above have created Interaction/polynomial(2nd order) features for adding in to data based upon checking the corr. value with target.Have chosen top 2 features based on corr value."
   ]
  },
  {
   "cell_type": "code",
   "execution_count": 47,
   "metadata": {},
   "outputs": [],
   "source": [
    "X_train1['DMDHHSZA*is_DMQADFC_Present'] = X_train.DMDHHSZA * X_train.is_DMQADFC_Present\n",
    "X_train1['DMQMILIZ*DMDHHSZA'] = X_train.DMQMILIZ * X_train.DMDHHSZA"
   ]
  },
  {
   "cell_type": "code",
   "execution_count": 48,
   "metadata": {},
   "outputs": [],
   "source": [
    "X_test1['DMDHHSZA*is_DMQADFC_Present'] = X_test.DMDHHSZA * X_test.is_DMQADFC_Present\n",
    "X_test1['DMQMILIZ*DMDHHSZA'] = X_test.DMQMILIZ * X_test.DMDHHSZA"
   ]
  },
  {
   "cell_type": "markdown",
   "metadata": {},
   "source": [
    "#### Feature Selection for Datset:-1, using corr filter"
   ]
  },
  {
   "cell_type": "code",
   "execution_count": 49,
   "metadata": {},
   "outputs": [
    {
     "name": "stdout",
     "output_type": "stream",
     "text": [
      "No of features to drp based on corr filter- 12\n"
     ]
    }
   ],
   "source": [
    "corr_matrix = X_train.loc[:, ~X_train.columns.isin(['tag'])].corr().abs()\n",
    "\n",
    "upper = corr_matrix.where(\n",
    "    np.triu(np.ones(corr_matrix.shape), k=1).astype(np.bool))\n",
    "\n",
    "to_drop = [column for column in upper.columns if any(upper[column] > 0.8)]\n",
    "\n",
    "print(\"No of features to drp based on corr filter-\",len(to_drop))"
   ]
  },
  {
   "cell_type": "code",
   "execution_count": 50,
   "metadata": {},
   "outputs": [],
   "source": [
    "X_train1.drop(columns=to_drop,inplace=True)\n",
    "X_test1.drop(columns=to_drop,inplace=True)"
   ]
  },
  {
   "cell_type": "markdown",
   "metadata": {},
   "source": [
    "#### Feature Selection for Datset:-1, using PPScore"
   ]
  },
  {
   "cell_type": "code",
   "execution_count": 51,
   "metadata": {},
   "outputs": [
    {
     "data": {
      "text/plain": [
       "<matplotlib.axes._subplots.AxesSubplot at 0x7f29f6ab0da0>"
      ]
     },
     "execution_count": 51,
     "metadata": {},
     "output_type": "execute_result"
    },
    {
     "data": {
      "image/png": "[encoded data removed]",
      "text/plain": [
       "<Figure size 1440x360 with 1 Axes>"
      ]
     },
     "metadata": {},
     "output_type": "display_data"
    }
   ],
   "source": [
    "pred_df=X_train1.copy()\n",
    "\n",
    "pred_df['Target'] = y_train.apply(str)\n",
    "pred_df_mat  = pps.matrix(pred_df)\n",
    "pred_df_mat1 = pd.DataFrame(pred_df_mat['Target'])\n",
    "pred_df_mat1['Features'] = pred_df_mat.index\n",
    "fig,ax= plt.subplots()\n",
    "fig.set_size_inches(20,5)\n",
    "sns.barplot(data=pred_df_mat1[(pred_df_mat1['Target']>0.01) & (pred_df_mat1['Features']!='Target')].sort_values('Target'),x='Features',y='Target',ax=ax,orient=\"v\")"
   ]
  },
  {
   "cell_type": "code",
   "execution_count": 52,
   "metadata": {},
   "outputs": [
    {
     "name": "stdout",
     "output_type": "stream",
     "text": [
      "***********************************\n",
      "Based on PPScore below features are selected\n",
      "***********************************\n",
      ":\n",
      " ['RIAGENDR' 'RIDRETH1' 'RIDEXMON' 'AIALANGA' 'DMDHHSIZ' 'DMDHRGND'\n",
      " 'DMDHRBR4' 'DMDHREDU' 'DMDHRMAR' 'DMDHSEDU' 'SDMVPSU' 'SDMVSTRA']\n"
     ]
    }
   ],
   "source": [
    "pps_cols = pred_df_mat1[(pred_df_mat1['Target']>0.01) & (pred_df_mat1['Features']!='Target')].Features.values\n",
    "print(\"***********************************\\nBased on PPScore below features are selected\\n***********************************\\n:\\n\",pps_cols)"
   ]
  },
  {
   "cell_type": "code",
   "execution_count": 53,
   "metadata": {},
   "outputs": [],
   "source": [
    "X_train1 = X_train1[pps_cols]\n",
    "X_test1 = X_test1[pps_cols]"
   ]
  },
  {
   "cell_type": "code",
   "execution_count": 54,
   "metadata": {},
   "outputs": [
    {
     "name": "stdout",
     "output_type": "stream",
     "text": [
      "Train:1 shape: #rows, #columns :- (7172, 12)\n",
      "Test:1 shape: #rows, #columns :- (1794, 12)\n"
     ]
    }
   ],
   "source": [
    "print(\"Train:1 shape: #rows, #columns :-\",X_train1.shape)\n",
    "print(\"Test:1 shape: #rows, #columns :-\",X_test1.shape)"
   ]
  },
  {
   "cell_type": "markdown",
   "metadata": {},
   "source": [
    "    ** Performed Corrleation analysis and selected reduced set of fetaures which are having greater than 80% corr value."
   ]
  },
  {
   "cell_type": "markdown",
   "metadata": {},
   "source": [
    "### Data Set - 2 : Based on Data Understanding"
   ]
  },
  {
   "cell_type": "markdown",
   "metadata": {},
   "source": [
    "    ** Intuition behind the features selected.\n",
    "    The thought process behind the selection was to isolate the attributes which will have high contribution for determining the HH income. So, based on the\n",
    "    understing the attributes directly associated to the HH reference person will have high correlation. For instance the HH ref person's age, gender , education\n",
    "    level her/hers spouse education level, country of birth and citizanship etc.\n",
    "    \n",
    "    Thus, I decided to selcet these columns.\n",
    "    Post preliminary analysis it seem the presence of missing values in few columns are having higher percentage then the rest of the category so, I decided\n",
    "    to consider a new feature stating the boolean value for the indicating the presence of missing value or not.\n",
    "    \n",
    "    ** For DMQADFC columns the hypothesis was the vetreains might have some financial stablity.\n",
    "    ** For RIDAGEMN columns missing column to indicate the presence of child in the house-hold."
   ]
  },
  {
   "cell_type": "code",
   "execution_count": 55,
   "metadata": {},
   "outputs": [
    {
     "data": {
      "text/plain": [
       "0    0.9294\n",
       "1    0.0706\n",
       "Name: is_RIDAGEMN_Present, dtype: float64"
      ]
     },
     "execution_count": 55,
     "metadata": {},
     "output_type": "execute_result"
    }
   ],
   "source": [
    "demo_df.is_RIDAGEMN_Present.value_counts(normalize=True)"
   ]
  },
  {
   "cell_type": "code",
   "execution_count": 56,
   "metadata": {},
   "outputs": [],
   "source": [
    "random_state = 9"
   ]
  },
  {
   "cell_type": "code",
   "execution_count": 57,
   "metadata": {},
   "outputs": [],
   "source": [
    "X_train2 = X_train.copy()\n",
    "X_test2 = X_test.copy()"
   ]
  },
  {
   "cell_type": "code",
   "execution_count": 58,
   "metadata": {},
   "outputs": [],
   "source": [
    "X_train2['DMDHSEDU_missing'] = np.where(X_train.DMDHSEDU==-999.0,1,0)\n",
    "X_test2['DMDHSEDU_missing'] = np.where(X_test.DMDHSEDU==-999.0,1,0)"
   ]
  },
  {
   "cell_type": "code",
   "execution_count": 59,
   "metadata": {},
   "outputs": [],
   "source": [
    "s_col = list(set(['DMDHHSIZ','DMDHHSZA','DMDHHSZB','DMDHHSZE','DMDHRGND','DMDHRBR4','DMDHREDU','DMDHRMAR',\n",
    "       'DMDHSEDU','DMDHSEDU_missing','is_RIDAGEMN_Present','is_DMQADFC_Present','RIDRETH1',\n",
    "        'DMDHRAGE'\n",
    "      ]))"
   ]
  },
  {
   "cell_type": "code",
   "execution_count": 60,
   "metadata": {},
   "outputs": [],
   "source": [
    "X_train2 = X_train2[s_col]\n",
    "X_test2 = X_test2[s_col]"
   ]
  },
  {
   "cell_type": "markdown",
   "metadata": {},
   "source": [
    "#### Feature Selection for Datset:-2"
   ]
  },
  {
   "cell_type": "code",
   "execution_count": 61,
   "metadata": {},
   "outputs": [
    {
     "data": {
      "text/plain": [
       "1"
      ]
     },
     "execution_count": 61,
     "metadata": {},
     "output_type": "execute_result"
    }
   ],
   "source": [
    "corr_matrix = X_train2.loc[:, ~X_train2.columns.isin(['tag'])].corr().abs()\n",
    "\n",
    "upper = corr_matrix.where(\n",
    "    np.triu(np.ones(corr_matrix.shape), k=1).astype(np.bool))\n",
    "\n",
    "to_drop = [column for column in upper.columns if any(upper[column] > 0.8)]\n",
    "len(to_drop)"
   ]
  },
  {
   "cell_type": "code",
   "execution_count": 62,
   "metadata": {},
   "outputs": [],
   "source": [
    "X_train2.drop(columns=to_drop,inplace=True)\n",
    "X_test2.drop(columns=to_drop,inplace=True)"
   ]
  },
  {
   "cell_type": "code",
   "execution_count": 63,
   "metadata": {},
   "outputs": [
    {
     "name": "stdout",
     "output_type": "stream",
     "text": [
      "Train:2 shape: #rows, #columns :- (7172, 13)\n",
      "Test:2 shape: #rows, #columns :- (1794, 13)\n"
     ]
    }
   ],
   "source": [
    "print(\"Train:2 shape: #rows, #columns :-\",X_train2.shape)\n",
    "print(\"Test:2 shape: #rows, #columns :-\",X_test2.shape)"
   ]
  },
  {
   "cell_type": "markdown",
   "metadata": {},
   "source": [
    "# Model Building"
   ]
  },
  {
   "cell_type": "markdown",
   "metadata": {},
   "source": [
    "*******************************************"
   ]
  },
  {
   "cell_type": "markdown",
   "metadata": {},
   "source": [
    "#### Spot Check with 3 classification Algorithm\n",
    "  1. Logistics Regression (Linear Algorithm)\n",
    "  2. Random Forest Classification (Tree Based Bagging Algorithm)\n",
    "  2. LightGBM Classification (Tree Based Boosting Algorithm)"
   ]
  },
  {
   "cell_type": "code",
   "execution_count": 64,
   "metadata": {},
   "outputs": [],
   "source": [
    "kfold = StratifiedKFold(n_splits=5)\n",
    "random_state = 9"
   ]
  },
  {
   "cell_type": "code",
   "execution_count": 65,
   "metadata": {},
   "outputs": [],
   "source": [
    "classifiers = []\n",
    "\n",
    "classifiers.append(LogisticRegression(solver='newton-cg',multi_class='ovr',random_state = random_state))\n",
    "classifiers.append(RandomForestClassifier(random_state=random_state,max_depth=15,))\n",
    "classifiers.append(lgb.LGBMClassifier(objective='multiclassova',\n",
    "                                      metric=\"multi_logloss\",\n",
    "                                      num_class= 16,\n",
    "                                      num_leaves =30,\n",
    "                                      max_depth =15,\n",
    "                                      bagging_fraction = 0.7,\n",
    "                                      feature_fraction = 0.7,\n",
    "                                      bagging_frequecy = 5,\n",
    "                                      bagging_seed = 2020,\n",
    "                                      random_state=random_state))          "
   ]
  },
  {
   "cell_type": "markdown",
   "metadata": {},
   "source": [
    "### Spot-Checking with DataSet:-1"
   ]
  },
  {
   "cell_type": "code",
   "execution_count": 66,
   "metadata": {},
   "outputs": [],
   "source": [
    "X_train = X_train1\n",
    "X_test = X_test1"
   ]
  },
  {
   "cell_type": "code",
   "execution_count": 67,
   "metadata": {},
   "outputs": [
    {
     "name": "stdout",
     "output_type": "stream",
     "text": [
      "*********************************\n",
      "Result from Spot Check Modeling with Data-1\n",
      "*********************************\n",
      "\n"
     ]
    },
    {
     "data": {
      "text/html": [
       "<div>\n",
       "<style scoped>\n",
       "    .dataframe tbody tr th:only-of-type {\n",
       "        vertical-align: middle;\n",
       "    }\n",
       "\n",
       "    .dataframe tbody tr th {\n",
       "        vertical-align: top;\n",
       "    }\n",
       "\n",
       "    .dataframe thead th {\n",
       "        text-align: right;\n",
       "    }\n",
       "</style>\n",
       "<table border=\"1\" class=\"dataframe\">\n",
       "  <thead>\n",
       "    <tr style=\"text-align: right;\">\n",
       "      <th></th>\n",
       "      <th>CVMeans_Acc</th>\n",
       "      <th>CVerrors_Acc</th>\n",
       "      <th>CVMeans_BalAcc</th>\n",
       "      <th>CVerrors_BalAcc</th>\n",
       "      <th>CVMeans_F1-wtd</th>\n",
       "      <th>CVerrors_F1-wtd</th>\n",
       "      <th>Algorithm</th>\n",
       "    </tr>\n",
       "  </thead>\n",
       "  <tbody>\n",
       "    <tr>\n",
       "      <th>0</th>\n",
       "      <td>0.223801</td>\n",
       "      <td>0.006648</td>\n",
       "      <td>0.109032</td>\n",
       "      <td>0.004605</td>\n",
       "      <td>0.144007</td>\n",
       "      <td>0.005479</td>\n",
       "      <td>LogisticRegression</td>\n",
       "    </tr>\n",
       "    <tr>\n",
       "      <th>1</th>\n",
       "      <td>0.565848</td>\n",
       "      <td>0.011509</td>\n",
       "      <td>0.524550</td>\n",
       "      <td>0.008650</td>\n",
       "      <td>0.563782</td>\n",
       "      <td>0.010654</td>\n",
       "      <td>RandomForest</td>\n",
       "    </tr>\n",
       "    <tr>\n",
       "      <th>2</th>\n",
       "      <td>0.536962</td>\n",
       "      <td>0.016315</td>\n",
       "      <td>0.504250</td>\n",
       "      <td>0.016586</td>\n",
       "      <td>0.532712</td>\n",
       "      <td>0.017087</td>\n",
       "      <td>LightGBM</td>\n",
       "    </tr>\n",
       "  </tbody>\n",
       "</table>\n",
       "</div>"
      ],
      "text/plain": [
       "   CVMeans_Acc  CVerrors_Acc  CVMeans_BalAcc  CVerrors_BalAcc  CVMeans_F1-wtd  \\\n",
       "0     0.223801      0.006648        0.109032         0.004605        0.144007   \n",
       "1     0.565848      0.011509        0.524550         0.008650        0.563782   \n",
       "2     0.536962      0.016315        0.504250         0.016586        0.532712   \n",
       "\n",
       "   CVerrors_F1-wtd           Algorithm  \n",
       "0         0.005479  LogisticRegression  \n",
       "1         0.010654        RandomForest  \n",
       "2         0.017087            LightGBM  "
      ]
     },
     "execution_count": 67,
     "metadata": {},
     "output_type": "execute_result"
    }
   ],
   "source": [
    "cv_results = []\n",
    "for classifier in classifiers :\n",
    "    cv_results.append(cross_validate(classifier, X_train, y = y_train, scoring = [\"balanced_accuracy\",\"accuracy\",\"f1_weighted\"], cv = kfold, n_jobs=-1))\n",
    "\n",
    "cv_means_accuracy_means = []\n",
    "cv_means_balanced_accuracy_means = []\n",
    "cv_means_f1_weighted_means = []\n",
    "cv_means_accuracy_std = []\n",
    "cv_means_balanced_accuracy_std = []\n",
    "cv_means_f1_weighted_std = []\n",
    "\n",
    "for cv_result in cv_results:\n",
    "    cv_means_balanced_accuracy_means.append(cv_result['test_balanced_accuracy'].mean())\n",
    "    cv_means_balanced_accuracy_std.append(cv_result['test_balanced_accuracy'].std())\n",
    "    cv_means_accuracy_means.append(cv_result['test_accuracy'].mean())\n",
    "    cv_means_accuracy_std.append(cv_result['test_accuracy'].std())\n",
    "    cv_means_f1_weighted_means.append(cv_result['test_f1_weighted'].mean())\n",
    "    cv_means_f1_weighted_std.append(cv_result['test_f1_weighted'].std())\n",
    "\n",
    "cv_res = pd.DataFrame({\"CVMeans_Acc\":cv_means_accuracy_means,\"CVerrors_Acc\": cv_means_accuracy_std ,\n",
    "                       \"CVMeans_BalAcc\":cv_means_balanced_accuracy_means,\"CVerrors_BalAcc\": cv_means_balanced_accuracy_std ,\n",
    "                       \"CVMeans_F1-wtd\":cv_means_f1_weighted_means,\"CVerrors_F1-wtd\": cv_means_f1_weighted_std \n",
    "                       ,\"Algorithm\":[\"LogisticRegression\",\"RandomForest\",\"LightGBM\"]})\n",
    "\n",
    "print(\"*********************************\\nResult from Spot Check Modeling with Data-1\\n*********************************\\n\")\n",
    "cv_res"
   ]
  },
  {
   "cell_type": "markdown",
   "metadata": {},
   "source": [
    "        ** From the result above, \n",
    "\n",
    "    1. Logitics regression perform poorly\n",
    "    2. All 3 scores from RF are good but the varinace is high compared LR and LGBM\n",
    "    3. we could see cv. balanced accuracy for LightGBM is highest with less error/std dev. compared to RF.\n",
    "    "
   ]
  },
  {
   "cell_type": "markdown",
   "metadata": {},
   "source": [
    "### Model Spot-Checking with DataSet:-2"
   ]
  },
  {
   "cell_type": "code",
   "execution_count": 68,
   "metadata": {},
   "outputs": [],
   "source": [
    "X_train = X_train2\n",
    "X_test = X_test2"
   ]
  },
  {
   "cell_type": "code",
   "execution_count": 69,
   "metadata": {},
   "outputs": [
    {
     "name": "stdout",
     "output_type": "stream",
     "text": [
      "*********************************\n",
      "Result from Spot Check Modeling with Data-2\n",
      "*********************************\n",
      "\n"
     ]
    },
    {
     "data": {
      "text/html": [
       "<div>\n",
       "<style scoped>\n",
       "    .dataframe tbody tr th:only-of-type {\n",
       "        vertical-align: middle;\n",
       "    }\n",
       "\n",
       "    .dataframe tbody tr th {\n",
       "        vertical-align: top;\n",
       "    }\n",
       "\n",
       "    .dataframe thead th {\n",
       "        text-align: right;\n",
       "    }\n",
       "</style>\n",
       "<table border=\"1\" class=\"dataframe\">\n",
       "  <thead>\n",
       "    <tr style=\"text-align: right;\">\n",
       "      <th></th>\n",
       "      <th>CVMeans_Acc</th>\n",
       "      <th>CVerrors_Acc</th>\n",
       "      <th>CVMeans_BalAcc</th>\n",
       "      <th>CVerrors_BalAcc</th>\n",
       "      <th>CVMeans_F1-wtd</th>\n",
       "      <th>CVerrors_F1-wtd</th>\n",
       "      <th>Algorithm</th>\n",
       "    </tr>\n",
       "  </thead>\n",
       "  <tbody>\n",
       "    <tr>\n",
       "      <th>0</th>\n",
       "      <td>0.229066</td>\n",
       "      <td>0.007370</td>\n",
       "      <td>0.117424</td>\n",
       "      <td>0.007743</td>\n",
       "      <td>0.160296</td>\n",
       "      <td>0.008577</td>\n",
       "      <td>LogisticRegression</td>\n",
       "    </tr>\n",
       "    <tr>\n",
       "      <th>1</th>\n",
       "      <td>0.654207</td>\n",
       "      <td>0.010185</td>\n",
       "      <td>0.625981</td>\n",
       "      <td>0.013875</td>\n",
       "      <td>0.653154</td>\n",
       "      <td>0.010172</td>\n",
       "      <td>RandomForest</td>\n",
       "    </tr>\n",
       "    <tr>\n",
       "      <th>2</th>\n",
       "      <td>0.604828</td>\n",
       "      <td>0.009514</td>\n",
       "      <td>0.589928</td>\n",
       "      <td>0.015585</td>\n",
       "      <td>0.601853</td>\n",
       "      <td>0.009177</td>\n",
       "      <td>LightGBM</td>\n",
       "    </tr>\n",
       "  </tbody>\n",
       "</table>\n",
       "</div>"
      ],
      "text/plain": [
       "   CVMeans_Acc  CVerrors_Acc  CVMeans_BalAcc  CVerrors_BalAcc  CVMeans_F1-wtd  \\\n",
       "0     0.229066      0.007370        0.117424         0.007743        0.160296   \n",
       "1     0.654207      0.010185        0.625981         0.013875        0.653154   \n",
       "2     0.604828      0.009514        0.589928         0.015585        0.601853   \n",
       "\n",
       "   CVerrors_F1-wtd           Algorithm  \n",
       "0         0.008577  LogisticRegression  \n",
       "1         0.010172        RandomForest  \n",
       "2         0.009177            LightGBM  "
      ]
     },
     "execution_count": 69,
     "metadata": {},
     "output_type": "execute_result"
    }
   ],
   "source": [
    "cv_results = []\n",
    "for classifier in classifiers :\n",
    "    cv_results.append(cross_validate(classifier, X_train, y = y_train, scoring = [\"balanced_accuracy\",\"accuracy\",\"f1_weighted\"], cv = kfold, n_jobs=-1))\n",
    "\n",
    "# cv_means = []\n",
    "# cv_std = []\n",
    "# for cv_result in cv_results:\n",
    "#     cv_means.append(cv_result.mean())\n",
    "#     cv_std.append(cv_result.std())\n",
    "\n",
    "cv_means_accuracy_means = []\n",
    "cv_means_balanced_accuracy_means = []\n",
    "cv_means_f1_weighted_means = []\n",
    "cv_means_accuracy_std = []\n",
    "cv_means_balanced_accuracy_std = []\n",
    "cv_means_f1_weighted_std = []\n",
    "\n",
    "for cv_result in cv_results:\n",
    "    cv_means_balanced_accuracy_means.append(cv_result['test_balanced_accuracy'].mean())\n",
    "    cv_means_balanced_accuracy_std.append(cv_result['test_balanced_accuracy'].std())\n",
    "    cv_means_accuracy_means.append(cv_result['test_accuracy'].mean())\n",
    "    cv_means_accuracy_std.append(cv_result['test_accuracy'].std())\n",
    "    cv_means_f1_weighted_means.append(cv_result['test_f1_weighted'].mean())\n",
    "    cv_means_f1_weighted_std.append(cv_result['test_f1_weighted'].std())\n",
    "\n",
    "cv_res = pd.DataFrame({\"CVMeans_Acc\":cv_means_accuracy_means,\"CVerrors_Acc\": cv_means_accuracy_std ,\n",
    "                       \"CVMeans_BalAcc\":cv_means_balanced_accuracy_means,\"CVerrors_BalAcc\": cv_means_balanced_accuracy_std ,\n",
    "                       \"CVMeans_F1-wtd\":cv_means_f1_weighted_means,\"CVerrors_F1-wtd\": cv_means_f1_weighted_std \n",
    "                       ,\"Algorithm\":[\"LogisticRegression\",\"RandomForest\",\"LightGBM\"]})\n",
    "\n",
    "print(\"*********************************\\nResult from Spot Check Modeling with Data-2\\n*********************************\\n\")\n",
    "cv_res"
   ]
  },
  {
   "cell_type": "markdown",
   "metadata": {},
   "source": [
    "        ** From the result above, we could see cv. balanced accuracy/accuracy/weigted F1 for LightGBM is little less than RF but error/std dev. compared to Random Forest is quite less.\n",
    "\n",
    "        Also with Dataset:1 also, we have seen LightGBM having less avg. cv error as well for RF.\n",
    "\n",
    "            So I proceed ahead with LGBM & Dataset-2, we could take LightGBM with Dataset-2 for further processing .(Hyperparatmet tuning , final model building)"
   ]
  },
  {
   "cell_type": "markdown",
   "metadata": {},
   "source": [
    "#### Hyper Parameter Tuning ###"
   ]
  },
  {
   "cell_type": "markdown",
   "metadata": {},
   "source": [
    "***********************************************************"
   ]
  },
  {
   "cell_type": "markdown",
   "metadata": {},
   "source": [
    "    ** For hyperparameter tuning , i have taken bayseian optimization approach with Hyperopt library. As from experince this works pretty fast compared to Grid-search or Random-search.Also it converges fast and tries to avoid local minima better compared to above method.LightGBM have quite a number of hyperparameters that overlap in their purpose.\n",
    "    \n",
    "    There are mainly 6 hyper-parameters , i am concentrating on, as metioned below:\n",
    "       1. num_leaves - number of leaves to try out in each tree , this is interrelated to max_depth\n",
    "       2. max_depth -  max depth to try out in each tree heirarchy\n",
    "       3. bagging_frequecy - Bagging to be performed after this frequency of iteartion\n",
    "       4. bagging_fraction - After chnage of each bagging frequency bagging fraction is changed based this no.\n",
    "       5. feature_fraction - will randomly select fraction of features on each iteration\n",
    "       6. learning_rate -determin-es the step size at each iteration while moving toward a minimum of a loss function,learning_rate parameter can be set to control the weighting of new trees added to the model.\n",
    "       7. lambda_l1 - L1 regularization in GBDTs is applied to leaf scores "
   ]
  },
  {
   "cell_type": "markdown",
   "metadata": {},
   "source": [
    "    ** For hyperparameter tuning , the objective scoring used is : Balanced accuracy is a metric that one can use when evaluating how good a multiclass classifier is. It is especially useful when the classes are imbalanced. The loss functin that is used is, multilogg_loss which is multi class cross entropy function"
   ]
  },
  {
   "cell_type": "code",
   "execution_count": 70,
   "metadata": {},
   "outputs": [],
   "source": [
    "## Hyper Parameter Optzn. Space creation\n",
    "#############################################3\n",
    "\n",
    "def objective(params):\n",
    "    params = {\n",
    "        'num_leaves': int(params['num_leaves']),\n",
    "        'max_depth': int(params['max_depth']),\n",
    "        'bagging_frequecy': int(params['bagging_frequecy']),\n",
    "        'bagging_fraction': '{:.3f}'.format(params['bagging_fraction']),\n",
    "        'feature_fraction': '{:.3f}'.format(params['feature_fraction']),\n",
    "        'learning_rate': '{:.3f}'.format(params['learning_rate']),\n",
    "        'lambda_l1' : '{:.3f}'.format(params['lambda_l1'])\n",
    "    }\n",
    "    \n",
    "    clf = lgb.LGBMClassifier(\n",
    "        random_state=random_state,\n",
    "        objective='multiclassova',\n",
    "        metric=\"multi_logloss\",\n",
    "        num_class= 16,\n",
    "        bagging_seed=2020,\n",
    "        **params\n",
    "    )\n",
    "    \n",
    "    score = cross_val_score(clf, X_train, y_train, scoring = \"f1_weighted\", cv = kfold, n_jobs=-1).mean()\n",
    "#     print(\"balanced_accuracy {:.3f} params {}\".format(score, params))\n",
    "    return -score\n",
    "\n",
    "space = {\n",
    "    'num_leaves': hp.quniform('num_leaves', 5, 50, 2),\n",
    "    'max_depth': hp.quniform('max_depth', 5, 25, 2),\n",
    "    'bagging_frequecy': hp.quniform('bagging_frequecy', 1,20,2),\n",
    "    'bagging_fraction': hp.uniform('bagging_fraction', 0.1, 1.0),\n",
    "    'feature_fraction': hp.uniform('feature_fraction', 0.1, 1.0),\n",
    "    'learning_rate': hp.uniform('learning_rate', 0.001, 0.5),\n",
    "    'lambda_l1': hp.uniform('lambda_l1', 0, 5)\n",
    "}\n"
   ]
  },
  {
   "cell_type": "code",
   "execution_count": 71,
   "metadata": {},
   "outputs": [
    {
     "data": {
      "image/png": "[encoded data removed]",
      "text/plain": [
       "<Figure size 432x288 with 1 Axes>"
      ]
     },
     "metadata": {},
     "output_type": "display_data"
    },
    {
     "name": "stdout",
     "output_type": "stream",
     "text": [
      "**********************\n",
      " Best HyperParameters \n",
      "**********************\n",
      "\n",
      "{'bagging_fraction': 0.41176281606868137, 'bagging_frequecy': 2.0, 'feature_fraction': 0.6580614161626499, 'lambda_l1': 0.21790236962967968, 'learning_rate': 0.3234050344812117, 'max_depth': 16.0, 'num_leaves': 46.0}\n",
      "\n",
      " **Best F1 Weighted Score on CV data: 0.6968005317084622\n"
     ]
    }
   ],
   "source": [
    "## Hyper Parameter Optzn.\n",
    "#############################################3\n",
    "\n",
    "tpe_trials = Trials()\n",
    "\n",
    "best_hyp = fmin(fn=objective,\n",
    "            space=space,\n",
    "            algo=tpe.suggest,\n",
    "            max_evals=200,\n",
    "            trials=tpe_trials,verbose=False,rstate= np.random.RandomState(random_state))\n",
    "\n",
    "trial=pd.DataFrame(tpe_trials.results)\n",
    "trial['Iteration'] = trial.index\n",
    "plt.plot(trial['Iteration'],trial['loss']*-1 , linewidth=2.4)\n",
    "plt.xlabel('Iteration')\n",
    "plt.ylabel('f1_weighted')\n",
    "plt.title('LGB f1_weighted Tuning')\n",
    "plt.grid(True)\n",
    "plt.show()\n",
    "\n",
    "print(\"**********************\\n Best HyperParameters \\n**********************\\n\")\n",
    "print(best_hyp)\n",
    "print(\"\\n **Best F1 Weighted Score on CV data:\",max(trial['loss']*-1))"
   ]
  },
  {
   "cell_type": "markdown",
   "metadata": {},
   "source": [
    "    ** As we can see, the best score with 200 itertaion of optimization forhyper parameter tuning is: we got a  \n",
    "    F1 Weighted : \n",
    "    \n",
    "    Taking the best hyper parameter , we train the final model with cross validation.\n",
    "            \n"
   ]
  },
  {
   "cell_type": "code",
   "execution_count": 78,
   "metadata": {},
   "outputs": [
    {
     "name": "stdout",
     "output_type": "stream",
     "text": [
      "**********************\n",
      " Score result on final model \n",
      "**********************\n",
      "\n",
      "   balanced_accuracy  accuracy  f1_weighted      Scores\n",
      "0           0.962978  0.960262     0.960268  Train Data\n",
      "1           0.699787  0.672865     0.698815   CVal Data\n",
      "2           0.683738  0.716834     0.716249   Test Data\n"
     ]
    }
   ],
   "source": [
    "## Building Final model with LGBM classifier\n",
    "## *********************************************\n",
    "\n",
    "clf = lgb.LGBMClassifier(\n",
    "        random_state=random_state,\n",
    "        learning_rate='{:.3f}'.format(best_hyp['learning_rate']),\n",
    "        objective='multiclassova',\n",
    "        metric=\"multi_logloss\",\n",
    "        num_class= 16,\n",
    "        bagging_seed=2020,\n",
    "        num_leaves =int(best_hyp['num_leaves']),\n",
    "        max_depth =int(best_hyp['max_depth']),\n",
    "        bagging_fraction = '{:.3f}'.format(best_hyp['bagging_fraction']),\n",
    "        feature_fraction = '{:.3f}'.format(best_hyp['feature_fraction']),\n",
    "        bagging_frequecy = int(best_hyp['bagging_frequecy']),\n",
    "        n_jobs=-1\n",
    "    )\n",
    "\n",
    "## Find diffrent scores on diffrent datasets:- Train , Cross Validation , Test\n",
    "clf.fit(X_train, y_train)\n",
    "\n",
    "accuracy = []\n",
    "balanced_accuracy = []\n",
    "f1_weighted = []\n",
    "\n",
    "balanced_accuracy.append(metrics.balanced_accuracy_score(y_train,clf.predict(X_train)))\n",
    "accuracy.append(metrics.accuracy_score(y_train,clf.predict(X_train)))\n",
    "f1_weighted.append(metrics.f1_score(y_train,clf.predict(X_train),average='weighted'))\n",
    "\n",
    "balanced_accuracy.append(cross_val_score(clf, X_train, y_train, scoring = \"accuracy\", cv = kfold, n_jobs=-1).mean())\n",
    "accuracy.append(cross_val_score(clf, X_train, y_train, scoring = \"balanced_accuracy\", cv = kfold, n_jobs=-1).mean())\n",
    "f1_weighted.append(cross_val_score(clf, X_train, y_train, scoring = \"f1_weighted\", cv = kfold, n_jobs=-1).mean())\n",
    "\n",
    "## Predict on Test Data and get scores:\n",
    "\n",
    "balanced_accuracy.append(metrics.balanced_accuracy_score(y_test,clf.predict(X_test)))\n",
    "accuracy.append(metrics.accuracy_score(y_test,clf.predict(X_test)))\n",
    "f1_weighted.append(metrics.f1_score(y_test,clf.predict(X_test),average='weighted'))\n",
    "\n",
    "    \n",
    "Score_Result = pd.DataFrame({\"balanced_accuracy\":balanced_accuracy,\n",
    "                       \"accuracy\":accuracy,\n",
    "                       \"f1_weighted\":f1_weighted\n",
    "                       ,\"Scores\":[\"Train Data\",\"CVal Data\",\"Test Data\"]})\n",
    "\n",
    "print(\"**********************\\n Score result on final model \\n**********************\\n\")\n",
    "print(Score_Result)"
   ]
  },
  {
   "cell_type": "markdown",
   "metadata": {},
   "source": [
    "            ** As we can see from above Classification table:-\n",
    "            The blalanced accuracy, accuracy and F1-weighted scores are very near for Cross Val Data (5 fold) and test data. Infact oaverall score is higher in test, compared to cross val data and this can be reduced if go for more no of cross validation. The train score is higher but it couldn't get reduced even with multiple iterations of hyper paramater tuning.\n",
    "\n",
    "    "
   ]
  },
  {
   "cell_type": "code",
   "execution_count": 79,
   "metadata": {},
   "outputs": [
    {
     "name": "stdout",
     "output_type": "stream",
     "text": [
      "              precision    recall  f1-score   support\n",
      "\n",
      "           1       0.68      0.65      0.67        46\n",
      "           2       0.72      0.60      0.66        68\n",
      "           3       0.63      0.66      0.65       100\n",
      "           4       0.73      0.73      0.73       113\n",
      "           5       0.70      0.65      0.67       119\n",
      "           6       0.62      0.75      0.68       194\n",
      "           7       0.77      0.76      0.77       181\n",
      "           8       0.76      0.68      0.71       146\n",
      "           9       0.79      0.68      0.73       120\n",
      "          10       0.73      0.67      0.70        92\n",
      "          12       0.75      0.60      0.67        50\n",
      "          13       0.82      0.69      0.75        26\n",
      "          14       0.68      0.72      0.70       172\n",
      "          15       0.74      0.83      0.78       306\n",
      "          77       0.82      0.71      0.76        38\n",
      "          99       0.76      0.57      0.65        23\n",
      "\n",
      "   micro avg       0.72      0.72      0.72      1794\n",
      "   macro avg       0.73      0.68      0.70      1794\n",
      "weighted avg       0.72      0.72      0.72      1794\n",
      "\n"
     ]
    }
   ],
   "source": [
    "target_names = list(y_train.unique())\n",
    "y_pred = pd.Series(clf.predict(X_test))\n",
    "print(metrics.classification_report(y_test,y_pred))"
   ]
  },
  {
   "cell_type": "markdown",
   "metadata": {},
   "source": [
    "    ** As we can see from above Classification table ,\n",
    "    1.Prediction for class -15 ($100,000 and Over) is highest as its directly identifiable from eduction and age. \n",
    "    \n",
    "    2.Simmilarly Classes - 99 , 3 are lowest in terms pf test prediction . Class 99 is lowest as it's \"Dont Know\". \n",
    "    \n",
    "    3.Rest other classes are on an avg , having scores around 0.7 .\n",
    "\n",
    "        "
   ]
  },
  {
   "cell_type": "markdown",
   "metadata": {},
   "source": [
    "# Feature Importance"
   ]
  },
  {
   "cell_type": "code",
   "execution_count": 80,
   "metadata": {},
   "outputs": [],
   "source": [
    "feature_imp = pd.DataFrame({'Value':clf.feature_importances_,'Feature':X_test.columns})\n",
    "feature_imp = feature_imp.sort_values(by=\"Value\", ascending=False).copy()"
   ]
  },
  {
   "cell_type": "code",
   "execution_count": 81,
   "metadata": {},
   "outputs": [
    {
     "data": {
      "text/plain": [
       "<matplotlib.axes._subplots.AxesSubplot at 0x7f29f6a04390>"
      ]
     },
     "execution_count": 81,
     "metadata": {},
     "output_type": "execute_result"
    },
    {
     "data": {
      "image/png": "[encoded data removed]",
      "text/plain": [
       "<Figure size 1440x360 with 1 Axes>"
      ]
     },
     "metadata": {},
     "output_type": "display_data"
    }
   ],
   "source": [
    "feature_imp.Value = feature_imp.Value.astype(float)\n",
    "feature_imp[:50].plot.bar(x=\"Feature\", y=\"Value\", figsize=(20, 5))"
   ]
  },
  {
   "cell_type": "markdown",
   "metadata": {},
   "source": [
    "    ** Thus, we can see the HH ref person's age seems to be the most import feature for predicting the HH income and intuitively it makes sense.\n",
    "    Attributes like Education,race and house-size also makes important contribution for the model to bifurcate the House Hold income bands\n",
    "    \n",
    "    1.DMDHRAGE ‑ HH ref person's age in years\n",
    "    2.DMDHREDU ‑ HH ref person's education level\n",
    "    3.DMDHHSIZ ‑ Total number of people in the Household\n",
    "    4.RIDRETH1 ‑ Race/Hispanic origin\n",
    "    5.DMDHRMAR ‑ HH ref person's marital status"
   ]
  },
  {
   "cell_type": "code",
   "execution_count": null,
   "metadata": {},
   "outputs": [],
   "source": []
  },
  {
   "cell_type": "code",
   "execution_count": null,
   "metadata": {},
   "outputs": [],
   "source": []
  },
  {
   "cell_type": "code",
   "execution_count": null,
   "metadata": {},
   "outputs": [],
   "source": []
  }
 ],
 "metadata": {
  "kernelspec": {
   "display_name": "conda_python3",
   "language": "python",
   "name": "conda_python3"
  },
  "language_info": {
   "codemirror_mode": {
    "name": "ipython",
    "version": 3
   },
   "file_extension": ".py",
   "mimetype": "text/x-python",
   "name": "python",
   "nbconvert_exporter": "python",
   "pygments_lexer": "ipython3",
   "version": "3.6.5"
  }
 },
 "nbformat": 4,
 "nbformat_minor": 4
}
